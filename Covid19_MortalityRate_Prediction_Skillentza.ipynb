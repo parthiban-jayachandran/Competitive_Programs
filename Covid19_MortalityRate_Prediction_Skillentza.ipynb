{
 "cells": [
  {
   "cell_type": "markdown",
   "metadata": {},
   "source": [
    "## Mortality Rate"
   ]
  },
  {
   "cell_type": "markdown",
   "metadata": {},
   "source": [
    "### Importing required libraries"
   ]
  },
  {
   "cell_type": "code",
   "execution_count": 1,
   "metadata": {},
   "outputs": [],
   "source": [
    "import numpy as np\n",
    "import pandas as pd\n",
    "\n",
    "from sklearn.model_selection import train_test_split\n",
    "from sklearn.preprocessing import LabelEncoder\n",
    "from sklearn.metrics import mean_squared_error, roc_auc_score, roc_curve\n",
    "import matplotlib.pyplot as plt\n",
    "import seaborn as sns\n",
    "%matplotlib inline\n",
    "\n",
    "from sklearn.model_selection import KFold, StratifiedKFold, cross_val_score\n",
    "from sklearn.preprocessing import MinMaxScaler,LabelEncoder,StandardScaler\n",
    "from sklearn.decomposition import PCA\n",
    "from sklearn.discriminant_analysis import LinearDiscriminantAnalysis as LDA\n",
    "from sklearn.linear_model import LogisticRegression,LinearRegression\n",
    "from sklearn.svm import SVC\n",
    "from sklearn.ensemble import RandomForestClassifier\n",
    "from sklearn.metrics import accuracy_score\n",
    "from sklearn import neighbors\n",
    "from sklearn.metrics import mean_squared_error \n",
    "from math import sqrt\n",
    "\n",
    "le = LabelEncoder()\n",
    "pca=PCA()\n",
    "sc=StandardScaler()\n",
    "\n",
    "import tensorflow as tf\n",
    "from tensorflow import keras\n",
    "\n",
    "import warnings\n",
    "warnings.filterwarnings('ignore')\n",
    "\n",
    "import random\n",
    "import os\n",
    "import time\n",
    "\n",
    "df_train = pd.read_excel('training_data.xlsx')\n",
    "df_test = pd.read_excel('test_data.xlsx')"
   ]
  },
  {
   "cell_type": "markdown",
   "metadata": {},
   "source": [
    "### Exploratory Data Analysis"
   ]
  },
  {
   "cell_type": "code",
   "execution_count": 2,
   "metadata": {
    "scrolled": true
   },
   "outputs": [
    {
     "data": {
      "text/plain": [
       "ID               int64\n",
       "Severity        object\n",
       "Ventilation     object\n",
       "Mean Age       float64\n",
       "% Male         float64\n",
       "                ...   \n",
       "Unnamed: 86    float64\n",
       "Unnamed: 87    float64\n",
       "Unnamed: 88    float64\n",
       "Unnamed: 89    float64\n",
       "Unnamed: 90    float64\n",
       "Length: 91, dtype: object"
      ]
     },
     "execution_count": 2,
     "metadata": {},
     "output_type": "execute_result"
    }
   ],
   "source": [
    "df_train.dtypes"
   ]
  },
  {
   "cell_type": "code",
   "execution_count": 3,
   "metadata": {},
   "outputs": [
    {
     "data": {
      "text/html": [
       "<div>\n",
       "<style scoped>\n",
       "    .dataframe tbody tr th:only-of-type {\n",
       "        vertical-align: middle;\n",
       "    }\n",
       "\n",
       "    .dataframe tbody tr th {\n",
       "        vertical-align: top;\n",
       "    }\n",
       "\n",
       "    .dataframe thead th {\n",
       "        text-align: right;\n",
       "    }\n",
       "</style>\n",
       "<table border=\"1\" class=\"dataframe\">\n",
       "  <thead>\n",
       "    <tr style=\"text-align: right;\">\n",
       "      <th></th>\n",
       "      <th>ID</th>\n",
       "      <th>Severity</th>\n",
       "      <th>Ventilation</th>\n",
       "      <th>Mean Age</th>\n",
       "      <th>% Male</th>\n",
       "      <th>Any Comorbidity</th>\n",
       "      <th>Hypertension</th>\n",
       "      <th>Diabetes</th>\n",
       "      <th>Cardiovascular Disease (incl. CAD)</th>\n",
       "      <th>Chronic obstructive lung (COPD)</th>\n",
       "      <th>...</th>\n",
       "      <th>Unnamed: 81</th>\n",
       "      <th>Unnamed: 82</th>\n",
       "      <th>Unnamed: 83</th>\n",
       "      <th>Unnamed: 84</th>\n",
       "      <th>Unnamed: 85</th>\n",
       "      <th>Unnamed: 86</th>\n",
       "      <th>Unnamed: 87</th>\n",
       "      <th>Unnamed: 88</th>\n",
       "      <th>Unnamed: 89</th>\n",
       "      <th>Unnamed: 90</th>\n",
       "    </tr>\n",
       "  </thead>\n",
       "  <tbody>\n",
       "    <tr>\n",
       "      <th>0</th>\n",
       "      <td>1</td>\n",
       "      <td>All</td>\n",
       "      <td>Both</td>\n",
       "      <td>NaN</td>\n",
       "      <td>0.6230</td>\n",
       "      <td>0.4760</td>\n",
       "      <td>0.3000</td>\n",
       "      <td>0.1900</td>\n",
       "      <td>0.0800</td>\n",
       "      <td>0.0300</td>\n",
       "      <td>...</td>\n",
       "      <td>NaN</td>\n",
       "      <td>NaN</td>\n",
       "      <td>NaN</td>\n",
       "      <td>NaN</td>\n",
       "      <td>NaN</td>\n",
       "      <td>NaN</td>\n",
       "      <td>NaN</td>\n",
       "      <td>NaN</td>\n",
       "      <td>NaN</td>\n",
       "      <td>NaN</td>\n",
       "    </tr>\n",
       "    <tr>\n",
       "      <th>1</th>\n",
       "      <td>1</td>\n",
       "      <td>Severe/Critical Only</td>\n",
       "      <td>Both</td>\n",
       "      <td>NaN</td>\n",
       "      <td>0.7037</td>\n",
       "      <td>0.6667</td>\n",
       "      <td>0.4815</td>\n",
       "      <td>0.3148</td>\n",
       "      <td>0.2407</td>\n",
       "      <td>0.0741</td>\n",
       "      <td>...</td>\n",
       "      <td>NaN</td>\n",
       "      <td>NaN</td>\n",
       "      <td>NaN</td>\n",
       "      <td>NaN</td>\n",
       "      <td>NaN</td>\n",
       "      <td>NaN</td>\n",
       "      <td>NaN</td>\n",
       "      <td>NaN</td>\n",
       "      <td>NaN</td>\n",
       "      <td>NaN</td>\n",
       "    </tr>\n",
       "    <tr>\n",
       "      <th>2</th>\n",
       "      <td>1</td>\n",
       "      <td>All</td>\n",
       "      <td>Both</td>\n",
       "      <td>NaN</td>\n",
       "      <td>0.5912</td>\n",
       "      <td>0.4015</td>\n",
       "      <td>0.2336</td>\n",
       "      <td>0.1387</td>\n",
       "      <td>0.0146</td>\n",
       "      <td>0.0146</td>\n",
       "      <td>...</td>\n",
       "      <td>NaN</td>\n",
       "      <td>NaN</td>\n",
       "      <td>NaN</td>\n",
       "      <td>NaN</td>\n",
       "      <td>NaN</td>\n",
       "      <td>NaN</td>\n",
       "      <td>NaN</td>\n",
       "      <td>NaN</td>\n",
       "      <td>NaN</td>\n",
       "      <td>NaN</td>\n",
       "    </tr>\n",
       "    <tr>\n",
       "      <th>3</th>\n",
       "      <td>2</td>\n",
       "      <td>All</td>\n",
       "      <td>Both</td>\n",
       "      <td>NaN</td>\n",
       "      <td>0.6030</td>\n",
       "      <td>NaN</td>\n",
       "      <td>NaN</td>\n",
       "      <td>0.1160</td>\n",
       "      <td>NaN</td>\n",
       "      <td>NaN</td>\n",
       "      <td>...</td>\n",
       "      <td>NaN</td>\n",
       "      <td>NaN</td>\n",
       "      <td>NaN</td>\n",
       "      <td>NaN</td>\n",
       "      <td>NaN</td>\n",
       "      <td>NaN</td>\n",
       "      <td>NaN</td>\n",
       "      <td>NaN</td>\n",
       "      <td>NaN</td>\n",
       "      <td>NaN</td>\n",
       "    </tr>\n",
       "    <tr>\n",
       "      <th>4</th>\n",
       "      <td>2</td>\n",
       "      <td>All</td>\n",
       "      <td>Both</td>\n",
       "      <td>NaN</td>\n",
       "      <td>0.6160</td>\n",
       "      <td>NaN</td>\n",
       "      <td>NaN</td>\n",
       "      <td>0.1010</td>\n",
       "      <td>NaN</td>\n",
       "      <td>NaN</td>\n",
       "      <td>...</td>\n",
       "      <td>NaN</td>\n",
       "      <td>NaN</td>\n",
       "      <td>NaN</td>\n",
       "      <td>NaN</td>\n",
       "      <td>NaN</td>\n",
       "      <td>NaN</td>\n",
       "      <td>NaN</td>\n",
       "      <td>NaN</td>\n",
       "      <td>NaN</td>\n",
       "      <td>NaN</td>\n",
       "    </tr>\n",
       "  </tbody>\n",
       "</table>\n",
       "<p>5 rows × 91 columns</p>\n",
       "</div>"
      ],
      "text/plain": [
       "   ID              Severity Ventilation  Mean Age  % Male  Any Comorbidity  \\\n",
       "0   1                   All        Both       NaN  0.6230           0.4760   \n",
       "1   1  Severe/Critical Only        Both       NaN  0.7037           0.6667   \n",
       "2   1                   All        Both       NaN  0.5912           0.4015   \n",
       "3   2                   All        Both       NaN  0.6030              NaN   \n",
       "4   2                   All        Both       NaN  0.6160              NaN   \n",
       "\n",
       "   Hypertension  Diabetes  Cardiovascular Disease (incl. CAD)  \\\n",
       "0        0.3000    0.1900                              0.0800   \n",
       "1        0.4815    0.3148                              0.2407   \n",
       "2        0.2336    0.1387                              0.0146   \n",
       "3           NaN    0.1160                                 NaN   \n",
       "4           NaN    0.1010                                 NaN   \n",
       "\n",
       "   Chronic obstructive lung (COPD)  ...  Unnamed: 81  Unnamed: 82  \\\n",
       "0                           0.0300  ...          NaN          NaN   \n",
       "1                           0.0741  ...          NaN          NaN   \n",
       "2                           0.0146  ...          NaN          NaN   \n",
       "3                              NaN  ...          NaN          NaN   \n",
       "4                              NaN  ...          NaN          NaN   \n",
       "\n",
       "   Unnamed: 83  Unnamed: 84  Unnamed: 85  Unnamed: 86  Unnamed: 87  \\\n",
       "0          NaN          NaN          NaN          NaN          NaN   \n",
       "1          NaN          NaN          NaN          NaN          NaN   \n",
       "2          NaN          NaN          NaN          NaN          NaN   \n",
       "3          NaN          NaN          NaN          NaN          NaN   \n",
       "4          NaN          NaN          NaN          NaN          NaN   \n",
       "\n",
       "   Unnamed: 88  Unnamed: 89  Unnamed: 90  \n",
       "0          NaN          NaN          NaN  \n",
       "1          NaN          NaN          NaN  \n",
       "2          NaN          NaN          NaN  \n",
       "3          NaN          NaN          NaN  \n",
       "4          NaN          NaN          NaN  \n",
       "\n",
       "[5 rows x 91 columns]"
      ]
     },
     "execution_count": 3,
     "metadata": {},
     "output_type": "execute_result"
    }
   ],
   "source": [
    "df_train.head()"
   ]
  },
  {
   "cell_type": "code",
   "execution_count": 4,
   "metadata": {
    "scrolled": true
   },
   "outputs": [
    {
     "data": {
      "text/plain": [
       "(475, 91)"
      ]
     },
     "execution_count": 4,
     "metadata": {},
     "output_type": "execute_result"
    }
   ],
   "source": [
    "df_train.shape"
   ]
  },
  {
   "cell_type": "code",
   "execution_count": 5,
   "metadata": {},
   "outputs": [
    {
     "data": {
      "text/plain": [
       "Index(['ID', 'Severity', 'Ventilation', 'Mean Age', '% Male',\n",
       "       'Any Comorbidity', 'Hypertension', 'Diabetes',\n",
       "       'Cardiovascular Disease (incl. CAD)', 'Chronic obstructive lung (COPD)',\n",
       "       'Cancer (Any)', 'Liver Disease (any)', 'Cerebrovascular Disease',\n",
       "       'Chronic kidney/renal disease', 'Other', 'Fever (temperature ≥37·3°C)',\n",
       "       'Average temperature (celsius)', 'Max temperature (celsius)',\n",
       "       'Respiratory rate > 24 breaths per min', 'Cough',\n",
       "       'Shortness of Breath (dyspnoea)', 'Headache', 'Sputum (/Expectoration)',\n",
       "       'Myalgia (Muscle Pain)', 'Fatigue', 'Diarrhoea', 'Nausea or Vomiting',\n",
       "       'Loss of Appetite/Anorexia', 'Disease Severity Asymptomatic',\n",
       "       'Disease Severity General', 'Disease Severity Severe',\n",
       "       'Disease Severity Critical', 'White Blood Cell Count (10^9/L) - Median',\n",
       "       'White Blood Cell Count (10^9/L) - LQ',\n",
       "       'White Blood Cell Count (10^9/L) - UQ',\n",
       "       'Lymphocyte Count (10^9/L) - Median', 'Lymphocyte Count (10^9/L) - LQ',\n",
       "       'Lymphocyte Count (10^9/L) - UQ', 'Platelet Count (10^9/L) - Median',\n",
       "       'Platelet Count (10^9/L) - LQ', 'Platelet Count (10^9/L) - UQ',\n",
       "       'Hemoglobin (g/L) - Median', 'Hemoglobin (g/L) - LQ',\n",
       "       'Hemoglobin (g/L) - UQ', 'Albumin (g/L)',\n",
       "       'Alanine Aminotransferase (U/L)', 'Aspartate Aminotransferase (U/L)',\n",
       "       'Antibiotic', 'Antiviral (Any)', 'Heart failure',\n",
       "       'Acute kidney injury (AKI)', 'Secondary infection/ Bacterial infection',\n",
       "       'ICU length of stay, days', 'Hospital length of stay, days',\n",
       "       'Mortality', 'Unnamed: 55', 'Unnamed: 56', 'Unnamed: 57', 'Unnamed: 58',\n",
       "       'Unnamed: 59', 'Unnamed: 60', 'Unnamed: 61', 'Unnamed: 62',\n",
       "       'Unnamed: 63', 'Unnamed: 64', 'Unnamed: 65', 'Unnamed: 66',\n",
       "       'Unnamed: 67', 'Unnamed: 68', 'Unnamed: 69', 'Unnamed: 70',\n",
       "       'Unnamed: 71', 'Unnamed: 72', 'Unnamed: 73', 'Unnamed: 74',\n",
       "       'Unnamed: 75', 'Unnamed: 76', 'Unnamed: 77', 'Unnamed: 78',\n",
       "       'Unnamed: 79', 'Unnamed: 80', 'Unnamed: 81', 'Unnamed: 82',\n",
       "       'Unnamed: 83', 'Unnamed: 84', 'Unnamed: 85', 'Unnamed: 86',\n",
       "       'Unnamed: 87', 'Unnamed: 88', 'Unnamed: 89', 'Unnamed: 90'],\n",
       "      dtype='object')"
      ]
     },
     "execution_count": 5,
     "metadata": {},
     "output_type": "execute_result"
    }
   ],
   "source": [
    "df_train.columns"
   ]
  },
  {
   "cell_type": "code",
   "execution_count": 6,
   "metadata": {},
   "outputs": [],
   "source": [
    "# Most of the rows are irrelvent so dropping the below columns\n",
    "\n",
    "df_train.drop(['Unnamed: 55', 'Unnamed: 56', 'Unnamed: 57', 'Unnamed: 58',\n",
    "       'Unnamed: 59', 'Unnamed: 60', 'Unnamed: 61', 'Unnamed: 62',\n",
    "       'Unnamed: 63', 'Unnamed: 64', 'Unnamed: 65', 'Unnamed: 66',\n",
    "       'Unnamed: 67', 'Unnamed: 68', 'Unnamed: 69', 'Unnamed: 70',\n",
    "       'Unnamed: 71', 'Unnamed: 72', 'Unnamed: 73', 'Unnamed: 74',\n",
    "       'Unnamed: 75', 'Unnamed: 76', 'Unnamed: 77', 'Unnamed: 78',\n",
    "       'Unnamed: 79', 'Unnamed: 80', 'Unnamed: 81', 'Unnamed: 82',\n",
    "       'Unnamed: 83', 'Unnamed: 84', 'Unnamed: 85', 'Unnamed: 86',\n",
    "       'Unnamed: 87', 'Unnamed: 88', 'Unnamed: 89', 'Unnamed: 90'],axis=1,inplace=True)"
   ]
  },
  {
   "cell_type": "code",
   "execution_count": 7,
   "metadata": {},
   "outputs": [],
   "source": [
    "# Replacing the relevent meaningful data and forward filling the missing values, since the missing value is less in these columns\n",
    "\n",
    "df_train['Ventilation'].replace({'Ventilation only':'Yes','Non-ventilation only':'No'},inplace=True)\n",
    "df_train['Ventilation'].ffill(inplace=True)\n",
    "\n",
    "df_train['Severity'].replace({'Severe/Critical Only':'Severe', 'Severe/critical only':'Severe','Both':'All',\n",
    "                              'Mild only':'Mild','Asymptomatic only':'Mild'},inplace=True)\n",
    "df_train['Severity'].ffill(inplace=True)"
   ]
  },
  {
   "cell_type": "code",
   "execution_count": 8,
   "metadata": {},
   "outputs": [],
   "source": [
    "# Guessing that, NaN means that patient might not be moved to ICU, so making those as 0\n",
    "df_train['ICU length of stay, days'].fillna(0,inplace=True)\n",
    "df_train['ICU length of stay, days'].replace({'na':0},inplace=True)"
   ]
  },
  {
   "cell_type": "code",
   "execution_count": 9,
   "metadata": {},
   "outputs": [],
   "source": [
    "# Basic corona hospital quarantine used to be 15 days so updated as it is. And NA as 0\n",
    "df_train['Hospital length of stay, days'].fillna(15,inplace=True)\n",
    "df_train['Hospital length of stay, days'].replace({'na':0},inplace=True)"
   ]
  },
  {
   "cell_type": "code",
   "execution_count": 10,
   "metadata": {},
   "outputs": [],
   "source": [
    "# Updated below columns as 0, since those disease are complecated, so considered the NaN as 0\n",
    "\n",
    "fillna_zeros = ['Any Comorbidity','Hypertension', 'Diabetes','Cardiovascular Disease (incl. CAD)', 'Chronic obstructive lung (COPD)','Cancer (Any)',\n",
    "         'Liver Disease (any)', 'Cerebrovascular Disease','Chronic kidney/renal disease', 'Other','Antibiotic', 'Antiviral (Any)',\n",
    "         'Heart failure','Acute kidney injury (AKI)', 'Secondary infection/ Bacterial infection']\n",
    "\n",
    "df_train[fillna_zeros] = df_train[fillna_zeros].fillna(0)"
   ]
  },
  {
   "cell_type": "code",
   "execution_count": 11,
   "metadata": {},
   "outputs": [],
   "source": [
    "# Updating the below columns with mean value. \n",
    "# These are some of the symptoms of corona, so mean value works best to fill the NaN in it\n",
    "\n",
    "mean_cols_train = ['Fever (temperature ≥37·3°C)',\n",
    "       'Average temperature (celsius)', 'Max temperature (celsius)',\n",
    "       'Respiratory rate > 24 breaths per min', 'Cough',\n",
    "       'Shortness of Breath (dyspnoea)', 'Headache', 'Sputum (/Expectoration)',\n",
    "       'Myalgia (Muscle Pain)', 'Fatigue', 'Diarrhoea', 'Nausea or Vomiting',\n",
    "       'Loss of Appetite/Anorexia', 'Disease Severity Asymptomatic',\n",
    "       'Disease Severity General', 'Disease Severity Severe',\n",
    "       'Disease Severity Critical', 'White Blood Cell Count (10^9/L) - Median',\n",
    "       'White Blood Cell Count (10^9/L) - LQ',\n",
    "       'White Blood Cell Count (10^9/L) - UQ',\n",
    "       'Lymphocyte Count (10^9/L) - Median', 'Lymphocyte Count (10^9/L) - LQ',\n",
    "       'Lymphocyte Count (10^9/L) - UQ', 'Platelet Count (10^9/L) - Median',\n",
    "       'Platelet Count (10^9/L) - LQ', 'Platelet Count (10^9/L) - UQ',\n",
    "       'Hemoglobin (g/L) - Median', 'Hemoglobin (g/L) - LQ',\n",
    "       'Hemoglobin (g/L) - UQ', 'Albumin (g/L)',\n",
    "       'Alanine Aminotransferase (U/L)', 'Aspartate Aminotransferase (U/L)', '% Male','Mean Age']\n",
    "\n",
    "df_train[mean_cols_train] = df_train[mean_cols_train].fillna(df_train[mean_cols_train].median())"
   ]
  },
  {
   "cell_type": "code",
   "execution_count": 12,
   "metadata": {
    "scrolled": false
   },
   "outputs": [],
   "source": [
    "# Considering that, NA or 0% as the patient doesn't have corona or cured. So updated as 0\n",
    "df_train['Mortality'].replace({'na':0,'0%%':0},inplace=True)"
   ]
  },
  {
   "cell_type": "code",
   "execution_count": 13,
   "metadata": {},
   "outputs": [],
   "source": [
    "# Label encoding the below column\n",
    "df_train['Severity']=le.fit_transform(df_train['Severity'])\n",
    "df_train['Ventilation']=le.fit_transform(df_train['Ventilation'])"
   ]
  },
  {
   "cell_type": "code",
   "execution_count": 14,
   "metadata": {},
   "outputs": [],
   "source": [
    "# Normalizing the below columns using min ma scale technique, since those columns are having higher values comparing to others\n",
    "mms_cols = ['Mean Age', 'Average temperature (celsius)', 'Max temperature (celsius)',\n",
    "            'Platelet Count (10^9/L) - Median', 'Platelet Count (10^9/L) - LQ', 'Platelet Count (10^9/L) - UQ', \n",
    "            'Hemoglobin (g/L) - Median', 'Hemoglobin (g/L) - LQ', 'Hemoglobin (g/L) - UQ', 'Albumin (g/L)', \n",
    "            'Alanine Aminotransferase (U/L)', 'Aspartate Aminotransferase (U/L)']\n",
    "mms=MinMaxScaler()\n",
    "df_train[mms_cols] = mms.fit_transform(df_train[mms_cols])"
   ]
  },
  {
   "cell_type": "code",
   "execution_count": 15,
   "metadata": {
    "scrolled": false
   },
   "outputs": [
    {
     "name": "stdout",
     "output_type": "stream",
     "text": [
      "ID                                            int64\n",
      "Severity                                      int32\n",
      "Ventilation                                   int32\n",
      "Mean Age                                    float64\n",
      "% Male                                      float64\n",
      "Any Comorbidity                             float64\n",
      "Hypertension                                float64\n",
      "Diabetes                                    float64\n",
      "Cardiovascular Disease (incl. CAD)          float64\n",
      "Chronic obstructive lung (COPD)             float64\n",
      "Cancer (Any)                                float64\n",
      "Liver Disease (any)                         float64\n",
      "Cerebrovascular Disease                     float64\n",
      "Chronic kidney/renal disease                float64\n",
      "Other                                       float64\n",
      "Fever (temperature ≥37·3°C)                 float64\n",
      "Average temperature (celsius)               float64\n",
      "Max temperature (celsius)                   float64\n",
      "Respiratory rate > 24 breaths per min       float64\n",
      "Cough                                       float64\n",
      "Shortness of Breath (dyspnoea)              float64\n",
      "Headache                                    float64\n",
      "Sputum (/Expectoration)                     float64\n",
      "Myalgia (Muscle Pain)                       float64\n",
      "Fatigue                                     float64\n",
      "Diarrhoea                                   float64\n",
      "Nausea or Vomiting                          float64\n",
      "Loss of Appetite/Anorexia                   float64\n",
      "Disease Severity Asymptomatic               float64\n",
      "Disease Severity General                    float64\n",
      "Disease Severity Severe                     float64\n",
      "Disease Severity Critical                   float64\n",
      "White Blood Cell Count (10^9/L) - Median    float64\n",
      "White Blood Cell Count (10^9/L) - LQ        float64\n",
      "White Blood Cell Count (10^9/L) - UQ        float64\n",
      "Lymphocyte Count (10^9/L) - Median          float64\n",
      "Lymphocyte Count (10^9/L) - LQ              float64\n",
      "Lymphocyte Count (10^9/L) - UQ              float64\n",
      "Platelet Count (10^9/L) - Median            float64\n",
      "Platelet Count (10^9/L) - LQ                float64\n",
      "Platelet Count (10^9/L) - UQ                float64\n",
      "Hemoglobin (g/L) - Median                   float64\n",
      "Hemoglobin (g/L) - LQ                       float64\n",
      "Hemoglobin (g/L) - UQ                       float64\n",
      "Albumin (g/L)                               float64\n",
      "Alanine Aminotransferase (U/L)              float64\n",
      "Aspartate Aminotransferase (U/L)            float64\n",
      "Antibiotic                                  float64\n",
      "Antiviral (Any)                             float64\n",
      "Heart failure                               float64\n",
      "Acute kidney injury (AKI)                   float64\n",
      "Secondary infection/ Bacterial infection    float64\n",
      "ICU length of stay, days                    float64\n",
      "Hospital length of stay, days               float64\n",
      "Mortality                                   float64\n",
      "dtype: object\n",
      "\n",
      "\n",
      "\n",
      "ID                                          0\n",
      "Severity                                    0\n",
      "Ventilation                                 0\n",
      "Mean Age                                    0\n",
      "% Male                                      0\n",
      "Any Comorbidity                             0\n",
      "Hypertension                                0\n",
      "Diabetes                                    0\n",
      "Cardiovascular Disease (incl. CAD)          0\n",
      "Chronic obstructive lung (COPD)             0\n",
      "Cancer (Any)                                0\n",
      "Liver Disease (any)                         0\n",
      "Cerebrovascular Disease                     0\n",
      "Chronic kidney/renal disease                0\n",
      "Other                                       0\n",
      "Fever (temperature ≥37·3°C)                 0\n",
      "Average temperature (celsius)               0\n",
      "Max temperature (celsius)                   0\n",
      "Respiratory rate > 24 breaths per min       0\n",
      "Cough                                       0\n",
      "Shortness of Breath (dyspnoea)              0\n",
      "Headache                                    0\n",
      "Sputum (/Expectoration)                     0\n",
      "Myalgia (Muscle Pain)                       0\n",
      "Fatigue                                     0\n",
      "Diarrhoea                                   0\n",
      "Nausea or Vomiting                          0\n",
      "Loss of Appetite/Anorexia                   0\n",
      "Disease Severity Asymptomatic               0\n",
      "Disease Severity General                    0\n",
      "Disease Severity Severe                     0\n",
      "Disease Severity Critical                   0\n",
      "White Blood Cell Count (10^9/L) - Median    0\n",
      "White Blood Cell Count (10^9/L) - LQ        0\n",
      "White Blood Cell Count (10^9/L) - UQ        0\n",
      "Lymphocyte Count (10^9/L) - Median          0\n",
      "Lymphocyte Count (10^9/L) - LQ              0\n",
      "Lymphocyte Count (10^9/L) - UQ              0\n",
      "Platelet Count (10^9/L) - Median            0\n",
      "Platelet Count (10^9/L) - LQ                0\n",
      "Platelet Count (10^9/L) - UQ                0\n",
      "Hemoglobin (g/L) - Median                   0\n",
      "Hemoglobin (g/L) - LQ                       0\n",
      "Hemoglobin (g/L) - UQ                       0\n",
      "Albumin (g/L)                               0\n",
      "Alanine Aminotransferase (U/L)              0\n",
      "Aspartate Aminotransferase (U/L)            0\n",
      "Antibiotic                                  0\n",
      "Antiviral (Any)                             0\n",
      "Heart failure                               0\n",
      "Acute kidney injury (AKI)                   0\n",
      "Secondary infection/ Bacterial infection    0\n",
      "ICU length of stay, days                    0\n",
      "Hospital length of stay, days               0\n",
      "Mortality                                   0\n",
      "dtype: int64\n"
     ]
    }
   ],
   "source": [
    "# Checking the dataset before injucting the model\n",
    "\n",
    "print(df_train.dtypes)\n",
    "print('\\n\\n')\n",
    "print(df_train.isnull().sum())"
   ]
  },
  {
   "cell_type": "markdown",
   "metadata": {},
   "source": [
    "#### Applying the same above techniques below"
   ]
  },
  {
   "cell_type": "code",
   "execution_count": 16,
   "metadata": {},
   "outputs": [],
   "source": [
    "df_valid=df_test"
   ]
  },
  {
   "cell_type": "code",
   "execution_count": 17,
   "metadata": {},
   "outputs": [],
   "source": [
    "df_valid['Ventilation'].replace({'Ventilation only':'Yes','Non-ventilation only':'No'},inplace=True)\n",
    "df_valid['Ventilation'].ffill(inplace=True)\n",
    "\n",
    "df_valid['Severity'].replace({'Severe/Critical Only':'Severe', 'Severe/critical only':'Severe','Both':'All',\n",
    "                              'Mild only':'Mild','Asymptomatic only':'Mild'},inplace=True)\n",
    "df_valid['Severity'].ffill(inplace=True)\n",
    "\n",
    "df_valid['ICU length of stay, days'].fillna(0,inplace=True)\n",
    "#df_valid['ICU length of stay, days'].replace({'na':0},inplace=True)\n",
    "\n",
    "df_valid['Hospital length of stay, days'].fillna(15,inplace=True)\n",
    "#df_valid['Hospital length of stay, days'].replace({'na':0},inplace=True)\n",
    "\n",
    "fillna_zeros = ['Any Comorbidity','Hypertension', 'Diabetes','Cardiovascular Disease (incl. CAD)', 'Chronic obstructive lung (COPD)','Cancer (Any)',\n",
    "         'Liver Disease (any)', 'Cerebrovascular Disease','Chronic kidney/renal disease', 'Other','Antibiotic', 'Antiviral (Any)',\n",
    "         'Heart failure','Acute kidney injury (AKI)', 'Secondary infection/ Bacterial infection']\n",
    "\n",
    "df_valid[fillna_zeros] = df_valid[fillna_zeros].fillna(0)\n",
    "\n",
    "df_valid['Albumin (g/L)'].fillna(33,inplace=True)\n",
    "\n",
    "\n",
    "mean_cols1 = ['Fever (temperature ≥37·3°C)',\n",
    "       'Average temperature (celsius)', 'Max temperature (celsius)',\n",
    "       'Respiratory rate > 24 breaths per min', 'Cough',\n",
    "       'Shortness of Breath (dyspnoea)', 'Headache', 'Sputum (/Expectoration)',\n",
    "       'Myalgia (Muscle Pain)', 'Fatigue', 'Diarrhoea', 'Nausea or Vomiting',\n",
    "       'Loss of Appetite/Anorexia', 'Disease Severity Asymptomatic',\n",
    "       'Disease Severity General', 'Disease Severity Severe',\n",
    "       'Disease Severity Critical', 'White Blood Cell Count (10^9/L) - Median',\n",
    "       'White Blood Cell Count (10^9/L) - LQ',\n",
    "       'White Blood Cell Count (10^9/L) - UQ',\n",
    "       'Lymphocyte Count (10^9/L) - Median', 'Lymphocyte Count (10^9/L) - LQ',\n",
    "       'Lymphocyte Count (10^9/L) - UQ', 'Platelet Count (10^9/L) - Median',\n",
    "       'Platelet Count (10^9/L) - LQ', 'Platelet Count (10^9/L) - UQ',\n",
    "       'Hemoglobin (g/L) - Median', 'Hemoglobin (g/L) - LQ',\n",
    "       'Hemoglobin (g/L) - UQ', 'Alanine Aminotransferase (U/L)', 'Aspartate Aminotransferase (U/L)', '% Male','Mean Age']\n",
    "\n",
    "df_valid[mean_cols1] = df_valid[mean_cols1].fillna(df_valid[mean_cols1].median())\n",
    "\n",
    "df_valid['Severity']=le.fit_transform(df_valid['Severity'])\n",
    "df_valid['Ventilation']=le.fit_transform(df_valid['Ventilation'])\n",
    "\n",
    "mms_cols = ['Mean Age', 'Average temperature (celsius)', 'Max temperature (celsius)',\n",
    "            'Platelet Count (10^9/L) - Median', 'Platelet Count (10^9/L) - LQ', 'Platelet Count (10^9/L) - UQ', \n",
    "            'Hemoglobin (g/L) - Median', 'Hemoglobin (g/L) - LQ', 'Hemoglobin (g/L) - UQ', 'Albumin (g/L)', \n",
    "            'Alanine Aminotransferase (U/L)', 'Aspartate Aminotransferase (U/L)']\n",
    "mms=MinMaxScaler()\n",
    "df_valid[mms_cols] = mms.fit_transform(df_valid[mms_cols])"
   ]
  },
  {
   "cell_type": "code",
   "execution_count": 18,
   "metadata": {},
   "outputs": [
    {
     "data": {
      "text/plain": [
       "ID                                          0\n",
       "Severity                                    0\n",
       "Ventilation                                 0\n",
       "Mean Age                                    0\n",
       "% Male                                      0\n",
       "Any Comorbidity                             0\n",
       "Hypertension                                0\n",
       "Diabetes                                    0\n",
       "Cardiovascular Disease (incl. CAD)          0\n",
       "Chronic obstructive lung (COPD)             0\n",
       "Cancer (Any)                                0\n",
       "Liver Disease (any)                         0\n",
       "Cerebrovascular Disease                     0\n",
       "Chronic kidney/renal disease                0\n",
       "Other                                       0\n",
       "Fever (temperature ≥37·3°C)                 0\n",
       "Average temperature (celsius)               0\n",
       "Max temperature (celsius)                   0\n",
       "Respiratory rate > 24 breaths per min       0\n",
       "Cough                                       0\n",
       "Shortness of Breath (dyspnoea)              0\n",
       "Headache                                    0\n",
       "Sputum (/Expectoration)                     0\n",
       "Myalgia (Muscle Pain)                       0\n",
       "Fatigue                                     0\n",
       "Diarrhoea                                   0\n",
       "Nausea or Vomiting                          0\n",
       "Loss of Appetite/Anorexia                   0\n",
       "Disease Severity Asymptomatic               0\n",
       "Disease Severity General                    0\n",
       "Disease Severity Severe                     0\n",
       "Disease Severity Critical                   0\n",
       "White Blood Cell Count (10^9/L) - Median    0\n",
       "White Blood Cell Count (10^9/L) - LQ        0\n",
       "White Blood Cell Count (10^9/L) - UQ        0\n",
       "Lymphocyte Count (10^9/L) - Median          0\n",
       "Lymphocyte Count (10^9/L) - LQ              0\n",
       "Lymphocyte Count (10^9/L) - UQ              0\n",
       "Platelet Count (10^9/L) - Median            0\n",
       "Platelet Count (10^9/L) - LQ                0\n",
       "Platelet Count (10^9/L) - UQ                0\n",
       "Hemoglobin (g/L) - Median                   0\n",
       "Hemoglobin (g/L) - LQ                       0\n",
       "Hemoglobin (g/L) - UQ                       0\n",
       "Albumin (g/L)                               0\n",
       "Alanine Aminotransferase (U/L)              0\n",
       "Aspartate Aminotransferase (U/L)            0\n",
       "Antibiotic                                  0\n",
       "Antiviral (Any)                             0\n",
       "Heart failure                               0\n",
       "Acute kidney injury (AKI)                   0\n",
       "Secondary infection/ Bacterial infection    0\n",
       "ICU length of stay, days                    0\n",
       "Hospital length of stay, days               0\n",
       "dtype: int64"
      ]
     },
     "execution_count": 18,
     "metadata": {},
     "output_type": "execute_result"
    }
   ],
   "source": [
    "df_valid.isnull().sum()"
   ]
  },
  {
   "cell_type": "code",
   "execution_count": 19,
   "metadata": {},
   "outputs": [
    {
     "data": {
      "text/plain": [
       "<matplotlib.axes._subplots.AxesSubplot at 0x29b9134eb08>"
      ]
     },
     "execution_count": 19,
     "metadata": {},
     "output_type": "execute_result"
    },
    {
     "data": {
      "image/png": "[encoded data removed]",
      "text/plain": [
       "<Figure size 432x288 with 2 Axes>"
      ]
     },
     "metadata": {
      "needs_background": "light"
     },
     "output_type": "display_data"
    }
   ],
   "source": [
    "sns.heatmap(df_train)"
   ]
  },
  {
   "cell_type": "markdown",
   "metadata": {},
   "source": [
    "#### Splitting the dataset"
   ]
  },
  {
   "cell_type": "code",
   "execution_count": 20,
   "metadata": {},
   "outputs": [],
   "source": [
    "x=df_train.drop('Mortality',axis=1)\n",
    "y=df_train['Mortality']"
   ]
  },
  {
   "cell_type": "code",
   "execution_count": 21,
   "metadata": {},
   "outputs": [],
   "source": [
    "xtrain,xtest,ytrain,ytest = train_test_split(x,y,test_size=0.2)"
   ]
  },
  {
   "cell_type": "code",
   "execution_count": 22,
   "metadata": {},
   "outputs": [
    {
     "name": "stdout",
     "output_type": "stream",
     "text": [
      "RMSE value for k=  1 is: 0.2655560204551951\n",
      "RMSE value for k=  2 is: 0.2755625824420022\n",
      "RMSE value for k=  3 is: 0.2842184317722275\n",
      "RMSE value for k=  4 is: 0.27477766131528003\n",
      "RMSE value for k=  5 is: 0.2736373320175524\n",
      "RMSE value for k=  6 is: 0.2784268673598801\n",
      "RMSE value for k=  7 is: 0.2851728328149879\n",
      "RMSE value for k=  8 is: 0.2803394910874276\n",
      "RMSE value for k=  9 is: 0.2737255067059745\n",
      "RMSE value for k=  10 is: 0.2740724452825528\n",
      "RMSE value for k=  11 is: 0.27375363491939053\n",
      "RMSE value for k=  12 is: 0.2787511309079412\n",
      "RMSE value for k=  13 is: 0.2852100254937886\n",
      "RMSE value for k=  14 is: 0.28780579403576734\n",
      "RMSE value for k=  15 is: 0.29195701037384386\n",
      "RMSE value for k=  16 is: 0.2919669499027695\n",
      "RMSE value for k=  17 is: 0.2958577441464803\n",
      "RMSE value for k=  18 is: 0.2979300365734505\n",
      "RMSE value for k=  19 is: 0.30045093678951873\n",
      "RMSE value for k=  20 is: 0.30335439583708723\n",
      "RMSE value for k=  21 is: 0.30328543509018796\n",
      "RMSE value for k=  22 is: 0.30856009514906385\n",
      "RMSE value for k=  23 is: 0.3114367072210916\n",
      "RMSE value for k=  24 is: 0.3120868496979422\n",
      "RMSE value for k=  25 is: 0.3108388866819662\n",
      "RMSE value for k=  26 is: 0.3140663968822137\n",
      "RMSE value for k=  27 is: 0.313727216611591\n",
      "RMSE value for k=  28 is: 0.3147475396169947\n",
      "RMSE value for k=  29 is: 0.31920078633811905\n",
      "RMSE value for k=  30 is: 0.3213489841132896\n",
      "RMSE value for k=  31 is: 0.3230083565155577\n",
      "RMSE value for k=  32 is: 0.32478037081709865\n",
      "RMSE value for k=  33 is: 0.3265529491105683\n",
      "RMSE value for k=  34 is: 0.3281911665689332\n",
      "RMSE value for k=  35 is: 0.33024409030847696\n",
      "RMSE value for k=  36 is: 0.3317353277054213\n",
      "RMSE value for k=  37 is: 0.33372868049717075\n",
      "RMSE value for k=  38 is: 0.33435336446389735\n",
      "RMSE value for k=  39 is: 0.33417526290235694\n",
      "RMSE value for k=  40 is: 0.3336741417831727\n",
      "RMSE value for k=  41 is: 0.3351444665467449\n",
      "RMSE value for k=  42 is: 0.33462014239204774\n",
      "RMSE value for k=  43 is: 0.33594675474862196\n",
      "RMSE value for k=  44 is: 0.3368259172994164\n",
      "RMSE value for k=  45 is: 0.3371521452858119\n",
      "RMSE value for k=  46 is: 0.338881062601015\n",
      "RMSE value for k=  47 is: 0.33900856631377146\n",
      "RMSE value for k=  48 is: 0.33855276297604403\n",
      "RMSE value for k=  49 is: 0.33962689273636154\n",
      "RMSE value for k=  50 is: 0.34027902235170415\n",
      "RMSE value for k=  51 is: 0.34085869095633964\n",
      "RMSE value for k=  52 is: 0.3403901741351728\n",
      "RMSE value for k=  53 is: 0.341452640023951\n",
      "RMSE value for k=  54 is: 0.34218831475524664\n",
      "RMSE value for k=  55 is: 0.3412649131259168\n",
      "RMSE value for k=  56 is: 0.3405097351020204\n",
      "RMSE value for k=  57 is: 0.34030949334794747\n",
      "RMSE value for k=  58 is: 0.34006542977299425\n",
      "RMSE value for k=  59 is: 0.34131760023323193\n",
      "RMSE value for k=  60 is: 0.34278799007601024\n",
      "RMSE value for k=  61 is: 0.3431989885830638\n",
      "RMSE value for k=  62 is: 0.3432051331264562\n",
      "RMSE value for k=  63 is: 0.3429919244499735\n",
      "RMSE value for k=  64 is: 0.3438523049766377\n",
      "RMSE value for k=  65 is: 0.34387865364618053\n",
      "RMSE value for k=  66 is: 0.3439730530361659\n",
      "RMSE value for k=  67 is: 0.34389624143409214\n",
      "RMSE value for k=  68 is: 0.3439788300620675\n",
      "RMSE value for k=  69 is: 0.34411212998858987\n",
      "RMSE value for k=  70 is: 0.34416364853220466\n",
      "RMSE value for k=  71 is: 0.34364256802152254\n",
      "RMSE value for k=  72 is: 0.3442629818763315\n",
      "RMSE value for k=  73 is: 0.3451910186257145\n",
      "RMSE value for k=  74 is: 0.345274278230684\n",
      "RMSE value for k=  75 is: 0.3456429519009905\n",
      "RMSE value for k=  76 is: 0.34618956692645186\n",
      "RMSE value for k=  77 is: 0.3459080837093551\n",
      "RMSE value for k=  78 is: 0.3458795384366837\n",
      "RMSE value for k=  79 is: 0.34604031583716804\n",
      "RMSE value for k=  80 is: 0.3465804712131308\n",
      "RMSE value for k=  81 is: 0.3470731785525729\n",
      "RMSE value for k=  82 is: 0.34772858557910147\n",
      "RMSE value for k=  83 is: 0.34812159565503487\n",
      "RMSE value for k=  84 is: 0.34828480124857797\n",
      "RMSE value for k=  85 is: 0.34835086401242693\n",
      "RMSE value for k=  86 is: 0.348056154158875\n",
      "RMSE value for k=  87 is: 0.34808535137111124\n",
      "RMSE value for k=  88 is: 0.3484244810456823\n",
      "RMSE value for k=  89 is: 0.3492460375858264\n",
      "RMSE value for k=  90 is: 0.3499173660922211\n",
      "RMSE value for k=  91 is: 0.3504665372590672\n",
      "RMSE value for k=  92 is: 0.35061089518993555\n",
      "RMSE value for k=  93 is: 0.35087514990185986\n",
      "RMSE value for k=  94 is: 0.3505429390929329\n",
      "RMSE value for k=  95 is: 0.3513141565940867\n",
      "RMSE value for k=  96 is: 0.35148188386944457\n",
      "RMSE value for k=  97 is: 0.352072042300449\n",
      "RMSE value for k=  98 is: 0.35194724997652765\n",
      "RMSE value for k=  99 is: 0.351770301906103\n",
      "RMSE value for k=  100 is: 0.3522262581741578\n",
      "RMSE value for k=  101 is: 0.35260240386050934\n",
      "RMSE value for k=  102 is: 0.352617923290887\n",
      "RMSE value for k=  103 is: 0.35277229703327373\n",
      "RMSE value for k=  104 is: 0.35313897673962946\n",
      "RMSE value for k=  105 is: 0.3526110780103213\n",
      "RMSE value for k=  106 is: 0.35257223177329394\n",
      "RMSE value for k=  107 is: 0.3525926135574035\n",
      "RMSE value for k=  108 is: 0.35257602351440537\n",
      "RMSE value for k=  109 is: 0.3524634917634809\n",
      "RMSE value for k=  110 is: 0.35243249558013773\n",
      "RMSE value for k=  111 is: 0.35273687375610185\n",
      "RMSE value for k=  112 is: 0.35266714433757534\n",
      "RMSE value for k=  113 is: 0.3520379718774231\n",
      "RMSE value for k=  114 is: 0.3521948142248854\n",
      "RMSE value for k=  115 is: 0.35251736632800035\n",
      "RMSE value for k=  116 is: 0.3525065722839053\n",
      "RMSE value for k=  117 is: 0.35176314302109307\n",
      "RMSE value for k=  118 is: 0.3522887983612639\n",
      "RMSE value for k=  119 is: 0.3523600407201198\n",
      "RMSE value for k=  120 is: 0.35261895477424615\n",
      "RMSE value for k=  121 is: 0.35281399051755946\n",
      "RMSE value for k=  122 is: 0.3529827440040163\n",
      "RMSE value for k=  123 is: 0.35325514440098016\n",
      "RMSE value for k=  124 is: 0.35347188151606834\n",
      "RMSE value for k=  125 is: 0.35339797248398225\n",
      "RMSE value for k=  126 is: 0.35350386714603577\n",
      "RMSE value for k=  127 is: 0.3539486909669909\n",
      "RMSE value for k=  128 is: 0.3543131462781391\n",
      "RMSE value for k=  129 is: 0.3544330013249516\n",
      "RMSE value for k=  130 is: 0.3544280041878751\n",
      "RMSE value for k=  131 is: 0.3546826661354854\n",
      "RMSE value for k=  132 is: 0.3546673014086749\n",
      "RMSE value for k=  133 is: 0.3549661000546511\n",
      "RMSE value for k=  134 is: 0.35469069330592007\n",
      "RMSE value for k=  135 is: 0.3542622703258835\n",
      "RMSE value for k=  136 is: 0.35426414827865393\n",
      "RMSE value for k=  137 is: 0.3540445326782252\n",
      "RMSE value for k=  138 is: 0.353673610199649\n",
      "RMSE value for k=  139 is: 0.3539025911743105\n",
      "RMSE value for k=  140 is: 0.3540531714696426\n",
      "RMSE value for k=  141 is: 0.35369797996608393\n",
      "RMSE value for k=  142 is: 0.3534697590996138\n",
      "RMSE value for k=  143 is: 0.3532586500250677\n",
      "RMSE value for k=  144 is: 0.3533685363902095\n",
      "RMSE value for k=  145 is: 0.35350996010807534\n",
      "RMSE value for k=  146 is: 0.35362943709127714\n",
      "RMSE value for k=  147 is: 0.353877991856943\n",
      "RMSE value for k=  148 is: 0.3541558716649741\n",
      "RMSE value for k=  149 is: 0.35392710690819146\n",
      "RMSE value for k=  150 is: 0.35387958199041036\n"
     ]
    }
   ],
   "source": [
    "rmse_val = []\n",
    "for K in range(150):\n",
    "    K = K+1\n",
    "    model = neighbors.KNeighborsRegressor(n_neighbors = K)\n",
    "\n",
    "    model.fit(xtrain, ytrain)\n",
    "    pred=model.predict(xtest)\n",
    "    error = sqrt(mean_squared_error(ytest,pred))\n",
    "    rmse_val.append(error)\n",
    "    print('RMSE value for k= ' , K , 'is:', error)"
   ]
  },
  {
   "cell_type": "code",
   "execution_count": 23,
   "metadata": {},
   "outputs": [
    {
     "data": {
      "text/plain": [
       "<matplotlib.axes._subplots.AxesSubplot at 0x29b91678fc8>"
      ]
     },
     "execution_count": 23,
     "metadata": {},
     "output_type": "execute_result"
    },
    {
     "data": {
      "image/png": "[encoded data removed]",
      "text/plain": [
       "<Figure size 432x288 with 1 Axes>"
      ]
     },
     "metadata": {
      "needs_background": "light"
     },
     "output_type": "display_data"
    }
   ],
   "source": [
    "curve = pd.DataFrame(rmse_val) #elbow curve \n",
    "curve.plot()"
   ]
  },
  {
   "cell_type": "markdown",
   "metadata": {},
   "source": [
    "#### Calculating cross value method to find the best bit model"
   ]
  },
  {
   "cell_type": "markdown",
   "metadata": {},
   "source": [
    "#### ElasticNet"
   ]
  },
  {
   "cell_type": "code",
   "execution_count": 24,
   "metadata": {},
   "outputs": [],
   "source": [
    "from sklearn.linear_model import ElasticNet\n",
    "#ElasticNet = ElasticNet(alpha=1.0, l1_ratio=0.5)"
   ]
  },
  {
   "cell_type": "code",
   "execution_count": 25,
   "metadata": {},
   "outputs": [
    {
     "data": {
      "text/plain": [
       "array([-0.00145628, -0.01778179, -0.00809296])"
      ]
     },
     "execution_count": 25,
     "metadata": {},
     "output_type": "execute_result"
    }
   ],
   "source": [
    "cross_val_score(ElasticNet(alpha=1.0, l1_ratio=0.5), xtrain, ytrain,cv=3)"
   ]
  },
  {
   "cell_type": "markdown",
   "metadata": {},
   "source": [
    "#### Ridge"
   ]
  },
  {
   "cell_type": "code",
   "execution_count": 26,
   "metadata": {},
   "outputs": [
    {
     "data": {
      "text/plain": [
       "array([ 0.18309022, -0.16450051,  0.34807879])"
      ]
     },
     "execution_count": 26,
     "metadata": {},
     "output_type": "execute_result"
    }
   ],
   "source": [
    "from sklearn.linear_model import Ridge\n",
    "cross_val_score(Ridge(alpha=0.01), xtrain, ytrain,cv=3)"
   ]
  },
  {
   "cell_type": "markdown",
   "metadata": {},
   "source": [
    "#### Lasso"
   ]
  },
  {
   "cell_type": "code",
   "execution_count": 27,
   "metadata": {},
   "outputs": [],
   "source": [
    "from sklearn.linear_model import Lasso\n",
    "lasso001 = Lasso(alpha=0.01, max_iter=10e5)"
   ]
  },
  {
   "cell_type": "code",
   "execution_count": 28,
   "metadata": {},
   "outputs": [
    {
     "data": {
      "text/plain": [
       "array([0.30847588, 0.28430206, 0.38287071])"
      ]
     },
     "execution_count": 28,
     "metadata": {},
     "output_type": "execute_result"
    }
   ],
   "source": [
    "cross_val_score(Lasso(alpha=0.01, max_iter=10e5), xtrain, ytrain,cv=3)"
   ]
  },
  {
   "cell_type": "markdown",
   "metadata": {},
   "source": [
    "#### Trying Artificial Neural Network"
   ]
  },
  {
   "cell_type": "code",
   "execution_count": 29,
   "metadata": {},
   "outputs": [
    {
     "name": "stdout",
     "output_type": "stream",
     "text": [
      "Epoch 1/100\n",
      "12/12 [==============================] - 1s 844us/step - loss: 10.0036 - accuracy: 0.2085\n",
      "Epoch 2/100\n",
      "12/12 [==============================] - 0s 2ms/step - loss: 3.5286 - accuracy: 0.4466\n",
      "Epoch 3/100\n",
      "12/12 [==============================] - 0s 2ms/step - loss: 2.7048 - accuracy: 0.5754\n",
      "Epoch 4/100\n",
      "12/12 [==============================] - 0s 994us/step - loss: 3.1479 - accuracy: 0.4542\n",
      "Epoch 5/100\n",
      "12/12 [==============================] - 0s 1ms/step - loss: 2.6056 - accuracy: 0.4807\n",
      "Epoch 6/100\n",
      "12/12 [==============================] - 0s 880us/step - loss: 2.0824 - accuracy: 0.4330\n",
      "Epoch 7/100\n",
      "12/12 [==============================] - 0s 2ms/step - loss: 2.3917 - accuracy: 0.4242\n",
      "Epoch 8/100\n",
      "12/12 [==============================] - 0s 2ms/step - loss: 2.0903 - accuracy: 0.3992\n",
      "Epoch 9/100\n",
      "12/12 [==============================] - 0s 2ms/step - loss: 1.4423 - accuracy: 0.4719\n",
      "Epoch 10/100\n",
      "12/12 [==============================] - 0s 256us/step - loss: 1.3733 - accuracy: 0.4356\n",
      "Epoch 11/100\n",
      "12/12 [==============================] - 0s 1ms/step - loss: 1.5604 - accuracy: 0.4491\n",
      "Epoch 12/100\n",
      "12/12 [==============================] - 0s 1ms/step - loss: 1.2000 - accuracy: 0.4314\n",
      "Epoch 13/100\n",
      "12/12 [==============================] - 0s 2ms/step - loss: 1.2763 - accuracy: 0.4317\n",
      "Epoch 14/100\n",
      "12/12 [==============================] - 0s 2ms/step - loss: 0.7927 - accuracy: 0.5192\n",
      "Epoch 15/100\n",
      "12/12 [==============================] - 0s 1ms/step - loss: 0.8711 - accuracy: 0.4272\n",
      "Epoch 16/100\n",
      "12/12 [==============================] - 0s 2ms/step - loss: 0.7062 - accuracy: 0.5178\n",
      "Epoch 17/100\n",
      "12/12 [==============================] - 0s 2ms/step - loss: 0.7383 - accuracy: 0.4900\n",
      "Epoch 18/100\n",
      "12/12 [==============================] - 0s 1ms/step - loss: 0.6044 - accuracy: 0.5175\n",
      "Epoch 19/100\n",
      "12/12 [==============================] - 0s 916us/step - loss: 0.6841 - accuracy: 0.5001\n",
      "Epoch 20/100\n",
      "12/12 [==============================] - 0s 2ms/step - loss: 0.6533 - accuracy: 0.5038\n",
      "Epoch 21/100\n",
      "12/12 [==============================] - 0s 1ms/step - loss: 0.5794 - accuracy: 0.5318\n",
      "Epoch 22/100\n",
      "12/12 [==============================] - 0s 1ms/step - loss: 0.5074 - accuracy: 0.5242\n",
      "Epoch 23/100\n",
      "12/12 [==============================] - 0s 1ms/step - loss: 0.6490 - accuracy: 0.4930\n",
      "Epoch 24/100\n",
      "12/12 [==============================] - 0s 2ms/step - loss: 0.6615 - accuracy: 0.4746\n",
      "Epoch 25/100\n",
      "12/12 [==============================] - 0s 2ms/step - loss: 0.5171 - accuracy: 0.4878\n",
      "Epoch 26/100\n",
      "12/12 [==============================] - 0s 2ms/step - loss: 0.6122 - accuracy: 0.5046\n",
      "Epoch 27/100\n",
      "12/12 [==============================] - 0s 2ms/step - loss: 0.5220 - accuracy: 0.5133\n",
      "Epoch 28/100\n",
      "12/12 [==============================] - 0s 1ms/step - loss: 0.4794 - accuracy: 0.4923\n",
      "Epoch 29/100\n",
      "12/12 [==============================] - 0s 2ms/step - loss: 0.5199 - accuracy: 0.5244\n",
      "Epoch 30/100\n",
      "12/12 [==============================] - 0s 1ms/step - loss: 0.5233 - accuracy: 0.5330\n",
      "Epoch 31/100\n",
      "12/12 [==============================] - 0s 2ms/step - loss: 0.5025 - accuracy: 0.5508\n",
      "Epoch 32/100\n",
      "12/12 [==============================] - 0s 2ms/step - loss: 0.4926 - accuracy: 0.5199\n",
      "Epoch 33/100\n",
      "12/12 [==============================] - 0s 2ms/step - loss: 0.5356 - accuracy: 0.5203\n",
      "Epoch 34/100\n",
      "12/12 [==============================] - 0s 2ms/step - loss: 0.5383 - accuracy: 0.5214\n",
      "Epoch 35/100\n",
      "12/12 [==============================] - 0s 368us/step - loss: 0.4475 - accuracy: 0.5057\n",
      "Epoch 36/100\n",
      "12/12 [==============================] - 0s 2ms/step - loss: 0.5162 - accuracy: 0.4784\n",
      "Epoch 37/100\n",
      "12/12 [==============================] - 0s 1ms/step - loss: 0.4919 - accuracy: 0.5151\n",
      "Epoch 38/100\n",
      "12/12 [==============================] - 0s 2ms/step - loss: 0.4737 - accuracy: 0.5321\n",
      "Epoch 39/100\n",
      "12/12 [==============================] - 0s 2ms/step - loss: 0.4599 - accuracy: 0.5263\n",
      "Epoch 40/100\n",
      "12/12 [==============================] - 0s 2ms/step - loss: 0.4803 - accuracy: 0.5194\n",
      "Epoch 41/100\n",
      "12/12 [==============================] - 0s 2ms/step - loss: 0.4640 - accuracy: 0.5291\n",
      "Epoch 42/100\n",
      "12/12 [==============================] - 0s 2ms/step - loss: 0.4818 - accuracy: 0.5066\n",
      "Epoch 43/100\n",
      "12/12 [==============================] - 0s 2ms/step - loss: 0.4559 - accuracy: 0.5274\n",
      "Epoch 44/100\n",
      "12/12 [==============================] - 0s 2ms/step - loss: 0.4758 - accuracy: 0.5179\n",
      "Epoch 45/100\n",
      "12/12 [==============================] - 0s 1ms/step - loss: 0.4884 - accuracy: 0.5158\n",
      "Epoch 46/100\n",
      "12/12 [==============================] - 0s 1ms/step - loss: 0.4893 - accuracy: 0.5231\n",
      "Epoch 47/100\n",
      "12/12 [==============================] - 0s 2ms/step - loss: 0.4650 - accuracy: 0.5251\n",
      "Epoch 48/100\n",
      "12/12 [==============================] - 0s 2ms/step - loss: 0.4490 - accuracy: 0.5240\n",
      "Epoch 49/100\n",
      "12/12 [==============================] - 0s 2ms/step - loss: 0.4857 - accuracy: 0.4857\n",
      "Epoch 50/100\n",
      "12/12 [==============================] - 0s 2ms/step - loss: 0.4816 - accuracy: 0.5235\n",
      "Epoch 51/100\n",
      "12/12 [==============================] - 0s 2ms/step - loss: 0.4672 - accuracy: 0.5156\n",
      "Epoch 52/100\n",
      "12/12 [==============================] - 0s 2ms/step - loss: 0.4490 - accuracy: 0.5304\n",
      "Epoch 53/100\n",
      "12/12 [==============================] - 0s 2ms/step - loss: 0.4281 - accuracy: 0.5541\n",
      "Epoch 54/100\n",
      "12/12 [==============================] - 0s 2ms/step - loss: 0.4059 - accuracy: 0.5531\n",
      "Epoch 55/100\n",
      "12/12 [==============================] - 0s 1ms/step - loss: 0.4450 - accuracy: 0.5221\n",
      "Epoch 56/100\n",
      "12/12 [==============================] - 0s 1ms/step - loss: 0.4386 - accuracy: 0.5310\n",
      "Epoch 57/100\n",
      "12/12 [==============================] - 0s 1ms/step - loss: 0.4524 - accuracy: 0.5022\n",
      "Epoch 58/100\n",
      "12/12 [==============================] - 0s 976us/step - loss: 0.4436 - accuracy: 0.4923\n",
      "Epoch 59/100\n",
      "12/12 [==============================] - 0s 2ms/step - loss: 0.4667 - accuracy: 0.5641\n",
      "Epoch 60/100\n",
      "12/12 [==============================] - 0s 747us/step - loss: 0.4361 - accuracy: 0.5125\n",
      "Epoch 61/100\n",
      "12/12 [==============================] - 0s 1ms/step - loss: 0.4468 - accuracy: 0.5200\n",
      "Epoch 62/100\n",
      "12/12 [==============================] - 0s 453us/step - loss: 0.4606 - accuracy: 0.5385\n",
      "Epoch 63/100\n",
      "12/12 [==============================] - 0s 712us/step - loss: 0.4036 - accuracy: 0.5364\n",
      "Epoch 64/100\n",
      "12/12 [==============================] - 0s 2ms/step - loss: 0.5000 - accuracy: 0.5013\n",
      "Epoch 65/100\n",
      "12/12 [==============================] - 0s 740us/step - loss: 0.4084 - accuracy: 0.5627\n",
      "Epoch 66/100\n",
      "12/12 [==============================] - 0s 2ms/step - loss: 0.4293 - accuracy: 0.5305\n",
      "Epoch 67/100\n",
      "12/12 [==============================] - 0s 531us/step - loss: 0.4269 - accuracy: 0.5594\n",
      "Epoch 68/100\n",
      "12/12 [==============================] - 0s 2ms/step - loss: 0.4469 - accuracy: 0.5474\n",
      "Epoch 69/100\n",
      "12/12 [==============================] - 0s 2ms/step - loss: 0.4601 - accuracy: 0.5136\n",
      "Epoch 70/100\n",
      "12/12 [==============================] - 0s 2ms/step - loss: 0.3820 - accuracy: 0.5460\n",
      "Epoch 71/100\n",
      "12/12 [==============================] - 0s 2ms/step - loss: 0.4644 - accuracy: 0.5206\n",
      "Epoch 72/100\n",
      "12/12 [==============================] - 0s 990us/step - loss: 0.3991 - accuracy: 0.5516\n",
      "Epoch 73/100\n",
      "12/12 [==============================] - 0s 2ms/step - loss: 0.3775 - accuracy: 0.5507\n",
      "Epoch 74/100\n",
      "12/12 [==============================] - 0s 2ms/step - loss: 0.4328 - accuracy: 0.4973\n",
      "Epoch 75/100\n",
      "12/12 [==============================] - 0s 1ms/step - loss: 0.4364 - accuracy: 0.5332\n",
      "Epoch 76/100\n",
      "12/12 [==============================] - 0s 1ms/step - loss: 0.4230 - accuracy: 0.5452\n",
      "Epoch 77/100\n",
      "12/12 [==============================] - 0s 2ms/step - loss: 0.4007 - accuracy: 0.5382\n",
      "Epoch 78/100\n",
      "12/12 [==============================] - 0s 1ms/step - loss: 0.4117 - accuracy: 0.5450\n",
      "Epoch 79/100\n",
      "12/12 [==============================] - 0s 2ms/step - loss: 0.4093 - accuracy: 0.5495\n",
      "Epoch 80/100\n",
      "12/12 [==============================] - 0s 1ms/step - loss: 0.4199 - accuracy: 0.5134\n",
      "Epoch 81/100\n",
      "12/12 [==============================] - 0s 2ms/step - loss: 0.4020 - accuracy: 0.5343\n",
      "Epoch 82/100\n"
     ]
    },
    {
     "name": "stdout",
     "output_type": "stream",
     "text": [
      "12/12 [==============================] - 0s 3ms/step - loss: 0.3852 - accuracy: 0.5649\n",
      "Epoch 83/100\n",
      "12/12 [==============================] - 0s 1ms/step - loss: 0.4503 - accuracy: 0.5201\n",
      "Epoch 84/100\n",
      "12/12 [==============================] - 0s 2ms/step - loss: 0.4106 - accuracy: 0.5433\n",
      "Epoch 85/100\n",
      "12/12 [==============================] - 0s 2ms/step - loss: 0.4163 - accuracy: 0.5347\n",
      "Epoch 86/100\n",
      "12/12 [==============================] - 0s 2ms/step - loss: 0.4030 - accuracy: 0.5671\n",
      "Epoch 87/100\n",
      "12/12 [==============================] - 0s 2ms/step - loss: 0.4585 - accuracy: 0.5042\n",
      "Epoch 88/100\n",
      "12/12 [==============================] - 0s 2ms/step - loss: 0.4224 - accuracy: 0.5232\n",
      "Epoch 89/100\n",
      "12/12 [==============================] - 0s 2ms/step - loss: 0.4044 - accuracy: 0.5486\n",
      "Epoch 90/100\n",
      "12/12 [==============================] - 0s 2ms/step - loss: 0.4037 - accuracy: 0.5537\n",
      "Epoch 91/100\n",
      "12/12 [==============================] - 0s 1ms/step - loss: 0.3710 - accuracy: 0.5701\n",
      "Epoch 92/100\n",
      "12/12 [==============================] - 0s 1ms/step - loss: 0.4247 - accuracy: 0.5214\n",
      "Epoch 93/100\n",
      "12/12 [==============================] - 0s 2ms/step - loss: 0.4028 - accuracy: 0.5505\n",
      "Epoch 94/100\n",
      "12/12 [==============================] - 0s 2ms/step - loss: 0.3988 - accuracy: 0.5439\n",
      "Epoch 95/100\n",
      "12/12 [==============================] - 0s 2ms/step - loss: 0.3966 - accuracy: 0.5458\n",
      "Epoch 96/100\n",
      "12/12 [==============================] - 0s 2ms/step - loss: 0.4052 - accuracy: 0.5399\n",
      "Epoch 97/100\n",
      "12/12 [==============================] - 0s 2ms/step - loss: 0.4087 - accuracy: 0.5587\n",
      "Epoch 98/100\n",
      "12/12 [==============================] - 0s 2ms/step - loss: 0.4116 - accuracy: 0.5529\n",
      "Epoch 99/100\n",
      "12/12 [==============================] - 0s 2ms/step - loss: 0.4292 - accuracy: 0.5216\n",
      "Epoch 100/100\n",
      "12/12 [==============================] - 0s 1ms/step - loss: 0.3717 - accuracy: 0.5808\n"
     ]
    },
    {
     "data": {
      "text/plain": [
       "<tensorflow.python.keras.callbacks.History at 0x29b917e4a48>"
      ]
     },
     "execution_count": 29,
     "metadata": {},
     "output_type": "execute_result"
    }
   ],
   "source": [
    "ann = keras.Sequential([\n",
    "    keras.layers.Dense(54, input_shape=(54,),activation='relu'),\n",
    "    keras.layers.Dropout(0.2),\n",
    "    keras.layers.Dense(22,activation='relu'),\n",
    "    keras.layers.Dropout(0.2),\n",
    "    keras.layers.Dense(1,activation='sigmoid')\n",
    "])\n",
    "\n",
    "ann.compile(optimizer='adam',\n",
    "           loss='binary_crossentropy',\n",
    "           metrics=['accuracy'])\n",
    "\n",
    "ann.fit(xtrain, ytrain,epochs=100)"
   ]
  },
  {
   "cell_type": "code",
   "execution_count": 30,
   "metadata": {},
   "outputs": [],
   "source": [
    "y_pred_nn = ann.predict(df_valid)\n",
    "y_pred_nn = y_pred_nn.flatten()\n",
    "\n",
    "testData = pd.read_excel('test_data.xlsx')\n",
    "ANN_Submission = pd.DataFrame({\n",
    "        \"ID\": testData['ID'],\n",
    "        \"Mortality\": y_pred_nn\n",
    "    })"
   ]
  },
  {
   "cell_type": "code",
   "execution_count": 31,
   "metadata": {},
   "outputs": [],
   "source": [
    "#ANN_Submission.to_csv('MortalityRate2.csv',index=False)"
   ]
  },
  {
   "cell_type": "markdown",
   "metadata": {},
   "source": [
    "#### KNN algorithm looks fine comparing to other algorithms for this model"
   ]
  },
  {
   "cell_type": "code",
   "execution_count": 32,
   "metadata": {},
   "outputs": [
    {
     "name": "stdout",
     "output_type": "stream",
     "text": [
      "RMSE value for k=  1 is: 0.2655560204551951\n",
      "RMSE value for k=  2 is: 0.2755625824420022\n",
      "RMSE value for k=  3 is: 0.2842184317722275\n",
      "RMSE value for k=  4 is: 0.27477766131528003\n",
      "RMSE value for k=  5 is: 0.2736373320175524\n",
      "RMSE value for k=  6 is: 0.2784268673598801\n",
      "RMSE value for k=  7 is: 0.2851728328149879\n",
      "RMSE value for k=  8 is: 0.2803394910874276\n",
      "RMSE value for k=  9 is: 0.2737255067059745\n",
      "RMSE value for k=  10 is: 0.2740724452825528\n",
      "RMSE value for k=  11 is: 0.27375363491939053\n",
      "RMSE value for k=  12 is: 0.2787511309079412\n",
      "RMSE value for k=  13 is: 0.2852100254937886\n",
      "RMSE value for k=  14 is: 0.28780579403576734\n",
      "RMSE value for k=  15 is: 0.29195701037384386\n",
      "RMSE value for k=  16 is: 0.2919669499027695\n",
      "RMSE value for k=  17 is: 0.2958577441464803\n",
      "RMSE value for k=  18 is: 0.2979300365734505\n",
      "RMSE value for k=  19 is: 0.30045093678951873\n",
      "RMSE value for k=  20 is: 0.30335439583708723\n",
      "RMSE value for k=  21 is: 0.30328543509018796\n",
      "RMSE value for k=  22 is: 0.30856009514906385\n",
      "RMSE value for k=  23 is: 0.3114367072210916\n",
      "RMSE value for k=  24 is: 0.3120868496979422\n",
      "RMSE value for k=  25 is: 0.3108388866819662\n",
      "RMSE value for k=  26 is: 0.3140663968822137\n",
      "RMSE value for k=  27 is: 0.313727216611591\n",
      "RMSE value for k=  28 is: 0.3147475396169947\n",
      "RMSE value for k=  29 is: 0.31920078633811905\n",
      "RMSE value for k=  30 is: 0.3213489841132896\n",
      "RMSE value for k=  31 is: 0.3230083565155577\n",
      "RMSE value for k=  32 is: 0.32478037081709865\n",
      "RMSE value for k=  33 is: 0.3265529491105683\n",
      "RMSE value for k=  34 is: 0.3281911665689332\n",
      "RMSE value for k=  35 is: 0.33024409030847696\n",
      "RMSE value for k=  36 is: 0.3317353277054213\n",
      "RMSE value for k=  37 is: 0.33372868049717075\n",
      "RMSE value for k=  38 is: 0.33435336446389735\n",
      "RMSE value for k=  39 is: 0.33417526290235694\n",
      "RMSE value for k=  40 is: 0.3336741417831727\n",
      "RMSE value for k=  41 is: 0.3351444665467449\n",
      "RMSE value for k=  42 is: 0.33462014239204774\n",
      "RMSE value for k=  43 is: 0.33594675474862196\n",
      "RMSE value for k=  44 is: 0.3368259172994164\n",
      "RMSE value for k=  45 is: 0.3371521452858119\n",
      "RMSE value for k=  46 is: 0.338881062601015\n",
      "RMSE value for k=  47 is: 0.33900856631377146\n",
      "RMSE value for k=  48 is: 0.33855276297604403\n",
      "RMSE value for k=  49 is: 0.33962689273636154\n",
      "RMSE value for k=  50 is: 0.34027902235170415\n"
     ]
    }
   ],
   "source": [
    "rmse_val = []\n",
    "for K in range(50):\n",
    "    K = K+1\n",
    "    model = neighbors.KNeighborsRegressor(n_neighbors = K)\n",
    "\n",
    "    model.fit(xtrain, ytrain)\n",
    "    pred=model.predict(xtest) \n",
    "    error = sqrt(mean_squared_error(ytest,pred))\n",
    "    rmse_val.append(error)\n",
    "    print('RMSE value for k= ' , K , 'is:', error)"
   ]
  },
  {
   "cell_type": "code",
   "execution_count": 33,
   "metadata": {},
   "outputs": [],
   "source": [
    "pred = model.predict(df_valid)\n",
    "pred = np.round(pred, decimals=2)\n",
    "pred_knn = pd.DataFrame({\n",
    "        \"ID\": testData['ID'],\n",
    "        \"Mortality\": pred\n",
    "    })\n",
    "pred_knn.to_csv('MortalityRate_submit_11032021.csv',index=False)"
   ]
  },
  {
   "cell_type": "markdown",
   "metadata": {},
   "source": [
    "### Thank you!!!"
   ]
  },
  {
   "cell_type": "markdown",
   "metadata": {},
   "source": [
    "###### *** End of the document"
   ]
  }
 ],
 "metadata": {
  "kernelspec": {
   "display_name": "Python 3",
   "language": "python",
   "name": "python3"
  },
  "language_info": {
   "codemirror_mode": {
    "name": "ipython",
    "version": 3
   },
   "file_extension": ".py",
   "mimetype": "text/x-python",
   "name": "python",
   "nbconvert_exporter": "python",
   "pygments_lexer": "ipython3",
   "version": "3.7.6"
  }
 },
 "nbformat": 4,
 "nbformat_minor": 4
}
