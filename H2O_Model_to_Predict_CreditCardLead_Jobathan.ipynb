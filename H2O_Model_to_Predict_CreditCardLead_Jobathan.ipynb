{
 "cells": [
  {
   "cell_type": "markdown",
   "metadata": {
    "id": "Ke1sYZHgzvHs"
   },
   "source": [
    "<h1 style=\"font-family:Georgia, serif;color:black\" align='Center'> CREDIT CARD LEAD PREDICTION </h1>"
   ]
  },
  {
   "cell_type": "markdown",
   "metadata": {
    "id": "oZzpoE5GzvHt"
   },
   "source": [
    "<h4 style=\"font-family:Georgia, serif;color:black\" align='justify'>First and foremost, I'd like to express my gratitude for allowing me to take part in this hackathon. I've explained each line of code here, and I've also attached the detailed explanation in a solution file.</h4>"
   ]
  },
  {
   "cell_type": "markdown",
   "metadata": {
    "id": "3ttEpSyqzvHu"
   },
   "source": [
    "<h4 style=\"font-family:Georgia, serif;color:blue\" align='Left'>Importing the necessary libraries and datasets</h4> "
   ]
  },
  {
   "cell_type": "code",
   "execution_count": 2,
   "metadata": {
    "id": "neb7_0lbzvHv"
   },
   "outputs": [],
   "source": [
    "import pandas as pd\n",
    "import numpy as np\n",
    "import matplotlib.pyplot as plt\n",
    "import seaborn as sns\n",
    "from numpy.random import seed\n",
    "from numpy.random import randn\n",
    "from numpy import mean\n",
    "from numpy import std\n",
    "%matplotlib inline\n",
    "from itertools import combinations\n",
    "\n",
    "from sklearn.model_selection import train_test_split\n",
    "from sklearn.preprocessing import MinMaxScaler,LabelEncoder,StandardScaler\n",
    "from sklearn.decomposition import PCA\n",
    "from sklearn.discriminant_analysis import LinearDiscriminantAnalysis as LDA\n",
    "le = LabelEncoder()\n",
    "pca=PCA()\n",
    "sc=StandardScaler()\n",
    "\n",
    "from sklearn.metrics import mean_squared_error, roc_auc_score, roc_curve, classification_report, confusion_matrix\n",
    "from sklearn.model_selection import KFold, StratifiedKFold\n",
    "\n",
    "import warnings\n",
    "warnings.filterwarnings('ignore')\n",
    "\n",
    "import random\n",
    "import os\n",
    "import time"
   ]
  },
  {
   "cell_type": "code",
   "execution_count": 3,
   "metadata": {
    "colab": {
     "base_uri": "https://localhost:8080/"
    },
    "id": "llSDEiqRzxxM",
    "outputId": "94ba6aad-4e67-487e-f98b-63d4fec4cfa6"
   },
   "outputs": [
    {
     "name": "stdout",
     "output_type": "stream",
     "text": [
      "Mounted at /content/drive\n"
     ]
    }
   ],
   "source": [
    "from google.colab import drive\n",
    "drive.mount('/content/drive')"
   ]
  },
  {
   "cell_type": "code",
   "execution_count": 4,
   "metadata": {
    "id": "h1QmZkXMzvHx"
   },
   "outputs": [],
   "source": [
    "df_train = pd.read_csv('/content/drive/MyDrive/CreditCardLeadPrediction_Jobathon/train_s3TEQDk.csv')\n",
    "df_test = pd.read_csv('/content/drive/MyDrive/CreditCardLeadPrediction_Jobathon/test_mSzZ8RL.csv')\n",
    "df_sample = pd.read_csv('/content/drive/MyDrive/CreditCardLeadPrediction_Jobathon/sample_submission_eyYijxG.csv')"
   ]
  },
  {
   "cell_type": "markdown",
   "metadata": {
    "id": "b8xBDmNezvHy"
   },
   "source": [
    "<h4 style=\"font-family:Georgia, serif;color:blue\" align='Left'>Exploring the dataset in order to construct the model</h4> "
   ]
  },
  {
   "cell_type": "code",
   "execution_count": 5,
   "metadata": {
    "colab": {
     "base_uri": "https://localhost:8080/",
     "height": 195
    },
    "id": "OSvux7-azvHy",
    "outputId": "90b49479-5b7c-45a1-955c-599f4b0af740"
   },
   "outputs": [
    {
     "data": {
      "text/html": [
       "<div>\n",
       "<style scoped>\n",
       "    .dataframe tbody tr th:only-of-type {\n",
       "        vertical-align: middle;\n",
       "    }\n",
       "\n",
       "    .dataframe tbody tr th {\n",
       "        vertical-align: top;\n",
       "    }\n",
       "\n",
       "    .dataframe thead th {\n",
       "        text-align: right;\n",
       "    }\n",
       "</style>\n",
       "<table border=\"1\" class=\"dataframe\">\n",
       "  <thead>\n",
       "    <tr style=\"text-align: right;\">\n",
       "      <th></th>\n",
       "      <th>ID</th>\n",
       "      <th>Gender</th>\n",
       "      <th>Age</th>\n",
       "      <th>Region_Code</th>\n",
       "      <th>Occupation</th>\n",
       "      <th>Channel_Code</th>\n",
       "      <th>Vintage</th>\n",
       "      <th>Credit_Product</th>\n",
       "      <th>Avg_Account_Balance</th>\n",
       "      <th>Is_Active</th>\n",
       "      <th>Is_Lead</th>\n",
       "    </tr>\n",
       "  </thead>\n",
       "  <tbody>\n",
       "    <tr>\n",
       "      <th>0</th>\n",
       "      <td>NNVBBKZB</td>\n",
       "      <td>Female</td>\n",
       "      <td>73</td>\n",
       "      <td>RG268</td>\n",
       "      <td>Other</td>\n",
       "      <td>X3</td>\n",
       "      <td>43</td>\n",
       "      <td>No</td>\n",
       "      <td>1045696</td>\n",
       "      <td>No</td>\n",
       "      <td>0</td>\n",
       "    </tr>\n",
       "    <tr>\n",
       "      <th>1</th>\n",
       "      <td>IDD62UNG</td>\n",
       "      <td>Female</td>\n",
       "      <td>30</td>\n",
       "      <td>RG277</td>\n",
       "      <td>Salaried</td>\n",
       "      <td>X1</td>\n",
       "      <td>32</td>\n",
       "      <td>No</td>\n",
       "      <td>581988</td>\n",
       "      <td>No</td>\n",
       "      <td>0</td>\n",
       "    </tr>\n",
       "    <tr>\n",
       "      <th>2</th>\n",
       "      <td>HD3DSEMC</td>\n",
       "      <td>Female</td>\n",
       "      <td>56</td>\n",
       "      <td>RG268</td>\n",
       "      <td>Self_Employed</td>\n",
       "      <td>X3</td>\n",
       "      <td>26</td>\n",
       "      <td>No</td>\n",
       "      <td>1484315</td>\n",
       "      <td>Yes</td>\n",
       "      <td>0</td>\n",
       "    </tr>\n",
       "    <tr>\n",
       "      <th>3</th>\n",
       "      <td>BF3NC7KV</td>\n",
       "      <td>Male</td>\n",
       "      <td>34</td>\n",
       "      <td>RG270</td>\n",
       "      <td>Salaried</td>\n",
       "      <td>X1</td>\n",
       "      <td>19</td>\n",
       "      <td>No</td>\n",
       "      <td>470454</td>\n",
       "      <td>No</td>\n",
       "      <td>0</td>\n",
       "    </tr>\n",
       "    <tr>\n",
       "      <th>4</th>\n",
       "      <td>TEASRWXV</td>\n",
       "      <td>Female</td>\n",
       "      <td>30</td>\n",
       "      <td>RG282</td>\n",
       "      <td>Salaried</td>\n",
       "      <td>X1</td>\n",
       "      <td>33</td>\n",
       "      <td>No</td>\n",
       "      <td>886787</td>\n",
       "      <td>No</td>\n",
       "      <td>0</td>\n",
       "    </tr>\n",
       "  </tbody>\n",
       "</table>\n",
       "</div>"
      ],
      "text/plain": [
       "         ID  Gender  Age  ... Avg_Account_Balance Is_Active Is_Lead\n",
       "0  NNVBBKZB  Female   73  ...             1045696        No       0\n",
       "1  IDD62UNG  Female   30  ...              581988        No       0\n",
       "2  HD3DSEMC  Female   56  ...             1484315       Yes       0\n",
       "3  BF3NC7KV    Male   34  ...              470454        No       0\n",
       "4  TEASRWXV  Female   30  ...              886787        No       0\n",
       "\n",
       "[5 rows x 11 columns]"
      ]
     },
     "execution_count": 5,
     "metadata": {
      "tags": []
     },
     "output_type": "execute_result"
    }
   ],
   "source": [
    "df_train.head()"
   ]
  },
  {
   "cell_type": "code",
   "execution_count": 6,
   "metadata": {
    "colab": {
     "base_uri": "https://localhost:8080/",
     "height": 195
    },
    "id": "URV_0qYGzvHz",
    "outputId": "64fc2c38-ff79-49a9-ebc9-42eda3a941ba"
   },
   "outputs": [
    {
     "data": {
      "text/html": [
       "<div>\n",
       "<style scoped>\n",
       "    .dataframe tbody tr th:only-of-type {\n",
       "        vertical-align: middle;\n",
       "    }\n",
       "\n",
       "    .dataframe tbody tr th {\n",
       "        vertical-align: top;\n",
       "    }\n",
       "\n",
       "    .dataframe thead th {\n",
       "        text-align: right;\n",
       "    }\n",
       "</style>\n",
       "<table border=\"1\" class=\"dataframe\">\n",
       "  <thead>\n",
       "    <tr style=\"text-align: right;\">\n",
       "      <th></th>\n",
       "      <th>ID</th>\n",
       "      <th>Gender</th>\n",
       "      <th>Age</th>\n",
       "      <th>Region_Code</th>\n",
       "      <th>Occupation</th>\n",
       "      <th>Channel_Code</th>\n",
       "      <th>Vintage</th>\n",
       "      <th>Credit_Product</th>\n",
       "      <th>Avg_Account_Balance</th>\n",
       "      <th>Is_Active</th>\n",
       "    </tr>\n",
       "  </thead>\n",
       "  <tbody>\n",
       "    <tr>\n",
       "      <th>0</th>\n",
       "      <td>VBENBARO</td>\n",
       "      <td>Male</td>\n",
       "      <td>29</td>\n",
       "      <td>RG254</td>\n",
       "      <td>Other</td>\n",
       "      <td>X1</td>\n",
       "      <td>25</td>\n",
       "      <td>Yes</td>\n",
       "      <td>742366</td>\n",
       "      <td>No</td>\n",
       "    </tr>\n",
       "    <tr>\n",
       "      <th>1</th>\n",
       "      <td>CCMEWNKY</td>\n",
       "      <td>Male</td>\n",
       "      <td>43</td>\n",
       "      <td>RG268</td>\n",
       "      <td>Other</td>\n",
       "      <td>X2</td>\n",
       "      <td>49</td>\n",
       "      <td>NaN</td>\n",
       "      <td>925537</td>\n",
       "      <td>No</td>\n",
       "    </tr>\n",
       "    <tr>\n",
       "      <th>2</th>\n",
       "      <td>VK3KGA9M</td>\n",
       "      <td>Male</td>\n",
       "      <td>31</td>\n",
       "      <td>RG270</td>\n",
       "      <td>Salaried</td>\n",
       "      <td>X1</td>\n",
       "      <td>14</td>\n",
       "      <td>No</td>\n",
       "      <td>215949</td>\n",
       "      <td>No</td>\n",
       "    </tr>\n",
       "    <tr>\n",
       "      <th>3</th>\n",
       "      <td>TT8RPZVC</td>\n",
       "      <td>Male</td>\n",
       "      <td>29</td>\n",
       "      <td>RG272</td>\n",
       "      <td>Other</td>\n",
       "      <td>X1</td>\n",
       "      <td>33</td>\n",
       "      <td>No</td>\n",
       "      <td>868070</td>\n",
       "      <td>No</td>\n",
       "    </tr>\n",
       "    <tr>\n",
       "      <th>4</th>\n",
       "      <td>SHQZEYTZ</td>\n",
       "      <td>Female</td>\n",
       "      <td>29</td>\n",
       "      <td>RG270</td>\n",
       "      <td>Other</td>\n",
       "      <td>X1</td>\n",
       "      <td>19</td>\n",
       "      <td>No</td>\n",
       "      <td>657087</td>\n",
       "      <td>No</td>\n",
       "    </tr>\n",
       "  </tbody>\n",
       "</table>\n",
       "</div>"
      ],
      "text/plain": [
       "         ID  Gender  Age  ... Credit_Product Avg_Account_Balance Is_Active\n",
       "0  VBENBARO    Male   29  ...            Yes              742366        No\n",
       "1  CCMEWNKY    Male   43  ...            NaN              925537        No\n",
       "2  VK3KGA9M    Male   31  ...             No              215949        No\n",
       "3  TT8RPZVC    Male   29  ...             No              868070        No\n",
       "4  SHQZEYTZ  Female   29  ...             No              657087        No\n",
       "\n",
       "[5 rows x 10 columns]"
      ]
     },
     "execution_count": 6,
     "metadata": {
      "tags": []
     },
     "output_type": "execute_result"
    }
   ],
   "source": [
    "df_test.head()"
   ]
  },
  {
   "cell_type": "code",
   "execution_count": 7,
   "metadata": {
    "colab": {
     "base_uri": "https://localhost:8080/"
    },
    "id": "kQnb-6G3zvHz",
    "outputId": "29fe0ab2-4522-41d5-b98f-5ebed944d356"
   },
   "outputs": [
    {
     "name": "stdout",
     "output_type": "stream",
     "text": [
      "<class 'pandas.core.frame.DataFrame'>\n",
      "RangeIndex: 245725 entries, 0 to 245724\n",
      "Data columns (total 11 columns):\n",
      " #   Column               Non-Null Count   Dtype \n",
      "---  ------               --------------   ----- \n",
      " 0   ID                   245725 non-null  object\n",
      " 1   Gender               245725 non-null  object\n",
      " 2   Age                  245725 non-null  int64 \n",
      " 3   Region_Code          245725 non-null  object\n",
      " 4   Occupation           245725 non-null  object\n",
      " 5   Channel_Code         245725 non-null  object\n",
      " 6   Vintage              245725 non-null  int64 \n",
      " 7   Credit_Product       216400 non-null  object\n",
      " 8   Avg_Account_Balance  245725 non-null  int64 \n",
      " 9   Is_Active            245725 non-null  object\n",
      " 10  Is_Lead              245725 non-null  int64 \n",
      "dtypes: int64(4), object(7)\n",
      "memory usage: 20.6+ MB\n"
     ]
    }
   ],
   "source": [
    "df_train.info()"
   ]
  },
  {
   "cell_type": "code",
   "execution_count": 8,
   "metadata": {
    "colab": {
     "base_uri": "https://localhost:8080/"
    },
    "id": "bZyLfmbNzvH0",
    "outputId": "b832910a-b0f8-49b4-9fd3-9d32ecb7d8e5"
   },
   "outputs": [
    {
     "data": {
      "text/plain": [
       "((245725, 11), (105312, 10))"
      ]
     },
     "execution_count": 8,
     "metadata": {
      "tags": []
     },
     "output_type": "execute_result"
    }
   ],
   "source": [
    "df_train.shape, df_test.shape"
   ]
  },
  {
   "cell_type": "code",
   "execution_count": 9,
   "metadata": {
    "colab": {
     "base_uri": "https://localhost:8080/"
    },
    "id": "wXv5Pdz-zvH0",
    "outputId": "daa4be28-e67c-4fef-9837-99dd331e865f"
   },
   "outputs": [
    {
     "data": {
      "text/plain": [
       "(ID                         0\n",
       " Gender                     0\n",
       " Age                        0\n",
       " Region_Code                0\n",
       " Occupation                 0\n",
       " Channel_Code               0\n",
       " Vintage                    0\n",
       " Credit_Product         29325\n",
       " Avg_Account_Balance        0\n",
       " Is_Active                  0\n",
       " Is_Lead                    0\n",
       " dtype: int64, ID                         0\n",
       " Gender                     0\n",
       " Age                        0\n",
       " Region_Code                0\n",
       " Occupation                 0\n",
       " Channel_Code               0\n",
       " Vintage                    0\n",
       " Credit_Product         12522\n",
       " Avg_Account_Balance        0\n",
       " Is_Active                  0\n",
       " dtype: int64)"
      ]
     },
     "execution_count": 9,
     "metadata": {
      "tags": []
     },
     "output_type": "execute_result"
    }
   ],
   "source": [
    "df_train.isnull().sum(), df_test.isnull().sum()"
   ]
  },
  {
   "cell_type": "code",
   "execution_count": 10,
   "metadata": {
    "colab": {
     "base_uri": "https://localhost:8080/"
    },
    "id": "L4ywzGCozvH1",
    "outputId": "0d96aef1-d893-401e-ac58-4a60384b9dc0",
    "scrolled": true
   },
   "outputs": [
    {
     "name": "stdout",
     "output_type": "stream",
     "text": [
      "ID 245725\n",
      "Gender 2\n",
      "Region_Code 35\n",
      "Occupation 4\n",
      "Channel_Code 4\n",
      "Credit_Product 2\n",
      "Is_Active 2\n"
     ]
    }
   ],
   "source": [
    "#Finding the n-unique values in a categorical data\n",
    "for col in df_train.select_dtypes('object').columns:\n",
    "    print(col, df_train[col].nunique())"
   ]
  },
  {
   "cell_type": "code",
   "execution_count": 11,
   "metadata": {
    "colab": {
     "base_uri": "https://localhost:8080/"
    },
    "id": "FWe-BJz4zvH1",
    "outputId": "a1ad14be-e46a-4f4b-874f-3a285d039b85"
   },
   "outputs": [
    {
     "name": "stdout",
     "output_type": "stream",
     "text": [
      "ID : ['NNVBBKZB' 'IDD62UNG' 'HD3DSEMC' ... 'GEHAUCWT' 'GE7V8SAH' 'BOCZSWLJ']\n",
      "Gender : ['Female' 'Male']\n",
      "Age : [73 30 56 34 62 48 40 55 53 27 31 79 33 46 59 65 37 44 32 50 70 25 52 26\n",
      " 67 29 41 49 63 61 64 60 76 57 36 28 58 43 35 71 82 45 42 54 47 78 51 68\n",
      " 83 39 84 24 38 74 81 69 75 85 66 80 72 77 23]\n",
      "Region_Code : ['RG268' 'RG277' 'RG270' 'RG282' 'RG261' 'RG265' 'RG283' 'RG254' 'RG269'\n",
      " 'RG257' 'RG279' 'RG280' 'RG252' 'RG284' 'RG259' 'RG281' 'RG258' 'RG266'\n",
      " 'RG260' 'RG274' 'RG256' 'RG275' 'RG273' 'RG267' 'RG272' 'RG251' 'RG262'\n",
      " 'RG264' 'RG278' 'RG276' 'RG263' 'RG250' 'RG255' 'RG253' 'RG271']\n",
      "Occupation : ['Other' 'Salaried' 'Self_Employed' 'Entrepreneur']\n",
      "Channel_Code : ['X3' 'X1' 'X2' 'X4']\n",
      "Vintage : [ 43  32  26  19  33  20  13  38  49 123  14  31  57  69  97  15  63  21\n",
      "  99  56  87  62  55 103 104  93  61  91  27  39  50  45  25 117  80  81\n",
      "  73  67 109  92 122  75  79 121 111 116  85 115  86  37  74 110  44   9\n",
      "  68  51  98 105 127 129 133   8   7 128 135 134]\n",
      "Credit_Product : ['No' nan 'Yes']\n",
      "Avg_Account_Balance : [1045696  581988 1484315 ...  368949 1925586 1129276]\n",
      "Is_Active : ['No' 'Yes']\n",
      "Is_Lead : [0 1]\n"
     ]
    }
   ],
   "source": [
    "for i in df_train:\n",
    "    print(f'{i} : {df_train[i].unique()}')"
   ]
  },
  {
   "cell_type": "markdown",
   "metadata": {
    "id": "KdpwE7j3zvH2"
   },
   "source": [
    "<h4 style=\"font-family:Georgia, serif;color:blue\" align='Left'>Plotting the below columns for the best understanding of the data</h4>"
   ]
  },
  {
   "cell_type": "code",
   "execution_count": 12,
   "metadata": {
    "colab": {
     "base_uri": "https://localhost:8080/",
     "height": 302
    },
    "id": "1yBV8YGizvH3",
    "outputId": "bdb076d2-8739-49c4-f545-c2e74495ad21"
   },
   "outputs": [
    {
     "data": {
      "text/plain": [
       "<matplotlib.axes._subplots.AxesSubplot at 0x7fa79c4a8cd0>"
      ]
     },
     "execution_count": 12,
     "metadata": {
      "tags": []
     },
     "output_type": "execute_result"
    },
    {
     "data": {
      "image/png": "[encoded data removed]",
      "text/plain": [
       "<Figure size 432x288 with 1 Axes>"
      ]
     },
     "metadata": {
      "tags": []
     },
     "output_type": "display_data"
    }
   ],
   "source": [
    "sns.set(style=\"darkgrid\")\n",
    "sns.countplot(df_train['Channel_Code'])"
   ]
  },
  {
   "cell_type": "code",
   "execution_count": 13,
   "metadata": {
    "colab": {
     "base_uri": "https://localhost:8080/",
     "height": 303
    },
    "id": "cl5OTcOFzvH3",
    "outputId": "f1630b5c-c0d1-4cf1-d028-302e680c7dbf"
   },
   "outputs": [
    {
     "data": {
      "text/plain": [
       "<matplotlib.axes._subplots.AxesSubplot at 0x7fa79c4a3110>"
      ]
     },
     "execution_count": 13,
     "metadata": {
      "tags": []
     },
     "output_type": "execute_result"
    },
    {
     "data": {
      "image/png": "[encoded data removed]",
      "text/plain": [
       "<Figure size 432x288 with 1 Axes>"
      ]
     },
     "metadata": {
      "tags": []
     },
     "output_type": "display_data"
    }
   ],
   "source": [
    "sns.countplot(df_train['Occupation'],palette=\"Set3\")"
   ]
  },
  {
   "cell_type": "code",
   "execution_count": 14,
   "metadata": {
    "colab": {
     "base_uri": "https://localhost:8080/",
     "height": 304
    },
    "id": "aJQM0DCszvH4",
    "outputId": "f763bc50-3b05-47a1-9ccb-92f4c7a89e02"
   },
   "outputs": [
    {
     "data": {
      "text/plain": [
       "<matplotlib.axes._subplots.AxesSubplot at 0x7fa79bf85e90>"
      ]
     },
     "execution_count": 14,
     "metadata": {
      "tags": []
     },
     "output_type": "execute_result"
    },
    {
     "data": {
      "image/png": "[encoded data removed]",
      "text/plain": [
       "<Figure size 432x288 with 1 Axes>"
      ]
     },
     "metadata": {
      "tags": []
     },
     "output_type": "display_data"
    }
   ],
   "source": [
    "sns.countplot(df_train['Gender'],palette=\"pastel\")"
   ]
  },
  {
   "cell_type": "code",
   "execution_count": 15,
   "metadata": {
    "colab": {
     "base_uri": "https://localhost:8080/",
     "height": 302
    },
    "id": "10ybEQzzzvH4",
    "outputId": "72d5bc17-345a-4914-f4aa-1e00ad339cae"
   },
   "outputs": [
    {
     "data": {
      "text/plain": [
       "<matplotlib.axes._subplots.AxesSubplot at 0x7fa79c457050>"
      ]
     },
     "execution_count": 15,
     "metadata": {
      "tags": []
     },
     "output_type": "execute_result"
    },
    {
     "data": {
      "image/png": "[encoded data removed]",
      "text/plain": [
       "<Figure size 432x288 with 1 Axes>"
      ]
     },
     "metadata": {
      "tags": []
     },
     "output_type": "display_data"
    }
   ],
   "source": [
    "sns.set(style=\"darkgrid\")\n",
    "sns.countplot(df_train['Credit_Product'],palette=\"Paired\")"
   ]
  },
  {
   "cell_type": "markdown",
   "metadata": {
    "id": "4FMqUmkhzvH5"
   },
   "source": [
    "<h4 style=\"font-family:Georgia, serif;color:blue\" align='Left'>According to the above exploratory, the Credit_product column has null values. Filling the NaN rows backwords for the best fit</h4>"
   ]
  },
  {
   "cell_type": "code",
   "execution_count": 16,
   "metadata": {
    "id": "ktS1bWSDzvH5"
   },
   "outputs": [],
   "source": [
    "#Training Dataset\n",
    "df_train['Credit_Product'] = df_train['Credit_Product'].fillna(method=\"bfill\")\n",
    "\n",
    "#Testing Dataset\n",
    "df_test['Credit_Product'] = df_test['Credit_Product'].fillna(method=\"bfill\")"
   ]
  },
  {
   "cell_type": "code",
   "execution_count": 17,
   "metadata": {
    "colab": {
     "base_uri": "https://localhost:8080/",
     "height": 302
    },
    "id": "zJNoOAKCzvH5",
    "outputId": "c5b21351-6bdb-4f28-a17c-b51f56865117"
   },
   "outputs": [
    {
     "data": {
      "text/plain": [
       "<matplotlib.axes._subplots.AxesSubplot at 0x7fa79c4a37d0>"
      ]
     },
     "execution_count": 17,
     "metadata": {
      "tags": []
     },
     "output_type": "execute_result"
    },
    {
     "data": {
      "image/png": "[encoded data removed]",
      "text/plain": [
       "<Figure size 432x288 with 1 Axes>"
      ]
     },
     "metadata": {
      "tags": []
     },
     "output_type": "display_data"
    }
   ],
   "source": [
    "sns.set(style=\"darkgrid\")\n",
    "sns.countplot(df_train['Credit_Product'],palette=\"Paired\")"
   ]
  },
  {
   "cell_type": "markdown",
   "metadata": {
    "id": "8QqA0ronzvH6"
   },
   "source": [
    "<h4 style=\"font-family:Georgia, serif;color:blue\" align='Justify'>Setting the ID column as an Index and Splitting the dataframe into feature columns and target column</h4>"
   ]
  },
  {
   "cell_type": "code",
   "execution_count": 18,
   "metadata": {
    "id": "rdB1u7o3zvH6"
   },
   "outputs": [],
   "source": [
    "#Training Dataset\n",
    "df_train.set_index(\"ID\",inplace=True)\n",
    "\n",
    "#Testing Dataset\n",
    "df_test.set_index(\"ID\",inplace=True)"
   ]
  },
  {
   "cell_type": "markdown",
   "metadata": {
    "id": "kNmT1IaBzvH7"
   },
   "source": [
    "<h4 style=\"font-family:Georgia, serif;color:blue\" align='Justify'>Converting the object columns into the numberical columns. For that Encoding the categorical columns using Label Encoder</h4>"
   ]
  },
  {
   "cell_type": "code",
   "execution_count": 19,
   "metadata": {
    "colab": {
     "base_uri": "https://localhost:8080/"
    },
    "id": "3V0iRYtvzvH7",
    "outputId": "600d3124-bb2d-4109-e04f-fa8ec5fe6758"
   },
   "outputs": [
    {
     "name": "stdout",
     "output_type": "stream",
     "text": [
      "Categorical columns in the training dataset\n",
      "Gender\n",
      "Region_Code\n",
      "Occupation\n",
      "Channel_Code\n",
      "Credit_Product\n",
      "Is_Active\n",
      "\n",
      "Categorical columns in the testing dataset\n",
      "Gender\n",
      "Region_Code\n",
      "Occupation\n",
      "Channel_Code\n",
      "Credit_Product\n",
      "Is_Active\n"
     ]
    }
   ],
   "source": [
    "#For Training dataset\n",
    "label_columns = []\n",
    "print(\"Categorical columns in the training dataset\")\n",
    "for col in df_train.select_dtypes('object').columns:\n",
    "    print(col)\n",
    "    label_columns.append(col)\n",
    "    le = LabelEncoder()\n",
    "    df_train[col] = le.fit_transform(df_train[col])\n",
    "    \n",
    "#For Testing dataset\n",
    "label_columns_test = []\n",
    "print(\"\\nCategorical columns in the testing dataset\")\n",
    "for col2 in df_test.select_dtypes('object').columns:\n",
    "    print(col2)\n",
    "    label_columns_test.append(col2)\n",
    "    le = LabelEncoder()\n",
    "    df_test[col2] = le.fit_transform(df_test[col2])"
   ]
  },
  {
   "cell_type": "code",
   "execution_count": 20,
   "metadata": {
    "colab": {
     "base_uri": "https://localhost:8080/"
    },
    "id": "iCzfNhqXzvH8",
    "outputId": "f04dbeb9-aea5-4092-d280-88008951620c",
    "scrolled": true
   },
   "outputs": [
    {
     "name": "stdout",
     "output_type": "stream",
     "text": [
      "Gender : [0 1]\n",
      "Age : [73 30 56 34 62 48 40 55 53 27 31 79 33 46 59 65 37 44 32 50 70 25 52 26\n",
      " 67 29 41 49 63 61 64 60 76 57 36 28 58 43 35 71 82 45 42 54 47 78 51 68\n",
      " 83 39 84 24 38 74 81 69 75 85 66 80 72 77 23]\n",
      "Region_Code : [18 27 20 32 11 15 33  4 19  7 29 30  2 34  9 31  8 16 10 24  6 25 23 17\n",
      " 22  1 12 14 28 26 13  0  5  3 21]\n",
      "Occupation : [1 2 3 0]\n",
      "Channel_Code : [2 0 1 3]\n",
      "Vintage : [ 43  32  26  19  33  20  13  38  49 123  14  31  57  69  97  15  63  21\n",
      "  99  56  87  62  55 103 104  93  61  91  27  39  50  45  25 117  80  81\n",
      "  73  67 109  92 122  75  79 121 111 116  85 115  86  37  74 110  44   9\n",
      "  68  51  98 105 127 129 133   8   7 128 135 134]\n",
      "Credit_Product : [0 1]\n",
      "Avg_Account_Balance : [1045696  581988 1484315 ...  368949 1925586 1129276]\n",
      "Is_Active : [0 1]\n",
      "Is_Lead : [0 1]\n"
     ]
    }
   ],
   "source": [
    "for i in df_train:\n",
    "    print(f'{i} : {df_train[i].unique()}')"
   ]
  },
  {
   "cell_type": "code",
   "execution_count": 21,
   "metadata": {
    "id": "ZKaTwkvczvH8"
   },
   "outputs": [],
   "source": [
    "def process_data(train,test):\n",
    "   \n",
    "    train['train_or_test']='train'\n",
    "    test['train_or_test']='test'\n",
    "    df=pd.concat([train,test])     \n",
    "   \n",
    "    return train,test,df\n",
    "train,test,df = process_data(df_train,df_test)"
   ]
  },
  {
   "cell_type": "code",
   "execution_count": 22,
   "metadata": {
    "id": "DKeKsw6czvH8"
   },
   "outputs": [],
   "source": [
    "def frequency_encoding(column_name,output_column_name,df):\n",
    "    fe_pol = (df.groupby(column_name).size()) / len(df)\n",
    "    df[output_column_name] = df[column_name].apply(lambda x : fe_pol[x])"
   ]
  },
  {
   "cell_type": "code",
   "execution_count": 23,
   "metadata": {
    "id": "qNsj_x53zvH9"
   },
   "outputs": [],
   "source": [
    "# seed the random number generator\n",
    "def find_outlier(df):\n",
    "    seed(1)\n",
    "    # generate univariate observations\n",
    "    data = df\n",
    "    # calculate summary statistics\n",
    "    data_mean, data_std = mean(data), std(data)\n",
    "    # identify outliers\n",
    "    cut_off = data_std * 3\n",
    "    lower, upper = data_mean - cut_off, data_mean + cut_off\n",
    "    # identify outliers\n",
    "    outliers = [x for x in data if x < lower or x > upper]\n",
    "    print('Identified outliers: %d' % len(outliers))\n",
    "    # remove outliers\n",
    "    outliers_removed = [x for x in data if x >= lower and x <= upper]\n",
    "    print('Non-outlier observations: %d' % len(outliers_removed))"
   ]
  },
  {
   "cell_type": "code",
   "execution_count": 24,
   "metadata": {
    "colab": {
     "base_uri": "https://localhost:8080/"
    },
    "id": "14ivMN00zvH-",
    "outputId": "e6dd1068-c1b1-4985-b9cb-ef4f33e17c38"
   },
   "outputs": [
    {
     "name": "stdout",
     "output_type": "stream",
     "text": [
      "Identified outliers: 7033\n",
      "Non-outlier observations: 344004\n"
     ]
    }
   ],
   "source": [
    "find_outlier(df[\"Avg_Account_Balance\"])"
   ]
  },
  {
   "cell_type": "code",
   "execution_count": 25,
   "metadata": {
    "colab": {
     "base_uri": "https://localhost:8080/",
     "height": 313
    },
    "id": "J85v0NdezvH-",
    "outputId": "e943ddaa-160d-444a-9e5d-9283b93fb668"
   },
   "outputs": [
    {
     "data": {
      "text/plain": [
       "<matplotlib.axes._subplots.AxesSubplot at 0x7fa79bde6e10>"
      ]
     },
     "execution_count": 25,
     "metadata": {
      "tags": []
     },
     "output_type": "execute_result"
    },
    {
     "data": {
      "image/png": "[encoded data removed]",
      "text/plain": [
       "<Figure size 432x288 with 1 Axes>"
      ]
     },
     "metadata": {
      "tags": []
     },
     "output_type": "display_data"
    }
   ],
   "source": [
    "sns.distplot(df['Avg_Account_Balance'])"
   ]
  },
  {
   "cell_type": "code",
   "execution_count": 26,
   "metadata": {
    "id": "cnRPDN9ZzvH-"
   },
   "outputs": [],
   "source": [
    "df['Avg_Account_Balance'] = np.log(df['Avg_Account_Balance'])"
   ]
  },
  {
   "cell_type": "code",
   "execution_count": 27,
   "metadata": {
    "colab": {
     "base_uri": "https://localhost:8080/"
    },
    "id": "sgm3RQu8zvH_",
    "outputId": "ab3332a2-70ed-4e0d-c9f8-97cdcfaddaae"
   },
   "outputs": [
    {
     "name": "stdout",
     "output_type": "stream",
     "text": [
      "Identified outliers: 1926\n",
      "Non-outlier observations: 349111\n"
     ]
    }
   ],
   "source": [
    "find_outlier(df[\"Avg_Account_Balance\"])"
   ]
  },
  {
   "cell_type": "code",
   "execution_count": 28,
   "metadata": {
    "colab": {
     "base_uri": "https://localhost:8080/",
     "height": 302
    },
    "id": "HeoMIydhzvH_",
    "outputId": "19e86137-de96-440b-d73d-a61b3420a7ba",
    "scrolled": true
   },
   "outputs": [
    {
     "data": {
      "text/plain": [
       "<matplotlib.axes._subplots.AxesSubplot at 0x7fa79ba9e710>"
      ]
     },
     "execution_count": 28,
     "metadata": {
      "tags": []
     },
     "output_type": "execute_result"
    },
    {
     "data": {
      "image/png": "[encoded data removed]",
      "text/plain": [
       "<Figure size 432x288 with 1 Axes>"
      ]
     },
     "metadata": {
      "tags": []
     },
     "output_type": "display_data"
    }
   ],
   "source": [
    "sns.distplot(df['Avg_Account_Balance'])"
   ]
  },
  {
   "cell_type": "code",
   "execution_count": 29,
   "metadata": {
    "colab": {
     "base_uri": "https://localhost:8080/",
     "height": 225
    },
    "id": "CM2-g0YXzvIA",
    "outputId": "31cfb486-b0c9-4f24-c341-ccb9d0ab6d03"
   },
   "outputs": [
    {
     "data": {
      "text/html": [
       "<div>\n",
       "<style scoped>\n",
       "    .dataframe tbody tr th:only-of-type {\n",
       "        vertical-align: middle;\n",
       "    }\n",
       "\n",
       "    .dataframe tbody tr th {\n",
       "        vertical-align: top;\n",
       "    }\n",
       "\n",
       "    .dataframe thead th {\n",
       "        text-align: right;\n",
       "    }\n",
       "</style>\n",
       "<table border=\"1\" class=\"dataframe\">\n",
       "  <thead>\n",
       "    <tr style=\"text-align: right;\">\n",
       "      <th></th>\n",
       "      <th>Gender</th>\n",
       "      <th>Age</th>\n",
       "      <th>Region_Code</th>\n",
       "      <th>Occupation</th>\n",
       "      <th>Channel_Code</th>\n",
       "      <th>Vintage</th>\n",
       "      <th>Credit_Product</th>\n",
       "      <th>Avg_Account_Balance</th>\n",
       "      <th>Is_Active</th>\n",
       "      <th>Is_Lead</th>\n",
       "      <th>train_or_test</th>\n",
       "    </tr>\n",
       "    <tr>\n",
       "      <th>ID</th>\n",
       "      <th></th>\n",
       "      <th></th>\n",
       "      <th></th>\n",
       "      <th></th>\n",
       "      <th></th>\n",
       "      <th></th>\n",
       "      <th></th>\n",
       "      <th></th>\n",
       "      <th></th>\n",
       "      <th></th>\n",
       "      <th></th>\n",
       "    </tr>\n",
       "  </thead>\n",
       "  <tbody>\n",
       "    <tr>\n",
       "      <th>NNVBBKZB</th>\n",
       "      <td>0</td>\n",
       "      <td>73</td>\n",
       "      <td>18</td>\n",
       "      <td>1</td>\n",
       "      <td>2</td>\n",
       "      <td>43</td>\n",
       "      <td>0</td>\n",
       "      <td>13.860193</td>\n",
       "      <td>0</td>\n",
       "      <td>0.0</td>\n",
       "      <td>train</td>\n",
       "    </tr>\n",
       "    <tr>\n",
       "      <th>IDD62UNG</th>\n",
       "      <td>0</td>\n",
       "      <td>30</td>\n",
       "      <td>27</td>\n",
       "      <td>2</td>\n",
       "      <td>0</td>\n",
       "      <td>32</td>\n",
       "      <td>0</td>\n",
       "      <td>13.274205</td>\n",
       "      <td>0</td>\n",
       "      <td>0.0</td>\n",
       "      <td>train</td>\n",
       "    </tr>\n",
       "    <tr>\n",
       "      <th>HD3DSEMC</th>\n",
       "      <td>0</td>\n",
       "      <td>56</td>\n",
       "      <td>18</td>\n",
       "      <td>3</td>\n",
       "      <td>2</td>\n",
       "      <td>26</td>\n",
       "      <td>0</td>\n",
       "      <td>14.210464</td>\n",
       "      <td>1</td>\n",
       "      <td>0.0</td>\n",
       "      <td>train</td>\n",
       "    </tr>\n",
       "    <tr>\n",
       "      <th>BF3NC7KV</th>\n",
       "      <td>1</td>\n",
       "      <td>34</td>\n",
       "      <td>20</td>\n",
       "      <td>2</td>\n",
       "      <td>0</td>\n",
       "      <td>19</td>\n",
       "      <td>0</td>\n",
       "      <td>13.061453</td>\n",
       "      <td>0</td>\n",
       "      <td>0.0</td>\n",
       "      <td>train</td>\n",
       "    </tr>\n",
       "    <tr>\n",
       "      <th>TEASRWXV</th>\n",
       "      <td>0</td>\n",
       "      <td>30</td>\n",
       "      <td>32</td>\n",
       "      <td>2</td>\n",
       "      <td>0</td>\n",
       "      <td>33</td>\n",
       "      <td>0</td>\n",
       "      <td>13.695360</td>\n",
       "      <td>0</td>\n",
       "      <td>0.0</td>\n",
       "      <td>train</td>\n",
       "    </tr>\n",
       "  </tbody>\n",
       "</table>\n",
       "</div>"
      ],
      "text/plain": [
       "          Gender  Age  Region_Code  ...  Is_Active  Is_Lead  train_or_test\n",
       "ID                                  ...                                   \n",
       "NNVBBKZB       0   73           18  ...          0      0.0          train\n",
       "IDD62UNG       0   30           27  ...          0      0.0          train\n",
       "HD3DSEMC       0   56           18  ...          1      0.0          train\n",
       "BF3NC7KV       1   34           20  ...          0      0.0          train\n",
       "TEASRWXV       0   30           32  ...          0      0.0          train\n",
       "\n",
       "[5 rows x 11 columns]"
      ]
     },
     "execution_count": 29,
     "metadata": {
      "tags": []
     },
     "output_type": "execute_result"
    }
   ],
   "source": [
    "df.head()"
   ]
  },
  {
   "cell_type": "markdown",
   "metadata": {
    "id": "RPWkG-3wzvIA"
   },
   "source": [
    "<h3 style=\"font-family:Georgia, serif;color:blue\" align='Justify'>Buliding model using H2O</h3>"
   ]
  },
  {
   "cell_type": "code",
   "execution_count": 30,
   "metadata": {
    "id": "tDsE92YSzvIA"
   },
   "outputs": [],
   "source": [
    "df_train = pd.read_csv('/content/drive/MyDrive/CreditCardLeadPrediction_Jobathon/train_s3TEQDk.csv')\n",
    "df_test = pd.read_csv('/content/drive/MyDrive/CreditCardLeadPrediction_Jobathon/test_mSzZ8RL.csv')\n",
    "df_sample = pd.read_csv('/content/drive/MyDrive/CreditCardLeadPrediction_Jobathon/sample_submission_eyYijxG.csv')"
   ]
  },
  {
   "cell_type": "code",
   "execution_count": 31,
   "metadata": {
    "id": "kLT0CCnEzvIB"
   },
   "outputs": [],
   "source": [
    "df_train['Avg_Account_Balance'] = np.log(df_train['Avg_Account_Balance'])\n",
    "df_test['Avg_Account_Balance'] = np.log(df_test['Avg_Account_Balance'])"
   ]
  },
  {
   "cell_type": "code",
   "execution_count": 33,
   "metadata": {
    "colab": {
     "base_uri": "https://localhost:8080/"
    },
    "id": "CHvNhCCr0gPX",
    "outputId": "0ba1c5a4-8177-47f0-ec67-77c376e211af"
   },
   "outputs": [
    {
     "name": "stdout",
     "output_type": "stream",
     "text": [
      "Collecting h2o\n",
      "\u001b[?25l  Downloading https://files.pythonhosted.org/packages/23/c9/f24bbb8e7a57097f12c7bef3d277641eddf5160688e442d0eb1b41bf6a67/h2o-3.32.1.3.tar.gz (164.8MB)\n",
      "\u001b[K     |████████████████████████████████| 164.8MB 96kB/s \n",
      "\u001b[?25hRequirement already satisfied: requests in /usr/local/lib/python3.7/dist-packages (from h2o) (2.23.0)\n",
      "Requirement already satisfied: tabulate in /usr/local/lib/python3.7/dist-packages (from h2o) (0.8.9)\n",
      "Requirement already satisfied: future in /usr/local/lib/python3.7/dist-packages (from h2o) (0.16.0)\n",
      "Collecting colorama>=0.3.8\n",
      "  Downloading https://files.pythonhosted.org/packages/44/98/5b86278fbbf250d239ae0ecb724f8572af1c91f4a11edf4d36a206189440/colorama-0.4.4-py2.py3-none-any.whl\n",
      "Requirement already satisfied: urllib3!=1.25.0,!=1.25.1,<1.26,>=1.21.1 in /usr/local/lib/python3.7/dist-packages (from requests->h2o) (1.24.3)\n",
      "Requirement already satisfied: idna<3,>=2.5 in /usr/local/lib/python3.7/dist-packages (from requests->h2o) (2.10)\n",
      "Requirement already satisfied: chardet<4,>=3.0.2 in /usr/local/lib/python3.7/dist-packages (from requests->h2o) (3.0.4)\n",
      "Requirement already satisfied: certifi>=2017.4.17 in /usr/local/lib/python3.7/dist-packages (from requests->h2o) (2020.12.5)\n",
      "Building wheels for collected packages: h2o\n",
      "  Building wheel for h2o (setup.py) ... \u001b[?25l\u001b[?25hdone\n",
      "  Created wheel for h2o: filename=h2o-3.32.1.3-py2.py3-none-any.whl size=164854343 sha256=add482c8abd231a9f82070a187b6287b361fbad48dffca06bbb873fe65cffdb6\n",
      "  Stored in directory: /root/.cache/pip/wheels/4f/bb/82/0988682f9abd0b5e95109a4aae6793dd427173b6dc671d9252\n",
      "Successfully built h2o\n",
      "Installing collected packages: colorama, h2o\n",
      "Successfully installed colorama-0.4.4 h2o-3.32.1.3\n"
     ]
    }
   ],
   "source": [
    "!pip install h2o\n"
   ]
  },
  {
   "cell_type": "code",
   "execution_count": 34,
   "metadata": {
    "id": "p9_oS0euzvIB"
   },
   "outputs": [],
   "source": [
    "import h2o\n",
    "from h2o.estimators.glm import H2OGeneralizedLinearEstimator\n",
    "from h2o.estimators.gbm import H2OGradientBoostingEstimator\n",
    "from h2o.estimators.random_forest import H2ORandomForestEstimator"
   ]
  },
  {
   "cell_type": "code",
   "execution_count": 35,
   "metadata": {
    "colab": {
     "base_uri": "https://localhost:8080/",
     "height": 510
    },
    "id": "Bg_xblpczvIB",
    "outputId": "f8bdf289-350a-4195-b865-63d42db98ecb"
   },
   "outputs": [
    {
     "name": "stdout",
     "output_type": "stream",
     "text": [
      "Checking whether there is an H2O instance running at http://localhost:54321 ..... not found.\n",
      "Attempting to start a local H2O server...\n",
      "  Java Version: openjdk version \"11.0.11\" 2021-04-20; OpenJDK Runtime Environment (build 11.0.11+9-Ubuntu-0ubuntu2.18.04); OpenJDK 64-Bit Server VM (build 11.0.11+9-Ubuntu-0ubuntu2.18.04, mixed mode, sharing)\n",
      "  Starting server from /usr/local/lib/python3.7/dist-packages/h2o/backend/bin/h2o.jar\n",
      "  Ice root: /tmp/tmpnk2lad1j\n",
      "  JVM stdout: /tmp/tmpnk2lad1j/h2o_unknownUser_started_from_python.out\n",
      "  JVM stderr: /tmp/tmpnk2lad1j/h2o_unknownUser_started_from_python.err\n",
      "  Server is running at http://127.0.0.1:54321\n",
      "Connecting to H2O server at http://127.0.0.1:54321 ... successful.\n"
     ]
    },
    {
     "data": {
      "text/html": [
       "<div style=\"overflow:auto\"><table style=\"width:50%\"><tr><td>H2O_cluster_uptime:</td>\n",
       "<td>02 secs</td></tr>\n",
       "<tr><td>H2O_cluster_timezone:</td>\n",
       "<td>Etc/UTC</td></tr>\n",
       "<tr><td>H2O_data_parsing_timezone:</td>\n",
       "<td>UTC</td></tr>\n",
       "<tr><td>H2O_cluster_version:</td>\n",
       "<td>3.32.1.3</td></tr>\n",
       "<tr><td>H2O_cluster_version_age:</td>\n",
       "<td>10 days </td></tr>\n",
       "<tr><td>H2O_cluster_name:</td>\n",
       "<td>H2O_from_python_unknownUser_1mxggm</td></tr>\n",
       "<tr><td>H2O_cluster_total_nodes:</td>\n",
       "<td>1</td></tr>\n",
       "<tr><td>H2O_cluster_free_memory:</td>\n",
       "<td>3.174 Gb</td></tr>\n",
       "<tr><td>H2O_cluster_total_cores:</td>\n",
       "<td>2</td></tr>\n",
       "<tr><td>H2O_cluster_allowed_cores:</td>\n",
       "<td>2</td></tr>\n",
       "<tr><td>H2O_cluster_status:</td>\n",
       "<td>accepting new members, healthy</td></tr>\n",
       "<tr><td>H2O_connection_url:</td>\n",
       "<td>http://127.0.0.1:54321</td></tr>\n",
       "<tr><td>H2O_connection_proxy:</td>\n",
       "<td>{\"http\": null, \"https\": null}</td></tr>\n",
       "<tr><td>H2O_internal_security:</td>\n",
       "<td>False</td></tr>\n",
       "<tr><td>H2O_API_Extensions:</td>\n",
       "<td>Amazon S3, XGBoost, Algos, AutoML, Core V3, TargetEncoder, Core V4</td></tr>\n",
       "<tr><td>Python_version:</td>\n",
       "<td>3.7.10 final</td></tr></table></div>"
      ],
      "text/plain": [
       "--------------------------  ------------------------------------------------------------------\n",
       "H2O_cluster_uptime:         02 secs\n",
       "H2O_cluster_timezone:       Etc/UTC\n",
       "H2O_data_parsing_timezone:  UTC\n",
       "H2O_cluster_version:        3.32.1.3\n",
       "H2O_cluster_version_age:    10 days\n",
       "H2O_cluster_name:           H2O_from_python_unknownUser_1mxggm\n",
       "H2O_cluster_total_nodes:    1\n",
       "H2O_cluster_free_memory:    3.174 Gb\n",
       "H2O_cluster_total_cores:    2\n",
       "H2O_cluster_allowed_cores:  2\n",
       "H2O_cluster_status:         accepting new members, healthy\n",
       "H2O_connection_url:         http://127.0.0.1:54321\n",
       "H2O_connection_proxy:       {\"http\": null, \"https\": null}\n",
       "H2O_internal_security:      False\n",
       "H2O_API_Extensions:         Amazon S3, XGBoost, Algos, AutoML, Core V3, TargetEncoder, Core V4\n",
       "Python_version:             3.7.10 final\n",
       "--------------------------  ------------------------------------------------------------------"
      ]
     },
     "metadata": {
      "tags": []
     },
     "output_type": "display_data"
    }
   ],
   "source": [
    "h2o.init()"
   ]
  },
  {
   "cell_type": "code",
   "execution_count": 36,
   "metadata": {
    "colab": {
     "base_uri": "https://localhost:8080/",
     "height": 372
    },
    "id": "nxwtbSQXzvIC",
    "outputId": "7a5d0b88-b0a4-4ba9-e35c-133ec5f00336"
   },
   "outputs": [
    {
     "name": "stdout",
     "output_type": "stream",
     "text": [
      "Connecting to H2O server at http://localhost:54321 ... successful.\n"
     ]
    },
    {
     "data": {
      "text/html": [
       "<div style=\"overflow:auto\"><table style=\"width:50%\"><tr><td>H2O_cluster_uptime:</td>\n",
       "<td>03 secs</td></tr>\n",
       "<tr><td>H2O_cluster_timezone:</td>\n",
       "<td>Etc/UTC</td></tr>\n",
       "<tr><td>H2O_data_parsing_timezone:</td>\n",
       "<td>UTC</td></tr>\n",
       "<tr><td>H2O_cluster_version:</td>\n",
       "<td>3.32.1.3</td></tr>\n",
       "<tr><td>H2O_cluster_version_age:</td>\n",
       "<td>10 days </td></tr>\n",
       "<tr><td>H2O_cluster_name:</td>\n",
       "<td>H2O_from_python_unknownUser_1mxggm</td></tr>\n",
       "<tr><td>H2O_cluster_total_nodes:</td>\n",
       "<td>1</td></tr>\n",
       "<tr><td>H2O_cluster_free_memory:</td>\n",
       "<td>3.174 Gb</td></tr>\n",
       "<tr><td>H2O_cluster_total_cores:</td>\n",
       "<td>2</td></tr>\n",
       "<tr><td>H2O_cluster_allowed_cores:</td>\n",
       "<td>2</td></tr>\n",
       "<tr><td>H2O_cluster_status:</td>\n",
       "<td>locked, healthy</td></tr>\n",
       "<tr><td>H2O_connection_url:</td>\n",
       "<td>http://localhost:54321</td></tr>\n",
       "<tr><td>H2O_connection_proxy:</td>\n",
       "<td>{\"http\": null, \"https\": null}</td></tr>\n",
       "<tr><td>H2O_internal_security:</td>\n",
       "<td>False</td></tr>\n",
       "<tr><td>H2O_API_Extensions:</td>\n",
       "<td>Amazon S3, XGBoost, Algos, AutoML, Core V3, TargetEncoder, Core V4</td></tr>\n",
       "<tr><td>Python_version:</td>\n",
       "<td>3.7.10 final</td></tr></table></div>"
      ],
      "text/plain": [
       "--------------------------  ------------------------------------------------------------------\n",
       "H2O_cluster_uptime:         03 secs\n",
       "H2O_cluster_timezone:       Etc/UTC\n",
       "H2O_data_parsing_timezone:  UTC\n",
       "H2O_cluster_version:        3.32.1.3\n",
       "H2O_cluster_version_age:    10 days\n",
       "H2O_cluster_name:           H2O_from_python_unknownUser_1mxggm\n",
       "H2O_cluster_total_nodes:    1\n",
       "H2O_cluster_free_memory:    3.174 Gb\n",
       "H2O_cluster_total_cores:    2\n",
       "H2O_cluster_allowed_cores:  2\n",
       "H2O_cluster_status:         locked, healthy\n",
       "H2O_connection_url:         http://localhost:54321\n",
       "H2O_connection_proxy:       {\"http\": null, \"https\": null}\n",
       "H2O_internal_security:      False\n",
       "H2O_API_Extensions:         Amazon S3, XGBoost, Algos, AutoML, Core V3, TargetEncoder, Core V4\n",
       "Python_version:             3.7.10 final\n",
       "--------------------------  ------------------------------------------------------------------"
      ]
     },
     "metadata": {
      "tags": []
     },
     "output_type": "display_data"
    },
    {
     "data": {
      "text/plain": [
       "<H2OConnection to http://localhost:54321, no session>"
      ]
     },
     "execution_count": 36,
     "metadata": {
      "tags": []
     },
     "output_type": "execute_result"
    }
   ],
   "source": [
    "h2o.connect()"
   ]
  },
  {
   "cell_type": "code",
   "execution_count": 37,
   "metadata": {
    "colab": {
     "base_uri": "https://localhost:8080/"
    },
    "id": "5iVO_OpEzvIC",
    "outputId": "95d84874-e967-4400-e4f7-2b3fb3b422cd"
   },
   "outputs": [
    {
     "name": "stdout",
     "output_type": "stream",
     "text": [
      "Parse progress: |█████████████████████████████████████████████████████████| 100%\n",
      "Parse progress: |█████████████████████████████████████████████████████████| 100%\n"
     ]
    }
   ],
   "source": [
    "h2o_train = h2o.H2OFrame(df_train)\n",
    "h2o_test = h2o.H2OFrame(df_test)"
   ]
  },
  {
   "cell_type": "code",
   "execution_count": 38,
   "metadata": {
    "colab": {
     "base_uri": "https://localhost:8080/",
     "height": 446
    },
    "id": "Ny3FaXljzvID",
    "outputId": "0979a7a7-4d64-4884-c403-d0954e21c658"
   },
   "outputs": [
    {
     "name": "stdout",
     "output_type": "stream",
     "text": [
      "Rows:245725\n",
      "Cols:11\n",
      "\n",
      "\n"
     ]
    },
    {
     "data": {
      "text/html": [
       "<table>\n",
       "<thead>\n",
       "<tr><th>       </th><th>ID      </th><th>Gender  </th><th>Age               </th><th>Region_Code  </th><th>Occupation   </th><th>Channel_Code  </th><th>Vintage           </th><th>Credit_Product  </th><th>Avg_Account_Balance  </th><th>Is_Active  </th><th>Is_Lead            </th></tr>\n",
       "</thead>\n",
       "<tbody>\n",
       "<tr><td>type   </td><td>string  </td><td>enum    </td><td>int               </td><td>enum         </td><td>enum         </td><td>enum          </td><td>int               </td><td>enum            </td><td>real                 </td><td>enum       </td><td>int                </td></tr>\n",
       "<tr><td>mins   </td><td>NaN     </td><td>        </td><td>23.0              </td><td>             </td><td>             </td><td>              </td><td>7.0               </td><td>                </td><td>9.942227380852058    </td><td>           </td><td>0.0                </td></tr>\n",
       "<tr><td>mean   </td><td>NaN     </td><td>        </td><td>43.85630684708504 </td><td>             </td><td>             </td><td>              </td><td>46.959141316512344</td><td>                </td><td>13.733421030458603   </td><td>           </td><td>0.23720826126767727</td></tr>\n",
       "<tr><td>maxs   </td><td>NaN     </td><td>        </td><td>85.0              </td><td>             </td><td>             </td><td>              </td><td>135.0             </td><td>                </td><td>16.15269116511966    </td><td>           </td><td>1.0                </td></tr>\n",
       "<tr><td>sigma  </td><td>NaN     </td><td>        </td><td>14.828671804648026</td><td>             </td><td>             </td><td>              </td><td>32.35313570875424 </td><td>                </td><td>0.6197575308147667   </td><td>           </td><td>0.42537188248718916</td></tr>\n",
       "<tr><td>zeros  </td><td>0       </td><td>        </td><td>0                 </td><td>             </td><td>             </td><td>              </td><td>0                 </td><td>                </td><td>0                    </td><td>           </td><td>187437             </td></tr>\n",
       "<tr><td>missing</td><td>0       </td><td>0       </td><td>0                 </td><td>0            </td><td>0            </td><td>0             </td><td>0                 </td><td>0               </td><td>0                    </td><td>0          </td><td>0                  </td></tr>\n",
       "<tr><td>0      </td><td>NNVBBKZB</td><td>Female  </td><td>73.0              </td><td>RG268        </td><td>Other        </td><td>X3            </td><td>43.0              </td><td>No              </td><td>13.860193250390497   </td><td>No         </td><td>0.0                </td></tr>\n",
       "<tr><td>1      </td><td>IDD62UNG</td><td>Female  </td><td>30.0              </td><td>RG277        </td><td>Salaried     </td><td>X1            </td><td>32.0              </td><td>No              </td><td>13.274205107944308   </td><td>No         </td><td>0.0                </td></tr>\n",
       "<tr><td>2      </td><td>HD3DSEMC</td><td>Female  </td><td>56.0              </td><td>RG268        </td><td>Self_Employed</td><td>X3            </td><td>26.0              </td><td>No              </td><td>14.210463944335558   </td><td>Yes        </td><td>0.0                </td></tr>\n",
       "<tr><td>3      </td><td>BF3NC7KV</td><td>Male    </td><td>34.0              </td><td>RG270        </td><td>Salaried     </td><td>X1            </td><td>19.0              </td><td>No              </td><td>13.061453464896374   </td><td>No         </td><td>0.0                </td></tr>\n",
       "<tr><td>4      </td><td>TEASRWXV</td><td>Female  </td><td>30.0              </td><td>RG282        </td><td>Salaried     </td><td>X1            </td><td>33.0              </td><td>No              </td><td>13.695360097167136   </td><td>No         </td><td>0.0                </td></tr>\n",
       "<tr><td>5      </td><td>ACUTYTWS</td><td>Male    </td><td>56.0              </td><td>RG261        </td><td>Self_Employed</td><td>X1            </td><td>32.0              </td><td>No              </td><td>13.207004113310212   </td><td>Yes        </td><td>0.0                </td></tr>\n",
       "<tr><td>6      </td><td>ETQCZFEJ</td><td>Male    </td><td>62.0              </td><td>RG282        </td><td>Other        </td><td>X3            </td><td>20.0              </td><td>nan             </td><td>13.870708718429036   </td><td>Yes        </td><td>1.0                </td></tr>\n",
       "<tr><td>7      </td><td>JJNJUQMQ</td><td>Female  </td><td>48.0              </td><td>RG265        </td><td>Self_Employed</td><td>X3            </td><td>13.0              </td><td>No              </td><td>13.005209144010358   </td><td>Yes        </td><td>0.0                </td></tr>\n",
       "<tr><td>8      </td><td>ZMQFYKCB</td><td>Female  </td><td>40.0              </td><td>RG283        </td><td>Self_Employed</td><td>X2            </td><td>38.0              </td><td>No              </td><td>14.057895010208494   </td><td>No         </td><td>0.0                </td></tr>\n",
       "<tr><td>9      </td><td>NVKTFBA2</td><td>Female  </td><td>55.0              </td><td>RG268        </td><td>Self_Employed</td><td>X2            </td><td>49.0              </td><td>Yes             </td><td>14.515752014534796   </td><td>No         </td><td>0.0                </td></tr>\n",
       "</tbody>\n",
       "</table>"
      ]
     },
     "metadata": {
      "tags": []
     },
     "output_type": "display_data"
    }
   ],
   "source": [
    "h2o_train.describe()"
   ]
  },
  {
   "cell_type": "code",
   "execution_count": 39,
   "metadata": {
    "colab": {
     "base_uri": "https://localhost:8080/"
    },
    "id": "hSSdXrkEzvID",
    "outputId": "277d124b-2309-4365-bd32-7281a2fe6dcf"
   },
   "outputs": [
    {
     "data": {
      "text/plain": [
       "['ID',\n",
       " 'Gender',\n",
       " 'Age',\n",
       " 'Region_Code',\n",
       " 'Occupation',\n",
       " 'Channel_Code',\n",
       " 'Vintage',\n",
       " 'Credit_Product',\n",
       " 'Avg_Account_Balance',\n",
       " 'Is_Active',\n",
       " 'Is_Lead']"
      ]
     },
     "execution_count": 39,
     "metadata": {
      "tags": []
     },
     "output_type": "execute_result"
    }
   ],
   "source": [
    "h2o_train.columns"
   ]
  },
  {
   "cell_type": "code",
   "execution_count": 40,
   "metadata": {
    "colab": {
     "base_uri": "https://localhost:8080/"
    },
    "id": "aECwTz5EzvID",
    "outputId": "4b5c326f-fede-4ade-b070-dee481c7fb89"
   },
   "outputs": [
    {
     "name": "stdout",
     "output_type": "stream",
     "text": [
      "Number of rows in train, valid and test set :  147609 49083 49033\n"
     ]
    }
   ],
   "source": [
    "train, valid, test = h2o_train.split_frame(ratios=[0.6,0.2], seed=1234)\n",
    "response = \"Is_Lead\"\n",
    "train[response] = train[response].asfactor()\n",
    "valid[response] = valid[response].asfactor()\n",
    "test[response] = test[response].asfactor()\n",
    "print(\"Number of rows in train, valid and test set : \", train.shape[0], valid.shape[0], test.shape[0])"
   ]
  },
  {
   "cell_type": "code",
   "execution_count": 41,
   "metadata": {
    "colab": {
     "base_uri": "https://localhost:8080/"
    },
    "id": "tO3BiSWrzvIE",
    "outputId": "d662b361-960c-4002-b83b-bde8198b6c2f"
   },
   "outputs": [
    {
     "name": "stdout",
     "output_type": "stream",
     "text": [
      "gbm Model Build progress: |███████████████████████████████████████████████| 100%\n"
     ]
    }
   ],
   "source": [
    "predictors = h2o_train.columns[:-1]\n",
    "gbm = H2OGradientBoostingEstimator()\n",
    "gbm.train(x=predictors, y=response, training_frame=train)"
   ]
  },
  {
   "cell_type": "code",
   "execution_count": 42,
   "metadata": {
    "colab": {
     "base_uri": "https://localhost:8080/",
     "height": 1000
    },
    "id": "HBXCXIEQzvIE",
    "outputId": "6bce2b87-c2bb-433f-b037-c077993cc11f"
   },
   "outputs": [
    {
     "name": "stdout",
     "output_type": "stream",
     "text": [
      "Model Details\n",
      "=============\n",
      "H2OGradientBoostingEstimator :  Gradient Boosting Machine\n",
      "Model Key:  GBM_model_python_1622387369297_1\n",
      "\n",
      "\n",
      "Model Summary: \n"
     ]
    },
    {
     "data": {
      "text/html": [
       "<div>\n",
       "<style scoped>\n",
       "    .dataframe tbody tr th:only-of-type {\n",
       "        vertical-align: middle;\n",
       "    }\n",
       "\n",
       "    .dataframe tbody tr th {\n",
       "        vertical-align: top;\n",
       "    }\n",
       "\n",
       "    .dataframe thead th {\n",
       "        text-align: right;\n",
       "    }\n",
       "</style>\n",
       "<table border=\"1\" class=\"dataframe\">\n",
       "  <thead>\n",
       "    <tr style=\"text-align: right;\">\n",
       "      <th></th>\n",
       "      <th></th>\n",
       "      <th>number_of_trees</th>\n",
       "      <th>number_of_internal_trees</th>\n",
       "      <th>model_size_in_bytes</th>\n",
       "      <th>min_depth</th>\n",
       "      <th>max_depth</th>\n",
       "      <th>mean_depth</th>\n",
       "      <th>min_leaves</th>\n",
       "      <th>max_leaves</th>\n",
       "      <th>mean_leaves</th>\n",
       "    </tr>\n",
       "  </thead>\n",
       "  <tbody>\n",
       "    <tr>\n",
       "      <th>0</th>\n",
       "      <td></td>\n",
       "      <td>50.0</td>\n",
       "      <td>50.0</td>\n",
       "      <td>25072.0</td>\n",
       "      <td>5.0</td>\n",
       "      <td>5.0</td>\n",
       "      <td>5.0</td>\n",
       "      <td>25.0</td>\n",
       "      <td>32.0</td>\n",
       "      <td>30.88</td>\n",
       "    </tr>\n",
       "  </tbody>\n",
       "</table>\n",
       "</div>"
      ],
      "text/plain": [
       "     number_of_trees  ...  max_leaves  mean_leaves\n",
       "0               50.0  ...        32.0        30.88\n",
       "\n",
       "[1 rows x 10 columns]"
      ]
     },
     "metadata": {
      "tags": []
     },
     "output_type": "display_data"
    },
    {
     "name": "stdout",
     "output_type": "stream",
     "text": [
      "\n",
      "\n",
      "ModelMetricsBinomial: gbm\n",
      "** Reported on train data. **\n",
      "\n",
      "MSE: 0.10250531771048872\n",
      "RMSE: 0.32016451663244744\n",
      "LogLoss: 0.3405670455789159\n",
      "Mean Per-Class Error: 0.1928603207170545\n",
      "AUC: 0.877024796348631\n",
      "AUCPR: 0.7604627400606558\n",
      "Gini: 0.7540495926972619\n",
      "\n",
      "Confusion Matrix (Act/Pred) for max f1 @ threshold = 0.35648148703790666: \n"
     ]
    },
    {
     "data": {
      "text/html": [
       "<div>\n",
       "<style scoped>\n",
       "    .dataframe tbody tr th:only-of-type {\n",
       "        vertical-align: middle;\n",
       "    }\n",
       "\n",
       "    .dataframe tbody tr th {\n",
       "        vertical-align: top;\n",
       "    }\n",
       "\n",
       "    .dataframe thead th {\n",
       "        text-align: right;\n",
       "    }\n",
       "</style>\n",
       "<table border=\"1\" class=\"dataframe\">\n",
       "  <thead>\n",
       "    <tr style=\"text-align: right;\">\n",
       "      <th></th>\n",
       "      <th></th>\n",
       "      <th>0</th>\n",
       "      <th>1</th>\n",
       "      <th>Error</th>\n",
       "      <th>Rate</th>\n",
       "    </tr>\n",
       "  </thead>\n",
       "  <tbody>\n",
       "    <tr>\n",
       "      <th>0</th>\n",
       "      <td>0</td>\n",
       "      <td>101936.0</td>\n",
       "      <td>10828.0</td>\n",
       "      <td>0.096</td>\n",
       "      <td>(10828.0/112764.0)</td>\n",
       "    </tr>\n",
       "    <tr>\n",
       "      <th>1</th>\n",
       "      <td>1</td>\n",
       "      <td>10943.0</td>\n",
       "      <td>23902.0</td>\n",
       "      <td>0.314</td>\n",
       "      <td>(10943.0/34845.0)</td>\n",
       "    </tr>\n",
       "    <tr>\n",
       "      <th>2</th>\n",
       "      <td>Total</td>\n",
       "      <td>112879.0</td>\n",
       "      <td>34730.0</td>\n",
       "      <td>0.1475</td>\n",
       "      <td>(21771.0/147609.0)</td>\n",
       "    </tr>\n",
       "  </tbody>\n",
       "</table>\n",
       "</div>"
      ],
      "text/plain": [
       "                 0        1   Error                 Rate\n",
       "0      0  101936.0  10828.0   0.096   (10828.0/112764.0)\n",
       "1      1   10943.0  23902.0   0.314    (10943.0/34845.0)\n",
       "2  Total  112879.0  34730.0  0.1475   (21771.0/147609.0)"
      ]
     },
     "metadata": {
      "tags": []
     },
     "output_type": "display_data"
    },
    {
     "name": "stdout",
     "output_type": "stream",
     "text": [
      "\n",
      "Maximum Metrics: Maximum metrics at their respective thresholds\n"
     ]
    },
    {
     "data": {
      "text/html": [
       "<div>\n",
       "<style scoped>\n",
       "    .dataframe tbody tr th:only-of-type {\n",
       "        vertical-align: middle;\n",
       "    }\n",
       "\n",
       "    .dataframe tbody tr th {\n",
       "        vertical-align: top;\n",
       "    }\n",
       "\n",
       "    .dataframe thead th {\n",
       "        text-align: right;\n",
       "    }\n",
       "</style>\n",
       "<table border=\"1\" class=\"dataframe\">\n",
       "  <thead>\n",
       "    <tr style=\"text-align: right;\">\n",
       "      <th></th>\n",
       "      <th>metric</th>\n",
       "      <th>threshold</th>\n",
       "      <th>value</th>\n",
       "      <th>idx</th>\n",
       "    </tr>\n",
       "  </thead>\n",
       "  <tbody>\n",
       "    <tr>\n",
       "      <th>0</th>\n",
       "      <td>max f1</td>\n",
       "      <td>0.356481</td>\n",
       "      <td>0.687086</td>\n",
       "      <td>197.0</td>\n",
       "    </tr>\n",
       "    <tr>\n",
       "      <th>1</th>\n",
       "      <td>max f2</td>\n",
       "      <td>0.165877</td>\n",
       "      <td>0.743286</td>\n",
       "      <td>289.0</td>\n",
       "    </tr>\n",
       "    <tr>\n",
       "      <th>2</th>\n",
       "      <td>max f0point5</td>\n",
       "      <td>0.546460</td>\n",
       "      <td>0.744609</td>\n",
       "      <td>123.0</td>\n",
       "    </tr>\n",
       "    <tr>\n",
       "      <th>3</th>\n",
       "      <td>max accuracy</td>\n",
       "      <td>0.472804</td>\n",
       "      <td>0.863105</td>\n",
       "      <td>147.0</td>\n",
       "    </tr>\n",
       "    <tr>\n",
       "      <th>4</th>\n",
       "      <td>max precision</td>\n",
       "      <td>0.981924</td>\n",
       "      <td>1.000000</td>\n",
       "      <td>0.0</td>\n",
       "    </tr>\n",
       "    <tr>\n",
       "      <th>5</th>\n",
       "      <td>max recall</td>\n",
       "      <td>0.023719</td>\n",
       "      <td>1.000000</td>\n",
       "      <td>399.0</td>\n",
       "    </tr>\n",
       "    <tr>\n",
       "      <th>6</th>\n",
       "      <td>max specificity</td>\n",
       "      <td>0.981924</td>\n",
       "      <td>1.000000</td>\n",
       "      <td>0.0</td>\n",
       "    </tr>\n",
       "    <tr>\n",
       "      <th>7</th>\n",
       "      <td>max absolute_mcc</td>\n",
       "      <td>0.425132</td>\n",
       "      <td>0.595553</td>\n",
       "      <td>168.0</td>\n",
       "    </tr>\n",
       "    <tr>\n",
       "      <th>8</th>\n",
       "      <td>max min_per_class_accuracy</td>\n",
       "      <td>0.204993</td>\n",
       "      <td>0.804907</td>\n",
       "      <td>268.0</td>\n",
       "    </tr>\n",
       "    <tr>\n",
       "      <th>9</th>\n",
       "      <td>max mean_per_class_accuracy</td>\n",
       "      <td>0.255904</td>\n",
       "      <td>0.807140</td>\n",
       "      <td>243.0</td>\n",
       "    </tr>\n",
       "    <tr>\n",
       "      <th>10</th>\n",
       "      <td>max tns</td>\n",
       "      <td>0.981924</td>\n",
       "      <td>112764.000000</td>\n",
       "      <td>0.0</td>\n",
       "    </tr>\n",
       "    <tr>\n",
       "      <th>11</th>\n",
       "      <td>max fns</td>\n",
       "      <td>0.981924</td>\n",
       "      <td>34605.000000</td>\n",
       "      <td>0.0</td>\n",
       "    </tr>\n",
       "    <tr>\n",
       "      <th>12</th>\n",
       "      <td>max fps</td>\n",
       "      <td>0.023719</td>\n",
       "      <td>112764.000000</td>\n",
       "      <td>399.0</td>\n",
       "    </tr>\n",
       "    <tr>\n",
       "      <th>13</th>\n",
       "      <td>max tps</td>\n",
       "      <td>0.023719</td>\n",
       "      <td>34845.000000</td>\n",
       "      <td>399.0</td>\n",
       "    </tr>\n",
       "    <tr>\n",
       "      <th>14</th>\n",
       "      <td>max tnr</td>\n",
       "      <td>0.981924</td>\n",
       "      <td>1.000000</td>\n",
       "      <td>0.0</td>\n",
       "    </tr>\n",
       "    <tr>\n",
       "      <th>15</th>\n",
       "      <td>max fnr</td>\n",
       "      <td>0.981924</td>\n",
       "      <td>0.993112</td>\n",
       "      <td>0.0</td>\n",
       "    </tr>\n",
       "    <tr>\n",
       "      <th>16</th>\n",
       "      <td>max fpr</td>\n",
       "      <td>0.023719</td>\n",
       "      <td>1.000000</td>\n",
       "      <td>399.0</td>\n",
       "    </tr>\n",
       "    <tr>\n",
       "      <th>17</th>\n",
       "      <td>max tpr</td>\n",
       "      <td>0.023719</td>\n",
       "      <td>1.000000</td>\n",
       "      <td>399.0</td>\n",
       "    </tr>\n",
       "  </tbody>\n",
       "</table>\n",
       "</div>"
      ],
      "text/plain": [
       "                         metric  threshold          value    idx\n",
       "0                        max f1   0.356481       0.687086  197.0\n",
       "1                        max f2   0.165877       0.743286  289.0\n",
       "2                  max f0point5   0.546460       0.744609  123.0\n",
       "3                  max accuracy   0.472804       0.863105  147.0\n",
       "4                 max precision   0.981924       1.000000    0.0\n",
       "5                    max recall   0.023719       1.000000  399.0\n",
       "6               max specificity   0.981924       1.000000    0.0\n",
       "7              max absolute_mcc   0.425132       0.595553  168.0\n",
       "8    max min_per_class_accuracy   0.204993       0.804907  268.0\n",
       "9   max mean_per_class_accuracy   0.255904       0.807140  243.0\n",
       "10                      max tns   0.981924  112764.000000    0.0\n",
       "11                      max fns   0.981924   34605.000000    0.0\n",
       "12                      max fps   0.023719  112764.000000  399.0\n",
       "13                      max tps   0.023719   34845.000000  399.0\n",
       "14                      max tnr   0.981924       1.000000    0.0\n",
       "15                      max fnr   0.981924       0.993112    0.0\n",
       "16                      max fpr   0.023719       1.000000  399.0\n",
       "17                      max tpr   0.023719       1.000000  399.0"
      ]
     },
     "metadata": {
      "tags": []
     },
     "output_type": "display_data"
    },
    {
     "name": "stdout",
     "output_type": "stream",
     "text": [
      "\n",
      "Gains/Lift Table: Avg response rate: 23.61 %, avg score: 23.61 %\n"
     ]
    },
    {
     "data": {
      "text/html": [
       "<div>\n",
       "<style scoped>\n",
       "    .dataframe tbody tr th:only-of-type {\n",
       "        vertical-align: middle;\n",
       "    }\n",
       "\n",
       "    .dataframe tbody tr th {\n",
       "        vertical-align: top;\n",
       "    }\n",
       "\n",
       "    .dataframe thead th {\n",
       "        text-align: right;\n",
       "    }\n",
       "</style>\n",
       "<table border=\"1\" class=\"dataframe\">\n",
       "  <thead>\n",
       "    <tr style=\"text-align: right;\">\n",
       "      <th></th>\n",
       "      <th>group</th>\n",
       "      <th>cumulative_data_fraction</th>\n",
       "      <th>lower_threshold</th>\n",
       "      <th>lift</th>\n",
       "      <th>cumulative_lift</th>\n",
       "      <th>response_rate</th>\n",
       "      <th>score</th>\n",
       "      <th>cumulative_response_rate</th>\n",
       "      <th>cumulative_score</th>\n",
       "      <th>capture_rate</th>\n",
       "      <th>cumulative_capture_rate</th>\n",
       "      <th>gain</th>\n",
       "      <th>cumulative_gain</th>\n",
       "      <th>kolmogorov_smirnov</th>\n",
       "    </tr>\n",
       "  </thead>\n",
       "  <tbody>\n",
       "    <tr>\n",
       "      <th>0</th>\n",
       "      <td>1</td>\n",
       "      <td>0.010006</td>\n",
       "      <td>0.968321</td>\n",
       "      <td>4.233292</td>\n",
       "      <td>4.233292</td>\n",
       "      <td>0.999323</td>\n",
       "      <td>0.976820</td>\n",
       "      <td>0.999323</td>\n",
       "      <td>0.976820</td>\n",
       "      <td>0.042359</td>\n",
       "      <td>0.042359</td>\n",
       "      <td>323.329205</td>\n",
       "      <td>323.329205</td>\n",
       "      <td>0.042350</td>\n",
       "    </tr>\n",
       "    <tr>\n",
       "      <th>1</th>\n",
       "      <td>2</td>\n",
       "      <td>0.020006</td>\n",
       "      <td>0.896900</td>\n",
       "      <td>4.167279</td>\n",
       "      <td>4.200297</td>\n",
       "      <td>0.983740</td>\n",
       "      <td>0.941748</td>\n",
       "      <td>0.991534</td>\n",
       "      <td>0.959290</td>\n",
       "      <td>0.041670</td>\n",
       "      <td>0.084029</td>\n",
       "      <td>316.727949</td>\n",
       "      <td>320.029695</td>\n",
       "      <td>0.083808</td>\n",
       "    </tr>\n",
       "    <tr>\n",
       "      <th>2</th>\n",
       "      <td>3</td>\n",
       "      <td>0.030005</td>\n",
       "      <td>0.860775</td>\n",
       "      <td>3.946287</td>\n",
       "      <td>4.115646</td>\n",
       "      <td>0.931572</td>\n",
       "      <td>0.871791</td>\n",
       "      <td>0.971551</td>\n",
       "      <td>0.930130</td>\n",
       "      <td>0.039460</td>\n",
       "      <td>0.123490</td>\n",
       "      <td>294.628739</td>\n",
       "      <td>311.564621</td>\n",
       "      <td>0.122372</td>\n",
       "    </tr>\n",
       "    <tr>\n",
       "      <th>3</th>\n",
       "      <td>4</td>\n",
       "      <td>0.040018</td>\n",
       "      <td>0.851803</td>\n",
       "      <td>3.743183</td>\n",
       "      <td>4.022452</td>\n",
       "      <td>0.883627</td>\n",
       "      <td>0.855994</td>\n",
       "      <td>0.949551</td>\n",
       "      <td>0.911580</td>\n",
       "      <td>0.037480</td>\n",
       "      <td>0.160970</td>\n",
       "      <td>274.318345</td>\n",
       "      <td>302.245170</td>\n",
       "      <td>0.158327</td>\n",
       "    </tr>\n",
       "    <tr>\n",
       "      <th>4</th>\n",
       "      <td>5</td>\n",
       "      <td>0.050004</td>\n",
       "      <td>0.844715</td>\n",
       "      <td>3.704485</td>\n",
       "      <td>3.958953</td>\n",
       "      <td>0.874491</td>\n",
       "      <td>0.848121</td>\n",
       "      <td>0.934562</td>\n",
       "      <td>0.898908</td>\n",
       "      <td>0.036992</td>\n",
       "      <td>0.197962</td>\n",
       "      <td>270.448468</td>\n",
       "      <td>295.895307</td>\n",
       "      <td>0.193679</td>\n",
       "    </tr>\n",
       "    <tr>\n",
       "      <th>5</th>\n",
       "      <td>6</td>\n",
       "      <td>0.100001</td>\n",
       "      <td>0.825360</td>\n",
       "      <td>3.585238</td>\n",
       "      <td>3.772108</td>\n",
       "      <td>0.846341</td>\n",
       "      <td>0.834816</td>\n",
       "      <td>0.890455</td>\n",
       "      <td>0.866864</td>\n",
       "      <td>0.179251</td>\n",
       "      <td>0.377213</td>\n",
       "      <td>258.523797</td>\n",
       "      <td>277.210818</td>\n",
       "      <td>0.362874</td>\n",
       "    </tr>\n",
       "    <tr>\n",
       "      <th>6</th>\n",
       "      <td>7</td>\n",
       "      <td>0.150614</td>\n",
       "      <td>0.504086</td>\n",
       "      <td>2.960379</td>\n",
       "      <td>3.499329</td>\n",
       "      <td>0.698835</td>\n",
       "      <td>0.702298</td>\n",
       "      <td>0.826062</td>\n",
       "      <td>0.811562</td>\n",
       "      <td>0.149835</td>\n",
       "      <td>0.527048</td>\n",
       "      <td>196.037908</td>\n",
       "      <td>249.932894</td>\n",
       "      <td>0.492755</td>\n",
       "    </tr>\n",
       "    <tr>\n",
       "      <th>7</th>\n",
       "      <td>8</td>\n",
       "      <td>0.200028</td>\n",
       "      <td>0.422701</td>\n",
       "      <td>2.051872</td>\n",
       "      <td>3.141754</td>\n",
       "      <td>0.484371</td>\n",
       "      <td>0.459508</td>\n",
       "      <td>0.741651</td>\n",
       "      <td>0.724592</td>\n",
       "      <td>0.101392</td>\n",
       "      <td>0.628440</td>\n",
       "      <td>105.187192</td>\n",
       "      <td>214.175421</td>\n",
       "      <td>0.560795</td>\n",
       "    </tr>\n",
       "    <tr>\n",
       "      <th>8</th>\n",
       "      <td>9</td>\n",
       "      <td>0.300178</td>\n",
       "      <td>0.251041</td>\n",
       "      <td>1.408710</td>\n",
       "      <td>2.563551</td>\n",
       "      <td>0.332544</td>\n",
       "      <td>0.329148</td>\n",
       "      <td>0.605159</td>\n",
       "      <td>0.592658</td>\n",
       "      <td>0.141082</td>\n",
       "      <td>0.769522</td>\n",
       "      <td>40.871022</td>\n",
       "      <td>156.355138</td>\n",
       "      <td>0.614375</td>\n",
       "    </tr>\n",
       "    <tr>\n",
       "      <th>9</th>\n",
       "      <td>10</td>\n",
       "      <td>0.400030</td>\n",
       "      <td>0.149658</td>\n",
       "      <td>0.769401</td>\n",
       "      <td>2.115713</td>\n",
       "      <td>0.181627</td>\n",
       "      <td>0.195888</td>\n",
       "      <td>0.499441</td>\n",
       "      <td>0.493620</td>\n",
       "      <td>0.076826</td>\n",
       "      <td>0.846348</td>\n",
       "      <td>-23.059904</td>\n",
       "      <td>111.571262</td>\n",
       "      <td>0.584234</td>\n",
       "    </tr>\n",
       "    <tr>\n",
       "      <th>10</th>\n",
       "      <td>11</td>\n",
       "      <td>0.500105</td>\n",
       "      <td>0.086725</td>\n",
       "      <td>0.474030</td>\n",
       "      <td>1.787198</td>\n",
       "      <td>0.111901</td>\n",
       "      <td>0.114220</td>\n",
       "      <td>0.421891</td>\n",
       "      <td>0.417699</td>\n",
       "      <td>0.047439</td>\n",
       "      <td>0.893787</td>\n",
       "      <td>-52.596990</td>\n",
       "      <td>78.719820</td>\n",
       "      <td>0.515333</td>\n",
       "    </tr>\n",
       "    <tr>\n",
       "      <th>11</th>\n",
       "      <td>12</td>\n",
       "      <td>0.600011</td>\n",
       "      <td>0.063511</td>\n",
       "      <td>0.289267</td>\n",
       "      <td>1.537783</td>\n",
       "      <td>0.068285</td>\n",
       "      <td>0.073217</td>\n",
       "      <td>0.363013</td>\n",
       "      <td>0.360341</td>\n",
       "      <td>0.028899</td>\n",
       "      <td>0.922686</td>\n",
       "      <td>-71.073349</td>\n",
       "      <td>53.778252</td>\n",
       "      <td>0.422385</td>\n",
       "    </tr>\n",
       "    <tr>\n",
       "      <th>12</th>\n",
       "      <td>13</td>\n",
       "      <td>0.700106</td>\n",
       "      <td>0.056356</td>\n",
       "      <td>0.248005</td>\n",
       "      <td>1.353381</td>\n",
       "      <td>0.058545</td>\n",
       "      <td>0.058918</td>\n",
       "      <td>0.319483</td>\n",
       "      <td>0.317246</td>\n",
       "      <td>0.024824</td>\n",
       "      <td>0.947510</td>\n",
       "      <td>-75.199469</td>\n",
       "      <td>35.338065</td>\n",
       "      <td>0.323854</td>\n",
       "    </tr>\n",
       "    <tr>\n",
       "      <th>13</th>\n",
       "      <td>14</td>\n",
       "      <td>0.799999</td>\n",
       "      <td>0.053819</td>\n",
       "      <td>0.220355</td>\n",
       "      <td>1.211905</td>\n",
       "      <td>0.052018</td>\n",
       "      <td>0.054925</td>\n",
       "      <td>0.286086</td>\n",
       "      <td>0.284491</td>\n",
       "      <td>0.022012</td>\n",
       "      <td>0.969522</td>\n",
       "      <td>-77.964498</td>\n",
       "      <td>21.190476</td>\n",
       "      <td>0.221908</td>\n",
       "    </tr>\n",
       "    <tr>\n",
       "      <th>14</th>\n",
       "      <td>15</td>\n",
       "      <td>0.900955</td>\n",
       "      <td>0.047907</td>\n",
       "      <td>0.200409</td>\n",
       "      <td>1.098562</td>\n",
       "      <td>0.047309</td>\n",
       "      <td>0.051371</td>\n",
       "      <td>0.259330</td>\n",
       "      <td>0.258369</td>\n",
       "      <td>0.020232</td>\n",
       "      <td>0.989755</td>\n",
       "      <td>-79.959114</td>\n",
       "      <td>9.856222</td>\n",
       "      <td>0.116240</td>\n",
       "    </tr>\n",
       "    <tr>\n",
       "      <th>15</th>\n",
       "      <td>16</td>\n",
       "      <td>1.000000</td>\n",
       "      <td>0.021222</td>\n",
       "      <td>0.103441</td>\n",
       "      <td>1.000000</td>\n",
       "      <td>0.024419</td>\n",
       "      <td>0.033626</td>\n",
       "      <td>0.236063</td>\n",
       "      <td>0.236109</td>\n",
       "      <td>0.010245</td>\n",
       "      <td>1.000000</td>\n",
       "      <td>-89.655888</td>\n",
       "      <td>0.000000</td>\n",
       "      <td>0.000000</td>\n",
       "    </tr>\n",
       "  </tbody>\n",
       "</table>\n",
       "</div>"
      ],
      "text/plain": [
       "    group  cumulative_data_fraction  ...  cumulative_gain  kolmogorov_smirnov\n",
       "0       1                  0.010006  ...       323.329205            0.042350\n",
       "1       2                  0.020006  ...       320.029695            0.083808\n",
       "2       3                  0.030005  ...       311.564621            0.122372\n",
       "3       4                  0.040018  ...       302.245170            0.158327\n",
       "4       5                  0.050004  ...       295.895307            0.193679\n",
       "5       6                  0.100001  ...       277.210818            0.362874\n",
       "6       7                  0.150614  ...       249.932894            0.492755\n",
       "7       8                  0.200028  ...       214.175421            0.560795\n",
       "8       9                  0.300178  ...       156.355138            0.614375\n",
       "9      10                  0.400030  ...       111.571262            0.584234\n",
       "10     11                  0.500105  ...        78.719820            0.515333\n",
       "11     12                  0.600011  ...        53.778252            0.422385\n",
       "12     13                  0.700106  ...        35.338065            0.323854\n",
       "13     14                  0.799999  ...        21.190476            0.221908\n",
       "14     15                  0.900955  ...         9.856222            0.116240\n",
       "15     16                  1.000000  ...         0.000000            0.000000\n",
       "\n",
       "[16 rows x 14 columns]"
      ]
     },
     "metadata": {
      "tags": []
     },
     "output_type": "display_data"
    },
    {
     "name": "stdout",
     "output_type": "stream",
     "text": [
      "\n",
      "\n",
      "Scoring History: \n"
     ]
    },
    {
     "data": {
      "text/html": [
       "<div>\n",
       "<style scoped>\n",
       "    .dataframe tbody tr th:only-of-type {\n",
       "        vertical-align: middle;\n",
       "    }\n",
       "\n",
       "    .dataframe tbody tr th {\n",
       "        vertical-align: top;\n",
       "    }\n",
       "\n",
       "    .dataframe thead th {\n",
       "        text-align: right;\n",
       "    }\n",
       "</style>\n",
       "<table border=\"1\" class=\"dataframe\">\n",
       "  <thead>\n",
       "    <tr style=\"text-align: right;\">\n",
       "      <th></th>\n",
       "      <th></th>\n",
       "      <th>timestamp</th>\n",
       "      <th>duration</th>\n",
       "      <th>number_of_trees</th>\n",
       "      <th>training_rmse</th>\n",
       "      <th>training_logloss</th>\n",
       "      <th>training_auc</th>\n",
       "      <th>training_pr_auc</th>\n",
       "      <th>training_lift</th>\n",
       "      <th>training_classification_error</th>\n",
       "    </tr>\n",
       "  </thead>\n",
       "  <tbody>\n",
       "    <tr>\n",
       "      <th>0</th>\n",
       "      <td></td>\n",
       "      <td>2021-05-30 15:09:45</td>\n",
       "      <td>0.102 sec</td>\n",
       "      <td>0.0</td>\n",
       "      <td>0.424661</td>\n",
       "      <td>0.546499</td>\n",
       "      <td>0.500000</td>\n",
       "      <td>0.236063</td>\n",
       "      <td>1.000000</td>\n",
       "      <td>0.763937</td>\n",
       "    </tr>\n",
       "    <tr>\n",
       "      <th>1</th>\n",
       "      <td></td>\n",
       "      <td>2021-05-30 15:09:47</td>\n",
       "      <td>1.615 sec</td>\n",
       "      <td>1.0</td>\n",
       "      <td>0.406962</td>\n",
       "      <td>0.507834</td>\n",
       "      <td>0.865346</td>\n",
       "      <td>0.733779</td>\n",
       "      <td>4.183443</td>\n",
       "      <td>0.162585</td>\n",
       "    </tr>\n",
       "    <tr>\n",
       "      <th>2</th>\n",
       "      <td></td>\n",
       "      <td>2021-05-30 15:09:47</td>\n",
       "      <td>2.051 sec</td>\n",
       "      <td>2.0</td>\n",
       "      <td>0.392481</td>\n",
       "      <td>0.479381</td>\n",
       "      <td>0.866832</td>\n",
       "      <td>0.736462</td>\n",
       "      <td>4.183443</td>\n",
       "      <td>0.161894</td>\n",
       "    </tr>\n",
       "    <tr>\n",
       "      <th>3</th>\n",
       "      <td></td>\n",
       "      <td>2021-05-30 15:09:48</td>\n",
       "      <td>2.448 sec</td>\n",
       "      <td>3.0</td>\n",
       "      <td>0.380572</td>\n",
       "      <td>0.457314</td>\n",
       "      <td>0.867331</td>\n",
       "      <td>0.737989</td>\n",
       "      <td>4.183161</td>\n",
       "      <td>0.161894</td>\n",
       "    </tr>\n",
       "    <tr>\n",
       "      <th>4</th>\n",
       "      <td></td>\n",
       "      <td>2021-05-30 15:09:48</td>\n",
       "      <td>2.725 sec</td>\n",
       "      <td>4.0</td>\n",
       "      <td>0.370861</td>\n",
       "      <td>0.439850</td>\n",
       "      <td>0.867300</td>\n",
       "      <td>0.738068</td>\n",
       "      <td>4.183161</td>\n",
       "      <td>0.161894</td>\n",
       "    </tr>\n",
       "    <tr>\n",
       "      <th>5</th>\n",
       "      <td></td>\n",
       "      <td>2021-05-30 15:09:48</td>\n",
       "      <td>2.968 sec</td>\n",
       "      <td>5.0</td>\n",
       "      <td>0.362722</td>\n",
       "      <td>0.425379</td>\n",
       "      <td>0.867648</td>\n",
       "      <td>0.739308</td>\n",
       "      <td>4.197296</td>\n",
       "      <td>0.155953</td>\n",
       "    </tr>\n",
       "    <tr>\n",
       "      <th>6</th>\n",
       "      <td></td>\n",
       "      <td>2021-05-30 15:09:49</td>\n",
       "      <td>3.219 sec</td>\n",
       "      <td>6.0</td>\n",
       "      <td>0.356096</td>\n",
       "      <td>0.413591</td>\n",
       "      <td>0.868136</td>\n",
       "      <td>0.739959</td>\n",
       "      <td>4.197207</td>\n",
       "      <td>0.155953</td>\n",
       "    </tr>\n",
       "    <tr>\n",
       "      <th>7</th>\n",
       "      <td></td>\n",
       "      <td>2021-05-30 15:09:49</td>\n",
       "      <td>3.428 sec</td>\n",
       "      <td>7.0</td>\n",
       "      <td>0.350534</td>\n",
       "      <td>0.403597</td>\n",
       "      <td>0.868201</td>\n",
       "      <td>0.741273</td>\n",
       "      <td>4.197632</td>\n",
       "      <td>0.151630</td>\n",
       "    </tr>\n",
       "    <tr>\n",
       "      <th>8</th>\n",
       "      <td></td>\n",
       "      <td>2021-05-30 15:09:49</td>\n",
       "      <td>3.681 sec</td>\n",
       "      <td>8.0</td>\n",
       "      <td>0.345971</td>\n",
       "      <td>0.395243</td>\n",
       "      <td>0.869092</td>\n",
       "      <td>0.742502</td>\n",
       "      <td>4.197632</td>\n",
       "      <td>0.152064</td>\n",
       "    </tr>\n",
       "    <tr>\n",
       "      <th>9</th>\n",
       "      <td></td>\n",
       "      <td>2021-05-30 15:09:49</td>\n",
       "      <td>3.899 sec</td>\n",
       "      <td>9.0</td>\n",
       "      <td>0.342098</td>\n",
       "      <td>0.388009</td>\n",
       "      <td>0.869334</td>\n",
       "      <td>0.743258</td>\n",
       "      <td>4.218436</td>\n",
       "      <td>0.151651</td>\n",
       "    </tr>\n",
       "    <tr>\n",
       "      <th>10</th>\n",
       "      <td></td>\n",
       "      <td>2021-05-30 15:09:50</td>\n",
       "      <td>4.195 sec</td>\n",
       "      <td>10.0</td>\n",
       "      <td>0.338838</td>\n",
       "      <td>0.381805</td>\n",
       "      <td>0.869706</td>\n",
       "      <td>0.744043</td>\n",
       "      <td>4.214726</td>\n",
       "      <td>0.158256</td>\n",
       "    </tr>\n",
       "    <tr>\n",
       "      <th>11</th>\n",
       "      <td></td>\n",
       "      <td>2021-05-30 15:09:54</td>\n",
       "      <td>8.228 sec</td>\n",
       "      <td>45.0</td>\n",
       "      <td>0.320599</td>\n",
       "      <td>0.341593</td>\n",
       "      <td>0.876139</td>\n",
       "      <td>0.758799</td>\n",
       "      <td>4.224688</td>\n",
       "      <td>0.145906</td>\n",
       "    </tr>\n",
       "    <tr>\n",
       "      <th>12</th>\n",
       "      <td></td>\n",
       "      <td>2021-05-30 15:09:54</td>\n",
       "      <td>8.948 sec</td>\n",
       "      <td>50.0</td>\n",
       "      <td>0.320165</td>\n",
       "      <td>0.340567</td>\n",
       "      <td>0.877025</td>\n",
       "      <td>0.760463</td>\n",
       "      <td>4.233292</td>\n",
       "      <td>0.147491</td>\n",
       "    </tr>\n",
       "  </tbody>\n",
       "</table>\n",
       "</div>"
      ],
      "text/plain": [
       "                timestamp  ... training_lift  training_classification_error\n",
       "0     2021-05-30 15:09:45  ...      1.000000                       0.763937\n",
       "1     2021-05-30 15:09:47  ...      4.183443                       0.162585\n",
       "2     2021-05-30 15:09:47  ...      4.183443                       0.161894\n",
       "3     2021-05-30 15:09:48  ...      4.183161                       0.161894\n",
       "4     2021-05-30 15:09:48  ...      4.183161                       0.161894\n",
       "5     2021-05-30 15:09:48  ...      4.197296                       0.155953\n",
       "6     2021-05-30 15:09:49  ...      4.197207                       0.155953\n",
       "7     2021-05-30 15:09:49  ...      4.197632                       0.151630\n",
       "8     2021-05-30 15:09:49  ...      4.197632                       0.152064\n",
       "9     2021-05-30 15:09:49  ...      4.218436                       0.151651\n",
       "10    2021-05-30 15:09:50  ...      4.214726                       0.158256\n",
       "11    2021-05-30 15:09:54  ...      4.224688                       0.145906\n",
       "12    2021-05-30 15:09:54  ...      4.233292                       0.147491\n",
       "\n",
       "[13 rows x 10 columns]"
      ]
     },
     "metadata": {
      "tags": []
     },
     "output_type": "display_data"
    },
    {
     "name": "stdout",
     "output_type": "stream",
     "text": [
      "\n",
      "Variable Importances: \n"
     ]
    },
    {
     "data": {
      "text/html": [
       "<div>\n",
       "<style scoped>\n",
       "    .dataframe tbody tr th:only-of-type {\n",
       "        vertical-align: middle;\n",
       "    }\n",
       "\n",
       "    .dataframe tbody tr th {\n",
       "        vertical-align: top;\n",
       "    }\n",
       "\n",
       "    .dataframe thead th {\n",
       "        text-align: right;\n",
       "    }\n",
       "</style>\n",
       "<table border=\"1\" class=\"dataframe\">\n",
       "  <thead>\n",
       "    <tr style=\"text-align: right;\">\n",
       "      <th></th>\n",
       "      <th>variable</th>\n",
       "      <th>relative_importance</th>\n",
       "      <th>scaled_importance</th>\n",
       "      <th>percentage</th>\n",
       "    </tr>\n",
       "  </thead>\n",
       "  <tbody>\n",
       "    <tr>\n",
       "      <th>0</th>\n",
       "      <td>Credit_Product</td>\n",
       "      <td>47932.980469</td>\n",
       "      <td>1.000000</td>\n",
       "      <td>0.803028</td>\n",
       "    </tr>\n",
       "    <tr>\n",
       "      <th>1</th>\n",
       "      <td>Vintage</td>\n",
       "      <td>4298.886719</td>\n",
       "      <td>0.089685</td>\n",
       "      <td>0.072020</td>\n",
       "    </tr>\n",
       "    <tr>\n",
       "      <th>2</th>\n",
       "      <td>Occupation</td>\n",
       "      <td>3408.041504</td>\n",
       "      <td>0.071100</td>\n",
       "      <td>0.057095</td>\n",
       "    </tr>\n",
       "    <tr>\n",
       "      <th>3</th>\n",
       "      <td>Is_Active</td>\n",
       "      <td>1483.279785</td>\n",
       "      <td>0.030945</td>\n",
       "      <td>0.024850</td>\n",
       "    </tr>\n",
       "    <tr>\n",
       "      <th>4</th>\n",
       "      <td>Age</td>\n",
       "      <td>1344.469849</td>\n",
       "      <td>0.028049</td>\n",
       "      <td>0.022524</td>\n",
       "    </tr>\n",
       "    <tr>\n",
       "      <th>5</th>\n",
       "      <td>Channel_Code</td>\n",
       "      <td>572.789673</td>\n",
       "      <td>0.011950</td>\n",
       "      <td>0.009596</td>\n",
       "    </tr>\n",
       "    <tr>\n",
       "      <th>6</th>\n",
       "      <td>Region_Code</td>\n",
       "      <td>532.656250</td>\n",
       "      <td>0.011113</td>\n",
       "      <td>0.008924</td>\n",
       "    </tr>\n",
       "    <tr>\n",
       "      <th>7</th>\n",
       "      <td>Avg_Account_Balance</td>\n",
       "      <td>94.750282</td>\n",
       "      <td>0.001977</td>\n",
       "      <td>0.001587</td>\n",
       "    </tr>\n",
       "    <tr>\n",
       "      <th>8</th>\n",
       "      <td>Gender</td>\n",
       "      <td>22.437082</td>\n",
       "      <td>0.000468</td>\n",
       "      <td>0.000376</td>\n",
       "    </tr>\n",
       "  </tbody>\n",
       "</table>\n",
       "</div>"
      ],
      "text/plain": [
       "              variable  relative_importance  scaled_importance  percentage\n",
       "0       Credit_Product         47932.980469           1.000000    0.803028\n",
       "1              Vintage          4298.886719           0.089685    0.072020\n",
       "2           Occupation          3408.041504           0.071100    0.057095\n",
       "3            Is_Active          1483.279785           0.030945    0.024850\n",
       "4                  Age          1344.469849           0.028049    0.022524\n",
       "5         Channel_Code           572.789673           0.011950    0.009596\n",
       "6          Region_Code           532.656250           0.011113    0.008924\n",
       "7  Avg_Account_Balance            94.750282           0.001977    0.001587\n",
       "8               Gender            22.437082           0.000468    0.000376"
      ]
     },
     "metadata": {
      "tags": []
     },
     "output_type": "display_data"
    },
    {
     "name": "stdout",
     "output_type": "stream",
     "text": [
      "\n"
     ]
    }
   ],
   "source": [
    "print(gbm)"
   ]
  },
  {
   "cell_type": "code",
   "execution_count": 43,
   "metadata": {
    "colab": {
     "base_uri": "https://localhost:8080/",
     "height": 1000
    },
    "id": "J54DFXQKzvIE",
    "outputId": "a5a42293-6872-4524-c6fe-7139e763cac9"
   },
   "outputs": [
    {
     "name": "stdout",
     "output_type": "stream",
     "text": [
      "\n",
      "ModelMetricsBinomial: gbm\n",
      "** Reported on test data. **\n",
      "\n",
      "MSE: 0.1048522008949373\n",
      "RMSE: 0.32380889563898224\n",
      "LogLoss: 0.3471990590253146\n",
      "Mean Per-Class Error: 0.19374017487796036\n",
      "AUC: 0.8744153059597524\n",
      "AUCPR: 0.7550132601463361\n",
      "Gini: 0.7488306119195047\n",
      "\n",
      "Confusion Matrix (Act/Pred) for max f1 @ threshold = 0.31894418658509843: \n"
     ]
    },
    {
     "data": {
      "text/html": [
       "<div>\n",
       "<style scoped>\n",
       "    .dataframe tbody tr th:only-of-type {\n",
       "        vertical-align: middle;\n",
       "    }\n",
       "\n",
       "    .dataframe tbody tr th {\n",
       "        vertical-align: top;\n",
       "    }\n",
       "\n",
       "    .dataframe thead th {\n",
       "        text-align: right;\n",
       "    }\n",
       "</style>\n",
       "<table border=\"1\" class=\"dataframe\">\n",
       "  <thead>\n",
       "    <tr style=\"text-align: right;\">\n",
       "      <th></th>\n",
       "      <th></th>\n",
       "      <th>0</th>\n",
       "      <th>1</th>\n",
       "      <th>Error</th>\n",
       "      <th>Rate</th>\n",
       "    </tr>\n",
       "  </thead>\n",
       "  <tbody>\n",
       "    <tr>\n",
       "      <th>0</th>\n",
       "      <td>0</td>\n",
       "      <td>32995.0</td>\n",
       "      <td>4182.0</td>\n",
       "      <td>0.1125</td>\n",
       "      <td>(4182.0/37177.0)</td>\n",
       "    </tr>\n",
       "    <tr>\n",
       "      <th>1</th>\n",
       "      <td>1</td>\n",
       "      <td>3466.0</td>\n",
       "      <td>8440.0</td>\n",
       "      <td>0.2911</td>\n",
       "      <td>(3466.0/11906.0)</td>\n",
       "    </tr>\n",
       "    <tr>\n",
       "      <th>2</th>\n",
       "      <td>Total</td>\n",
       "      <td>36461.0</td>\n",
       "      <td>12622.0</td>\n",
       "      <td>0.1558</td>\n",
       "      <td>(7648.0/49083.0)</td>\n",
       "    </tr>\n",
       "  </tbody>\n",
       "</table>\n",
       "</div>"
      ],
      "text/plain": [
       "                0        1   Error               Rate\n",
       "0      0  32995.0   4182.0  0.1125   (4182.0/37177.0)\n",
       "1      1   3466.0   8440.0  0.2911   (3466.0/11906.0)\n",
       "2  Total  36461.0  12622.0  0.1558   (7648.0/49083.0)"
      ]
     },
     "metadata": {
      "tags": []
     },
     "output_type": "display_data"
    },
    {
     "name": "stdout",
     "output_type": "stream",
     "text": [
      "\n",
      "Maximum Metrics: Maximum metrics at their respective thresholds\n"
     ]
    },
    {
     "data": {
      "text/html": [
       "<div>\n",
       "<style scoped>\n",
       "    .dataframe tbody tr th:only-of-type {\n",
       "        vertical-align: middle;\n",
       "    }\n",
       "\n",
       "    .dataframe tbody tr th {\n",
       "        vertical-align: top;\n",
       "    }\n",
       "\n",
       "    .dataframe thead th {\n",
       "        text-align: right;\n",
       "    }\n",
       "</style>\n",
       "<table border=\"1\" class=\"dataframe\">\n",
       "  <thead>\n",
       "    <tr style=\"text-align: right;\">\n",
       "      <th></th>\n",
       "      <th>metric</th>\n",
       "      <th>threshold</th>\n",
       "      <th>value</th>\n",
       "      <th>idx</th>\n",
       "    </tr>\n",
       "  </thead>\n",
       "  <tbody>\n",
       "    <tr>\n",
       "      <th>0</th>\n",
       "      <td>max f1</td>\n",
       "      <td>0.318944</td>\n",
       "      <td>0.688193</td>\n",
       "      <td>215.0</td>\n",
       "    </tr>\n",
       "    <tr>\n",
       "      <th>1</th>\n",
       "      <td>max f2</td>\n",
       "      <td>0.154659</td>\n",
       "      <td>0.750000</td>\n",
       "      <td>295.0</td>\n",
       "    </tr>\n",
       "    <tr>\n",
       "      <th>2</th>\n",
       "      <td>max f0point5</td>\n",
       "      <td>0.567081</td>\n",
       "      <td>0.747372</td>\n",
       "      <td>119.0</td>\n",
       "    </tr>\n",
       "    <tr>\n",
       "      <th>3</th>\n",
       "      <td>max accuracy</td>\n",
       "      <td>0.478381</td>\n",
       "      <td>0.859381</td>\n",
       "      <td>148.0</td>\n",
       "    </tr>\n",
       "    <tr>\n",
       "      <th>4</th>\n",
       "      <td>max precision</td>\n",
       "      <td>0.983117</td>\n",
       "      <td>1.000000</td>\n",
       "      <td>0.0</td>\n",
       "    </tr>\n",
       "    <tr>\n",
       "      <th>5</th>\n",
       "      <td>max recall</td>\n",
       "      <td>0.024040</td>\n",
       "      <td>1.000000</td>\n",
       "      <td>399.0</td>\n",
       "    </tr>\n",
       "    <tr>\n",
       "      <th>6</th>\n",
       "      <td>max specificity</td>\n",
       "      <td>0.983117</td>\n",
       "      <td>1.000000</td>\n",
       "      <td>0.0</td>\n",
       "    </tr>\n",
       "    <tr>\n",
       "      <th>7</th>\n",
       "      <td>max absolute_mcc</td>\n",
       "      <td>0.397062</td>\n",
       "      <td>0.590756</td>\n",
       "      <td>183.0</td>\n",
       "    </tr>\n",
       "    <tr>\n",
       "      <th>8</th>\n",
       "      <td>max min_per_class_accuracy</td>\n",
       "      <td>0.204646</td>\n",
       "      <td>0.802889</td>\n",
       "      <td>268.0</td>\n",
       "    </tr>\n",
       "    <tr>\n",
       "      <th>9</th>\n",
       "      <td>max mean_per_class_accuracy</td>\n",
       "      <td>0.246634</td>\n",
       "      <td>0.806260</td>\n",
       "      <td>248.0</td>\n",
       "    </tr>\n",
       "    <tr>\n",
       "      <th>10</th>\n",
       "      <td>max tns</td>\n",
       "      <td>0.983117</td>\n",
       "      <td>37177.000000</td>\n",
       "      <td>0.0</td>\n",
       "    </tr>\n",
       "    <tr>\n",
       "      <th>11</th>\n",
       "      <td>max fns</td>\n",
       "      <td>0.983117</td>\n",
       "      <td>11879.000000</td>\n",
       "      <td>0.0</td>\n",
       "    </tr>\n",
       "    <tr>\n",
       "      <th>12</th>\n",
       "      <td>max fps</td>\n",
       "      <td>0.024040</td>\n",
       "      <td>37177.000000</td>\n",
       "      <td>399.0</td>\n",
       "    </tr>\n",
       "    <tr>\n",
       "      <th>13</th>\n",
       "      <td>max tps</td>\n",
       "      <td>0.024040</td>\n",
       "      <td>11906.000000</td>\n",
       "      <td>399.0</td>\n",
       "    </tr>\n",
       "    <tr>\n",
       "      <th>14</th>\n",
       "      <td>max tnr</td>\n",
       "      <td>0.983117</td>\n",
       "      <td>1.000000</td>\n",
       "      <td>0.0</td>\n",
       "    </tr>\n",
       "    <tr>\n",
       "      <th>15</th>\n",
       "      <td>max fnr</td>\n",
       "      <td>0.983117</td>\n",
       "      <td>0.997732</td>\n",
       "      <td>0.0</td>\n",
       "    </tr>\n",
       "    <tr>\n",
       "      <th>16</th>\n",
       "      <td>max fpr</td>\n",
       "      <td>0.024040</td>\n",
       "      <td>1.000000</td>\n",
       "      <td>399.0</td>\n",
       "    </tr>\n",
       "    <tr>\n",
       "      <th>17</th>\n",
       "      <td>max tpr</td>\n",
       "      <td>0.024040</td>\n",
       "      <td>1.000000</td>\n",
       "      <td>399.0</td>\n",
       "    </tr>\n",
       "  </tbody>\n",
       "</table>\n",
       "</div>"
      ],
      "text/plain": [
       "                         metric  threshold         value    idx\n",
       "0                        max f1   0.318944      0.688193  215.0\n",
       "1                        max f2   0.154659      0.750000  295.0\n",
       "2                  max f0point5   0.567081      0.747372  119.0\n",
       "3                  max accuracy   0.478381      0.859381  148.0\n",
       "4                 max precision   0.983117      1.000000    0.0\n",
       "5                    max recall   0.024040      1.000000  399.0\n",
       "6               max specificity   0.983117      1.000000    0.0\n",
       "7              max absolute_mcc   0.397062      0.590756  183.0\n",
       "8    max min_per_class_accuracy   0.204646      0.802889  268.0\n",
       "9   max mean_per_class_accuracy   0.246634      0.806260  248.0\n",
       "10                      max tns   0.983117  37177.000000    0.0\n",
       "11                      max fns   0.983117  11879.000000    0.0\n",
       "12                      max fps   0.024040  37177.000000  399.0\n",
       "13                      max tps   0.024040  11906.000000  399.0\n",
       "14                      max tnr   0.983117      1.000000    0.0\n",
       "15                      max fnr   0.983117      0.997732    0.0\n",
       "16                      max fpr   0.024040      1.000000  399.0\n",
       "17                      max tpr   0.024040      1.000000  399.0"
      ]
     },
     "metadata": {
      "tags": []
     },
     "output_type": "display_data"
    },
    {
     "name": "stdout",
     "output_type": "stream",
     "text": [
      "\n",
      "Gains/Lift Table: Avg response rate: 24.26 %, avg score: 23.88 %\n"
     ]
    },
    {
     "data": {
      "text/html": [
       "<div>\n",
       "<style scoped>\n",
       "    .dataframe tbody tr th:only-of-type {\n",
       "        vertical-align: middle;\n",
       "    }\n",
       "\n",
       "    .dataframe tbody tr th {\n",
       "        vertical-align: top;\n",
       "    }\n",
       "\n",
       "    .dataframe thead th {\n",
       "        text-align: right;\n",
       "    }\n",
       "</style>\n",
       "<table border=\"1\" class=\"dataframe\">\n",
       "  <thead>\n",
       "    <tr style=\"text-align: right;\">\n",
       "      <th></th>\n",
       "      <th>group</th>\n",
       "      <th>cumulative_data_fraction</th>\n",
       "      <th>lower_threshold</th>\n",
       "      <th>lift</th>\n",
       "      <th>cumulative_lift</th>\n",
       "      <th>response_rate</th>\n",
       "      <th>score</th>\n",
       "      <th>cumulative_response_rate</th>\n",
       "      <th>cumulative_score</th>\n",
       "      <th>capture_rate</th>\n",
       "      <th>cumulative_capture_rate</th>\n",
       "      <th>gain</th>\n",
       "      <th>cumulative_gain</th>\n",
       "      <th>kolmogorov_smirnov</th>\n",
       "    </tr>\n",
       "  </thead>\n",
       "  <tbody>\n",
       "    <tr>\n",
       "      <th>0</th>\n",
       "      <td>1</td>\n",
       "      <td>0.010003</td>\n",
       "      <td>0.968751</td>\n",
       "      <td>4.105751</td>\n",
       "      <td>4.105751</td>\n",
       "      <td>0.995927</td>\n",
       "      <td>0.976994</td>\n",
       "      <td>0.995927</td>\n",
       "      <td>0.976994</td>\n",
       "      <td>0.041072</td>\n",
       "      <td>0.041072</td>\n",
       "      <td>310.575082</td>\n",
       "      <td>310.575082</td>\n",
       "      <td>0.041018</td>\n",
       "    </tr>\n",
       "    <tr>\n",
       "      <th>1</th>\n",
       "      <td>2</td>\n",
       "      <td>0.020007</td>\n",
       "      <td>0.902101</td>\n",
       "      <td>3.946223</td>\n",
       "      <td>4.025987</td>\n",
       "      <td>0.957230</td>\n",
       "      <td>0.943359</td>\n",
       "      <td>0.976578</td>\n",
       "      <td>0.960176</td>\n",
       "      <td>0.039476</td>\n",
       "      <td>0.080548</td>\n",
       "      <td>294.622267</td>\n",
       "      <td>302.598674</td>\n",
       "      <td>0.079929</td>\n",
       "    </tr>\n",
       "    <tr>\n",
       "      <th>2</th>\n",
       "      <td>3</td>\n",
       "      <td>0.030072</td>\n",
       "      <td>0.861152</td>\n",
       "      <td>3.680246</td>\n",
       "      <td>3.910271</td>\n",
       "      <td>0.892713</td>\n",
       "      <td>0.873879</td>\n",
       "      <td>0.948509</td>\n",
       "      <td>0.931294</td>\n",
       "      <td>0.037040</td>\n",
       "      <td>0.117588</td>\n",
       "      <td>268.024610</td>\n",
       "      <td>291.027138</td>\n",
       "      <td>0.115543</td>\n",
       "    </tr>\n",
       "    <tr>\n",
       "      <th>3</th>\n",
       "      <td>4</td>\n",
       "      <td>0.040014</td>\n",
       "      <td>0.851933</td>\n",
       "      <td>3.480508</td>\n",
       "      <td>3.803487</td>\n",
       "      <td>0.844262</td>\n",
       "      <td>0.856426</td>\n",
       "      <td>0.922607</td>\n",
       "      <td>0.912691</td>\n",
       "      <td>0.034604</td>\n",
       "      <td>0.152192</td>\n",
       "      <td>248.050783</td>\n",
       "      <td>280.348695</td>\n",
       "      <td>0.148104</td>\n",
       "    </tr>\n",
       "    <tr>\n",
       "      <th>4</th>\n",
       "      <td>5</td>\n",
       "      <td>0.050017</td>\n",
       "      <td>0.844939</td>\n",
       "      <td>3.551600</td>\n",
       "      <td>3.753110</td>\n",
       "      <td>0.861507</td>\n",
       "      <td>0.848370</td>\n",
       "      <td>0.910387</td>\n",
       "      <td>0.899827</td>\n",
       "      <td>0.035528</td>\n",
       "      <td>0.187720</td>\n",
       "      <td>255.160040</td>\n",
       "      <td>275.310964</td>\n",
       "      <td>0.181803</td>\n",
       "    </tr>\n",
       "    <tr>\n",
       "      <th>5</th>\n",
       "      <td>6</td>\n",
       "      <td>0.100014</td>\n",
       "      <td>0.826433</td>\n",
       "      <td>3.536248</td>\n",
       "      <td>3.644701</td>\n",
       "      <td>0.857783</td>\n",
       "      <td>0.835217</td>\n",
       "      <td>0.884090</td>\n",
       "      <td>0.867529</td>\n",
       "      <td>0.176802</td>\n",
       "      <td>0.364522</td>\n",
       "      <td>253.624839</td>\n",
       "      <td>264.470111</td>\n",
       "      <td>0.349217</td>\n",
       "    </tr>\n",
       "    <tr>\n",
       "      <th>6</th>\n",
       "      <td>7</td>\n",
       "      <td>0.150113</td>\n",
       "      <td>0.509633</td>\n",
       "      <td>3.056282</td>\n",
       "      <td>3.448322</td>\n",
       "      <td>0.741358</td>\n",
       "      <td>0.722423</td>\n",
       "      <td>0.836455</td>\n",
       "      <td>0.819101</td>\n",
       "      <td>0.153116</td>\n",
       "      <td>0.517638</td>\n",
       "      <td>205.628156</td>\n",
       "      <td>244.832167</td>\n",
       "      <td>0.485226</td>\n",
       "    </tr>\n",
       "    <tr>\n",
       "      <th>7</th>\n",
       "      <td>8</td>\n",
       "      <td>0.200008</td>\n",
       "      <td>0.427999</td>\n",
       "      <td>1.954378</td>\n",
       "      <td>3.075635</td>\n",
       "      <td>0.474071</td>\n",
       "      <td>0.466394</td>\n",
       "      <td>0.746053</td>\n",
       "      <td>0.731113</td>\n",
       "      <td>0.097514</td>\n",
       "      <td>0.615152</td>\n",
       "      <td>95.437841</td>\n",
       "      <td>207.563480</td>\n",
       "      <td>0.548094</td>\n",
       "    </tr>\n",
       "    <tr>\n",
       "      <th>8</th>\n",
       "      <td>9</td>\n",
       "      <td>0.300919</td>\n",
       "      <td>0.253753</td>\n",
       "      <td>1.474061</td>\n",
       "      <td>2.538560</td>\n",
       "      <td>0.357561</td>\n",
       "      <td>0.336048</td>\n",
       "      <td>0.615775</td>\n",
       "      <td>0.598631</td>\n",
       "      <td>0.148749</td>\n",
       "      <td>0.763901</td>\n",
       "      <td>47.406099</td>\n",
       "      <td>153.855998</td>\n",
       "      <td>0.611252</td>\n",
       "    </tr>\n",
       "    <tr>\n",
       "      <th>9</th>\n",
       "      <td>10</td>\n",
       "      <td>0.400016</td>\n",
       "      <td>0.155162</td>\n",
       "      <td>0.835696</td>\n",
       "      <td>2.116704</td>\n",
       "      <td>0.202714</td>\n",
       "      <td>0.200341</td>\n",
       "      <td>0.513446</td>\n",
       "      <td>0.499961</td>\n",
       "      <td>0.082815</td>\n",
       "      <td>0.846716</td>\n",
       "      <td>-16.430353</td>\n",
       "      <td>111.670360</td>\n",
       "      <td>0.589756</td>\n",
       "    </tr>\n",
       "    <tr>\n",
       "      <th>10</th>\n",
       "      <td>11</td>\n",
       "      <td>0.500010</td>\n",
       "      <td>0.086980</td>\n",
       "      <td>0.481299</td>\n",
       "      <td>1.789649</td>\n",
       "      <td>0.116748</td>\n",
       "      <td>0.116000</td>\n",
       "      <td>0.434113</td>\n",
       "      <td>0.423175</td>\n",
       "      <td>0.048127</td>\n",
       "      <td>0.894843</td>\n",
       "      <td>-51.870063</td>\n",
       "      <td>78.964941</td>\n",
       "      <td>0.521279</td>\n",
       "    </tr>\n",
       "    <tr>\n",
       "      <th>11</th>\n",
       "      <td>12</td>\n",
       "      <td>0.600004</td>\n",
       "      <td>0.063802</td>\n",
       "      <td>0.283068</td>\n",
       "      <td>1.538570</td>\n",
       "      <td>0.068663</td>\n",
       "      <td>0.073478</td>\n",
       "      <td>0.373209</td>\n",
       "      <td>0.364896</td>\n",
       "      <td>0.028305</td>\n",
       "      <td>0.923148</td>\n",
       "      <td>-71.693214</td>\n",
       "      <td>53.856954</td>\n",
       "      <td>0.426631</td>\n",
       "    </tr>\n",
       "    <tr>\n",
       "      <th>12</th>\n",
       "      <td>13</td>\n",
       "      <td>0.699998</td>\n",
       "      <td>0.056384</td>\n",
       "      <td>0.192352</td>\n",
       "      <td>1.346264</td>\n",
       "      <td>0.046659</td>\n",
       "      <td>0.059045</td>\n",
       "      <td>0.326561</td>\n",
       "      <td>0.321206</td>\n",
       "      <td>0.019234</td>\n",
       "      <td>0.942382</td>\n",
       "      <td>-80.764825</td>\n",
       "      <td>34.626391</td>\n",
       "      <td>0.320008</td>\n",
       "    </tr>\n",
       "    <tr>\n",
       "      <th>13</th>\n",
       "      <td>14</td>\n",
       "      <td>0.801296</td>\n",
       "      <td>0.053919</td>\n",
       "      <td>0.222213</td>\n",
       "      <td>1.204164</td>\n",
       "      <td>0.053902</td>\n",
       "      <td>0.054944</td>\n",
       "      <td>0.292093</td>\n",
       "      <td>0.287546</td>\n",
       "      <td>0.022510</td>\n",
       "      <td>0.964892</td>\n",
       "      <td>-77.778729</td>\n",
       "      <td>20.416417</td>\n",
       "      <td>0.215988</td>\n",
       "    </tr>\n",
       "    <tr>\n",
       "      <th>14</th>\n",
       "      <td>15</td>\n",
       "      <td>0.900047</td>\n",
       "      <td>0.047929</td>\n",
       "      <td>0.217737</td>\n",
       "      <td>1.095936</td>\n",
       "      <td>0.052816</td>\n",
       "      <td>0.051521</td>\n",
       "      <td>0.265840</td>\n",
       "      <td>0.261650</td>\n",
       "      <td>0.021502</td>\n",
       "      <td>0.986393</td>\n",
       "      <td>-78.226303</td>\n",
       "      <td>9.593562</td>\n",
       "      <td>0.113999</td>\n",
       "    </tr>\n",
       "    <tr>\n",
       "      <th>15</th>\n",
       "      <td>16</td>\n",
       "      <td>1.000000</td>\n",
       "      <td>0.021019</td>\n",
       "      <td>0.136130</td>\n",
       "      <td>1.000000</td>\n",
       "      <td>0.033021</td>\n",
       "      <td>0.033469</td>\n",
       "      <td>0.242569</td>\n",
       "      <td>0.238842</td>\n",
       "      <td>0.013607</td>\n",
       "      <td>1.000000</td>\n",
       "      <td>-86.387036</td>\n",
       "      <td>0.000000</td>\n",
       "      <td>0.000000</td>\n",
       "    </tr>\n",
       "  </tbody>\n",
       "</table>\n",
       "</div>"
      ],
      "text/plain": [
       "    group  cumulative_data_fraction  ...  cumulative_gain  kolmogorov_smirnov\n",
       "0       1                  0.010003  ...       310.575082            0.041018\n",
       "1       2                  0.020007  ...       302.598674            0.079929\n",
       "2       3                  0.030072  ...       291.027138            0.115543\n",
       "3       4                  0.040014  ...       280.348695            0.148104\n",
       "4       5                  0.050017  ...       275.310964            0.181803\n",
       "5       6                  0.100014  ...       264.470111            0.349217\n",
       "6       7                  0.150113  ...       244.832167            0.485226\n",
       "7       8                  0.200008  ...       207.563480            0.548094\n",
       "8       9                  0.300919  ...       153.855998            0.611252\n",
       "9      10                  0.400016  ...       111.670360            0.589756\n",
       "10     11                  0.500010  ...        78.964941            0.521279\n",
       "11     12                  0.600004  ...        53.856954            0.426631\n",
       "12     13                  0.699998  ...        34.626391            0.320008\n",
       "13     14                  0.801296  ...        20.416417            0.215988\n",
       "14     15                  0.900047  ...         9.593562            0.113999\n",
       "15     16                  1.000000  ...         0.000000            0.000000\n",
       "\n",
       "[16 rows x 14 columns]"
      ]
     },
     "metadata": {
      "tags": []
     },
     "output_type": "display_data"
    },
    {
     "name": "stdout",
     "output_type": "stream",
     "text": [
      "\n",
      "\n"
     ]
    }
   ],
   "source": [
    "gbm_perf = gbm.model_performance(valid)\n",
    "print(gbm_perf)"
   ]
  },
  {
   "cell_type": "code",
   "execution_count": 44,
   "metadata": {
    "colab": {
     "base_uri": "https://localhost:8080/"
    },
    "id": "gynRiisTzvIF",
    "outputId": "ef3c6ef5-a195-42b5-efa8-4c3595ead144"
   },
   "outputs": [
    {
     "name": "stdout",
     "output_type": "stream",
     "text": [
      "gbm Model Build progress: |███████████████████████████████████████████████| 100%\n"
     ]
    }
   ],
   "source": [
    "gbm_tune = H2OGradientBoostingEstimator(\n",
    "    ntrees = 3000,\n",
    "    learn_rate = 0.01,\n",
    "    stopping_rounds = 20,\n",
    "    stopping_metric = \"AUC\",\n",
    "    col_sample_rate = 0.7,\n",
    "    sample_rate = 0.7,\n",
    "    seed = 1234\n",
    ")      \n",
    "gbm_tune.train(x=predictors, y=response, training_frame=train, validation_frame=valid)"
   ]
  },
  {
   "cell_type": "code",
   "execution_count": 45,
   "metadata": {
    "colab": {
     "base_uri": "https://localhost:8080/"
    },
    "id": "COPqqQCqzvIF",
    "outputId": "aaa5289f-498a-42f4-e30f-6a5f7aff4d06"
   },
   "outputs": [
    {
     "data": {
      "text/plain": [
       "0.8746046483468487"
      ]
     },
     "execution_count": 45,
     "metadata": {
      "tags": []
     },
     "output_type": "execute_result"
    }
   ],
   "source": [
    "gbm_tune.model_performance(valid).auc()"
   ]
  },
  {
   "cell_type": "code",
   "execution_count": 46,
   "metadata": {
    "colab": {
     "base_uri": "https://localhost:8080/"
    },
    "id": "e_tSAgk_zvIG",
    "outputId": "b425fa7c-3e76-473f-c2ae-43f1738a915d"
   },
   "outputs": [
    {
     "name": "stdout",
     "output_type": "stream",
     "text": [
      "gbm prediction progress: |████████████████████████████████████████████████| 100%\n"
     ]
    }
   ],
   "source": [
    "h2o_pred = gbm_tune.predict(h2o_test)"
   ]
  },
  {
   "cell_type": "code",
   "execution_count": 47,
   "metadata": {
    "id": "iUgBLL5ZzvIG"
   },
   "outputs": [],
   "source": [
    "pred_df = h2o.as_list(h2o_pred)"
   ]
  },
  {
   "cell_type": "code",
   "execution_count": 48,
   "metadata": {
    "colab": {
     "base_uri": "https://localhost:8080/",
     "height": 195
    },
    "id": "RhFrE1pDzvIH",
    "outputId": "7cb2e3ec-e4a1-423e-9a0a-03ff1b76f22d"
   },
   "outputs": [
    {
     "data": {
      "text/html": [
       "<div>\n",
       "<style scoped>\n",
       "    .dataframe tbody tr th:only-of-type {\n",
       "        vertical-align: middle;\n",
       "    }\n",
       "\n",
       "    .dataframe tbody tr th {\n",
       "        vertical-align: top;\n",
       "    }\n",
       "\n",
       "    .dataframe thead th {\n",
       "        text-align: right;\n",
       "    }\n",
       "</style>\n",
       "<table border=\"1\" class=\"dataframe\">\n",
       "  <thead>\n",
       "    <tr style=\"text-align: right;\">\n",
       "      <th></th>\n",
       "      <th>predict</th>\n",
       "      <th>p0</th>\n",
       "      <th>p1</th>\n",
       "    </tr>\n",
       "  </thead>\n",
       "  <tbody>\n",
       "    <tr>\n",
       "      <th>0</th>\n",
       "      <td>0</td>\n",
       "      <td>0.949575</td>\n",
       "      <td>0.050425</td>\n",
       "    </tr>\n",
       "    <tr>\n",
       "      <th>1</th>\n",
       "      <td>1</td>\n",
       "      <td>0.131988</td>\n",
       "      <td>0.868012</td>\n",
       "    </tr>\n",
       "    <tr>\n",
       "      <th>2</th>\n",
       "      <td>0</td>\n",
       "      <td>0.947692</td>\n",
       "      <td>0.052308</td>\n",
       "    </tr>\n",
       "    <tr>\n",
       "      <th>3</th>\n",
       "      <td>0</td>\n",
       "      <td>0.974465</td>\n",
       "      <td>0.025535</td>\n",
       "    </tr>\n",
       "    <tr>\n",
       "      <th>4</th>\n",
       "      <td>0</td>\n",
       "      <td>0.975430</td>\n",
       "      <td>0.024570</td>\n",
       "    </tr>\n",
       "  </tbody>\n",
       "</table>\n",
       "</div>"
      ],
      "text/plain": [
       "   predict        p0        p1\n",
       "0        0  0.949575  0.050425\n",
       "1        1  0.131988  0.868012\n",
       "2        0  0.947692  0.052308\n",
       "3        0  0.974465  0.025535\n",
       "4        0  0.975430  0.024570"
      ]
     },
     "execution_count": 48,
     "metadata": {
      "tags": []
     },
     "output_type": "execute_result"
    }
   ],
   "source": [
    "pred_df.head()"
   ]
  },
  {
   "cell_type": "code",
   "execution_count": 49,
   "metadata": {
    "id": "GPrc2rAEzvII"
   },
   "outputs": [],
   "source": [
    "test = pd.read_csv('/content/drive/MyDrive/CreditCardLeadPrediction_Jobathon/test_mSzZ8RL.csv')"
   ]
  },
  {
   "cell_type": "code",
   "execution_count": 50,
   "metadata": {
    "id": "TcdGxlTGzvII"
   },
   "outputs": [],
   "source": [
    "h2o_submission = pd.DataFrame({\n",
    "        \"ID\": test['ID'],\n",
    "        \"Is_Lead\": pred_df['predict']\n",
    "    })"
   ]
  },
  {
   "cell_type": "code",
   "execution_count": 51,
   "metadata": {
    "colab": {
     "base_uri": "https://localhost:8080/",
     "height": 195
    },
    "id": "M5u2zA_jzvII",
    "outputId": "c3d57cc6-69f4-43ae-a794-f81b1180c020"
   },
   "outputs": [
    {
     "data": {
      "text/html": [
       "<div>\n",
       "<style scoped>\n",
       "    .dataframe tbody tr th:only-of-type {\n",
       "        vertical-align: middle;\n",
       "    }\n",
       "\n",
       "    .dataframe tbody tr th {\n",
       "        vertical-align: top;\n",
       "    }\n",
       "\n",
       "    .dataframe thead th {\n",
       "        text-align: right;\n",
       "    }\n",
       "</style>\n",
       "<table border=\"1\" class=\"dataframe\">\n",
       "  <thead>\n",
       "    <tr style=\"text-align: right;\">\n",
       "      <th></th>\n",
       "      <th>ID</th>\n",
       "      <th>Is_Lead</th>\n",
       "    </tr>\n",
       "  </thead>\n",
       "  <tbody>\n",
       "    <tr>\n",
       "      <th>0</th>\n",
       "      <td>VBENBARO</td>\n",
       "      <td>0</td>\n",
       "    </tr>\n",
       "    <tr>\n",
       "      <th>1</th>\n",
       "      <td>CCMEWNKY</td>\n",
       "      <td>1</td>\n",
       "    </tr>\n",
       "    <tr>\n",
       "      <th>2</th>\n",
       "      <td>VK3KGA9M</td>\n",
       "      <td>0</td>\n",
       "    </tr>\n",
       "    <tr>\n",
       "      <th>3</th>\n",
       "      <td>TT8RPZVC</td>\n",
       "      <td>0</td>\n",
       "    </tr>\n",
       "    <tr>\n",
       "      <th>4</th>\n",
       "      <td>SHQZEYTZ</td>\n",
       "      <td>0</td>\n",
       "    </tr>\n",
       "  </tbody>\n",
       "</table>\n",
       "</div>"
      ],
      "text/plain": [
       "         ID  Is_Lead\n",
       "0  VBENBARO        0\n",
       "1  CCMEWNKY        1\n",
       "2  VK3KGA9M        0\n",
       "3  TT8RPZVC        0\n",
       "4  SHQZEYTZ        0"
      ]
     },
     "execution_count": 51,
     "metadata": {
      "tags": []
     },
     "output_type": "execute_result"
    }
   ],
   "source": [
    "h2o_submission.head()"
   ]
  },
  {
   "cell_type": "code",
   "execution_count": 52,
   "metadata": {
    "id": "81Ye0Ah8zvIJ"
   },
   "outputs": [],
   "source": [
    "h2o_submission.to_csv('/content/drive/MyDrive/CreditCardLeadPrediction_Jobathon/h2o_sub3.csv',index=False)"
   ]
  },
  {
   "cell_type": "markdown",
   "metadata": {},
   "source": [
    "<h3 style=\"font-family:Georgia, serif;color:blue\" align='Justify'>Buliding model using H2O AutoML</h3>"
   ]
  },
  {
   "cell_type": "code",
   "execution_count": 53,
   "metadata": {
    "colab": {
     "base_uri": "https://localhost:8080/",
     "height": 406
    },
    "id": "7o1sWd022xEG",
    "outputId": "852767be-1db1-41ff-abf2-b085b1b567df"
   },
   "outputs": [
    {
     "name": "stdout",
     "output_type": "stream",
     "text": [
      "Checking whether there is an H2O instance running at http://localhost:54321 . connected.\n"
     ]
    },
    {
     "data": {
      "text/html": [
       "<div style=\"overflow:auto\"><table style=\"width:50%\"><tr><td>H2O_cluster_uptime:</td>\n",
       "<td>19 mins 56 secs</td></tr>\n",
       "<tr><td>H2O_cluster_timezone:</td>\n",
       "<td>Etc/UTC</td></tr>\n",
       "<tr><td>H2O_data_parsing_timezone:</td>\n",
       "<td>UTC</td></tr>\n",
       "<tr><td>H2O_cluster_version:</td>\n",
       "<td>3.32.1.3</td></tr>\n",
       "<tr><td>H2O_cluster_version_age:</td>\n",
       "<td>10 days </td></tr>\n",
       "<tr><td>H2O_cluster_name:</td>\n",
       "<td>H2O_from_python_unknownUser_1mxggm</td></tr>\n",
       "<tr><td>H2O_cluster_total_nodes:</td>\n",
       "<td>1</td></tr>\n",
       "<tr><td>H2O_cluster_free_memory:</td>\n",
       "<td>3.107 Gb</td></tr>\n",
       "<tr><td>H2O_cluster_total_cores:</td>\n",
       "<td>2</td></tr>\n",
       "<tr><td>H2O_cluster_allowed_cores:</td>\n",
       "<td>2</td></tr>\n",
       "<tr><td>H2O_cluster_status:</td>\n",
       "<td>locked, healthy</td></tr>\n",
       "<tr><td>H2O_connection_url:</td>\n",
       "<td>http://localhost:54321</td></tr>\n",
       "<tr><td>H2O_connection_proxy:</td>\n",
       "<td>{\"http\": null, \"https\": null}</td></tr>\n",
       "<tr><td>H2O_internal_security:</td>\n",
       "<td>False</td></tr>\n",
       "<tr><td>H2O_API_Extensions:</td>\n",
       "<td>Amazon S3, XGBoost, Algos, AutoML, Core V3, TargetEncoder, Core V4</td></tr>\n",
       "<tr><td>Python_version:</td>\n",
       "<td>3.7.10 final</td></tr></table></div>"
      ],
      "text/plain": [
       "--------------------------  ------------------------------------------------------------------\n",
       "H2O_cluster_uptime:         19 mins 56 secs\n",
       "H2O_cluster_timezone:       Etc/UTC\n",
       "H2O_data_parsing_timezone:  UTC\n",
       "H2O_cluster_version:        3.32.1.3\n",
       "H2O_cluster_version_age:    10 days\n",
       "H2O_cluster_name:           H2O_from_python_unknownUser_1mxggm\n",
       "H2O_cluster_total_nodes:    1\n",
       "H2O_cluster_free_memory:    3.107 Gb\n",
       "H2O_cluster_total_cores:    2\n",
       "H2O_cluster_allowed_cores:  2\n",
       "H2O_cluster_status:         locked, healthy\n",
       "H2O_connection_url:         http://localhost:54321\n",
       "H2O_connection_proxy:       {\"http\": null, \"https\": null}\n",
       "H2O_internal_security:      False\n",
       "H2O_API_Extensions:         Amazon S3, XGBoost, Algos, AutoML, Core V3, TargetEncoder, Core V4\n",
       "Python_version:             3.7.10 final\n",
       "--------------------------  ------------------------------------------------------------------"
      ]
     },
     "metadata": {
      "tags": []
     },
     "output_type": "display_data"
    },
    {
     "name": "stdout",
     "output_type": "stream",
     "text": [
      "Parse progress: |█████████████████████████████████████████████████████████| 100%\n",
      "Parse progress: |█████████████████████████████████████████████████████████| 100%\n",
      "Number of rows in train, valid and test set :  147609 49083 49033\n"
     ]
    }
   ],
   "source": [
    "from h2o.automl import H2OAutoML\n",
    "h2o.init()\n",
    "\n",
    "h2o_AML_train = h2o.H2OFrame(df_train)\n",
    "h2o_AML_test = h2o.H2OFrame(df_test)\n",
    "\n",
    "AML_predictors = h2o_AML_train.columns[:-1]\n",
    "\n",
    "train_AML, valid_AML, test_AML = h2o_AML_train.split_frame(ratios=[0.6,0.2], seed=1234)\n",
    "response = \"Is_Lead\"\n",
    "train_AML[response] = train_AML[response].asfactor()\n",
    "valid_AML[response] = valid_AML[response].asfactor()\n",
    "test_AML[response] = test_AML[response].asfactor()\n",
    "print(\"Number of rows in train, valid and test set : \", train_AML.shape[0], valid_AML.shape[0], test_AML.shape[0])"
   ]
  },
  {
   "cell_type": "code",
   "execution_count": 54,
   "metadata": {
    "colab": {
     "base_uri": "https://localhost:8080/",
     "height": 289
    },
    "id": "jVuvNzNH3AO3",
    "outputId": "4fd1b43d-36e0-4299-a665-194713b00c87"
   },
   "outputs": [
    {
     "name": "stdout",
     "output_type": "stream",
     "text": [
      "AutoML progress: |████████████████████████████████████████████████████████| 100%\n"
     ]
    },
    {
     "data": {
      "text/html": [
       "<table>\n",
       "<thead>\n",
       "<tr><th>model_id                                           </th><th style=\"text-align: right;\">     auc</th><th style=\"text-align: right;\">  logloss</th><th style=\"text-align: right;\">   aucpr</th><th style=\"text-align: right;\">  mean_per_class_error</th><th style=\"text-align: right;\">    rmse</th><th style=\"text-align: right;\">     mse</th></tr>\n",
       "</thead>\n",
       "<tbody>\n",
       "<tr><td>StackedEnsemble_AllModels_AutoML_20210530_152949   </td><td style=\"text-align: right;\">0.873345</td><td style=\"text-align: right;\"> 0.343513</td><td style=\"text-align: right;\">0.74771 </td><td style=\"text-align: right;\">              0.206295</td><td style=\"text-align: right;\">0.321672</td><td style=\"text-align: right;\">0.103473</td></tr>\n",
       "<tr><td>StackedEnsemble_BestOfFamily_AutoML_20210530_152949</td><td style=\"text-align: right;\">0.873147</td><td style=\"text-align: right;\"> 0.343684</td><td style=\"text-align: right;\">0.747681</td><td style=\"text-align: right;\">              0.205484</td><td style=\"text-align: right;\">0.321752</td><td style=\"text-align: right;\">0.103525</td></tr>\n",
       "<tr><td>XGBoost_grid__1_AutoML_20210530_152949_model_18    </td><td style=\"text-align: right;\">0.872946</td><td style=\"text-align: right;\"> 0.344032</td><td style=\"text-align: right;\">0.746982</td><td style=\"text-align: right;\">              0.204683</td><td style=\"text-align: right;\">0.321936</td><td style=\"text-align: right;\">0.103643</td></tr>\n",
       "<tr><td>XGBoost_3_AutoML_20210530_152949                   </td><td style=\"text-align: right;\">0.872781</td><td style=\"text-align: right;\"> 0.34423 </td><td style=\"text-align: right;\">0.747011</td><td style=\"text-align: right;\">              0.206484</td><td style=\"text-align: right;\">0.321998</td><td style=\"text-align: right;\">0.103683</td></tr>\n",
       "<tr><td>XGBoost_grid__1_AutoML_20210530_152949_model_5     </td><td style=\"text-align: right;\">0.872781</td><td style=\"text-align: right;\"> 0.344203</td><td style=\"text-align: right;\">0.74672 </td><td style=\"text-align: right;\">              0.20515 </td><td style=\"text-align: right;\">0.322021</td><td style=\"text-align: right;\">0.103697</td></tr>\n",
       "<tr><td>GBM_1_AutoML_20210530_152949                       </td><td style=\"text-align: right;\">0.872579</td><td style=\"text-align: right;\"> 0.344537</td><td style=\"text-align: right;\">0.74658 </td><td style=\"text-align: right;\">              0.207189</td><td style=\"text-align: right;\">0.322103</td><td style=\"text-align: right;\">0.10375 </td></tr>\n",
       "<tr><td>GBM_grid__1_AutoML_20210530_152949_model_10        </td><td style=\"text-align: right;\">0.872497</td><td style=\"text-align: right;\"> 0.344882</td><td style=\"text-align: right;\">0.745309</td><td style=\"text-align: right;\">              0.207171</td><td style=\"text-align: right;\">0.322144</td><td style=\"text-align: right;\">0.103776</td></tr>\n",
       "<tr><td>GBM_grid__1_AutoML_20210530_152949_model_7         </td><td style=\"text-align: right;\">0.872396</td><td style=\"text-align: right;\"> 0.344715</td><td style=\"text-align: right;\">0.745012</td><td style=\"text-align: right;\">              0.206255</td><td style=\"text-align: right;\">0.322131</td><td style=\"text-align: right;\">0.103768</td></tr>\n",
       "<tr><td>GBM_2_AutoML_20210530_152949                       </td><td style=\"text-align: right;\">0.872325</td><td style=\"text-align: right;\"> 0.345106</td><td style=\"text-align: right;\">0.745568</td><td style=\"text-align: right;\">              0.206154</td><td style=\"text-align: right;\">0.322361</td><td style=\"text-align: right;\">0.103916</td></tr>\n",
       "<tr><td>GBM_grid__1_AutoML_20210530_152949_model_2         </td><td style=\"text-align: right;\">0.871863</td><td style=\"text-align: right;\"> 0.345996</td><td style=\"text-align: right;\">0.744619</td><td style=\"text-align: right;\">              0.204538</td><td style=\"text-align: right;\">0.322812</td><td style=\"text-align: right;\">0.104208</td></tr>\n",
       "</tbody>\n",
       "</table>"
      ]
     },
     "metadata": {
      "tags": []
     },
     "output_type": "display_data"
    },
    {
     "name": "stdout",
     "output_type": "stream",
     "text": [
      "\n",
      "generate predictions\n"
     ]
    }
   ],
   "source": [
    "# train the model for 2-3 hours instead of 20 seconds\n",
    "aml = H2OAutoML(max_runtime_secs = 3600, seed = 1) \n",
    "aml.train(x=AML_predictors, y =response, training_frame=train_AML)\n",
    "lb = aml.leaderboard\n",
    "print (lb)\n",
    "print(\"generate predictions\")"
   ]
  },
  {
   "cell_type": "code",
   "execution_count": 55,
   "metadata": {
    "colab": {
     "base_uri": "https://localhost:8080/"
    },
    "id": "jpQsTA743AR_",
    "outputId": "b83f59cf-d769-4b04-d00c-a251bba0feaa"
   },
   "outputs": [
    {
     "name": "stdout",
     "output_type": "stream",
     "text": [
      "stackedensemble prediction progress: |████████████████████████████████████| 100%\n"
     ]
    }
   ],
   "source": [
    "AML_pred = aml.leader.predict(h2o_AML_test)\n",
    "AML_pred = AML_pred.as_data_frame()"
   ]
  },
  {
   "cell_type": "code",
   "execution_count": 57,
   "metadata": {
    "colab": {
     "base_uri": "https://localhost:8080/",
     "height": 195
    },
    "id": "CYlDeM9YGMPK",
    "outputId": "505995ce-9e23-47fb-d8ee-cdeb6f4f8754"
   },
   "outputs": [
    {
     "data": {
      "text/html": [
       "<div>\n",
       "<style scoped>\n",
       "    .dataframe tbody tr th:only-of-type {\n",
       "        vertical-align: middle;\n",
       "    }\n",
       "\n",
       "    .dataframe tbody tr th {\n",
       "        vertical-align: top;\n",
       "    }\n",
       "\n",
       "    .dataframe thead th {\n",
       "        text-align: right;\n",
       "    }\n",
       "</style>\n",
       "<table border=\"1\" class=\"dataframe\">\n",
       "  <thead>\n",
       "    <tr style=\"text-align: right;\">\n",
       "      <th></th>\n",
       "      <th>predict</th>\n",
       "      <th>p0</th>\n",
       "      <th>p1</th>\n",
       "    </tr>\n",
       "  </thead>\n",
       "  <tbody>\n",
       "    <tr>\n",
       "      <th>0</th>\n",
       "      <td>0</td>\n",
       "      <td>0.954462</td>\n",
       "      <td>0.045538</td>\n",
       "    </tr>\n",
       "    <tr>\n",
       "      <th>1</th>\n",
       "      <td>1</td>\n",
       "      <td>0.136520</td>\n",
       "      <td>0.863480</td>\n",
       "    </tr>\n",
       "    <tr>\n",
       "      <th>2</th>\n",
       "      <td>0</td>\n",
       "      <td>0.946367</td>\n",
       "      <td>0.053633</td>\n",
       "    </tr>\n",
       "    <tr>\n",
       "      <th>3</th>\n",
       "      <td>0</td>\n",
       "      <td>0.978329</td>\n",
       "      <td>0.021671</td>\n",
       "    </tr>\n",
       "    <tr>\n",
       "      <th>4</th>\n",
       "      <td>0</td>\n",
       "      <td>0.979084</td>\n",
       "      <td>0.020916</td>\n",
       "    </tr>\n",
       "  </tbody>\n",
       "</table>\n",
       "</div>"
      ],
      "text/plain": [
       "   predict        p0        p1\n",
       "0        0  0.954462  0.045538\n",
       "1        1  0.136520  0.863480\n",
       "2        0  0.946367  0.053633\n",
       "3        0  0.978329  0.021671\n",
       "4        0  0.979084  0.020916"
      ]
     },
     "execution_count": 57,
     "metadata": {
      "tags": []
     },
     "output_type": "execute_result"
    }
   ],
   "source": [
    "AML_pred.head()"
   ]
  },
  {
   "cell_type": "code",
   "execution_count": 58,
   "metadata": {
    "id": "ZcH0OAk_3AUo"
   },
   "outputs": [],
   "source": [
    "AML_submission = pd.DataFrame({\n",
    "        \"ID\": test['ID'],\n",
    "        \"Is_Lead\": AML_pred['predict']\n",
    "    })"
   ]
  },
  {
   "cell_type": "code",
   "execution_count": 60,
   "metadata": {
    "id": "yQH0ANj33Agu"
   },
   "outputs": [],
   "source": [
    "AML_submission.to_csv('/content/drive/MyDrive/CreditCardLeadPrediction_Jobathon/h2o_AML_sub1.csv',index=False)"
   ]
  },
  {
   "cell_type": "markdown",
   "metadata": {
    "id": "F8NcMMtvGWfX"
   },
   "source": [
    "Personal details : \n",
    "\n",
    "Parthiban Jayachandran\n",
    "\n",
    "jparthibanbe@gmail.com\n",
    "\n",
    "+91 9500255911"
   ]
  },
  {
   "cell_type": "markdown",
   "metadata": {},
   "source": [
    "<h4 style=\"font-family:Georgia, serif;color:Red\" align='Left'> Thank you!!!</h4> "
   ]
  }
 ],
 "metadata": {
  "accelerator": "GPU",
  "colab": {
   "collapsed_sections": [],
   "name": "H2O_AML_Model.ipynb",
   "provenance": []
  },
  "kernelspec": {
   "display_name": "Python 3",
   "language": "python",
   "name": "python3"
  },
  "language_info": {
   "codemirror_mode": {
    "name": "ipython",
    "version": 3
   },
   "file_extension": ".py",
   "mimetype": "text/x-python",
   "name": "python",
   "nbconvert_exporter": "python",
   "pygments_lexer": "ipython3",
   "version": "3.7.6"
  }
 },
 "nbformat": 4,
 "nbformat_minor": 1
}
