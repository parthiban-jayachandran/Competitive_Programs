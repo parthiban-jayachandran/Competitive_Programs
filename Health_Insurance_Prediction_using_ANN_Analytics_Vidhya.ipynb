{
 "cells": [
  {
   "cell_type": "markdown",
   "metadata": {},
   "source": [
    "<h1 style='color:red' align='center'> Health Insurance Lead Prediction </h4>"
   ]
  },
  {
   "cell_type": "markdown",
   "metadata": {},
   "source": [
    "<h3 style='color:blue'> Importing the libraries </h3>"
   ]
  },
  {
   "cell_type": "code",
   "execution_count": 315,
   "metadata": {},
   "outputs": [],
   "source": [
    "import pandas as pd\n",
    "import numpy as np\n",
    "\n",
    "from sklearn.preprocessing import MinMaxScaler,LabelEncoder,StandardScaler\n",
    "from sklearn.decomposition import PCA\n",
    "from sklearn.discriminant_analysis import LinearDiscriminantAnalysis as LDA\n",
    "le = LabelEncoder()\n",
    "pca=PCA()\n",
    "sc=StandardScaler()\n",
    "\n",
    "import tensorflow as tf\n",
    "from tensorflow import keras\n",
    "\n",
    "import warnings\n",
    "warnings.filterwarnings('ignore')\n",
    "\n",
    "df_train = pd.read_csv('train_Df64byy.csv')\n",
    "df_test = pd.read_csv('test_YCcRUnU.csv')\n",
    "df_train.set_index('ID',inplace=True)\n",
    "df_test.set_index('ID',inplace=True)"
   ]
  },
  {
   "cell_type": "markdown",
   "metadata": {},
   "source": [
    "<h3 style = 'color : blue'> Exploratory Data Analysis </h3>"
   ]
  },
  {
   "cell_type": "code",
   "execution_count": 316,
   "metadata": {},
   "outputs": [
    {
     "data": {
      "text/html": [
       "<div>\n",
       "<style scoped>\n",
       "    .dataframe tbody tr th:only-of-type {\n",
       "        vertical-align: middle;\n",
       "    }\n",
       "\n",
       "    .dataframe tbody tr th {\n",
       "        vertical-align: top;\n",
       "    }\n",
       "\n",
       "    .dataframe thead th {\n",
       "        text-align: right;\n",
       "    }\n",
       "</style>\n",
       "<table border=\"1\" class=\"dataframe\">\n",
       "  <thead>\n",
       "    <tr style=\"text-align: right;\">\n",
       "      <th></th>\n",
       "      <th>ID</th>\n",
       "      <th>City_Code</th>\n",
       "      <th>Region_Code</th>\n",
       "      <th>Accomodation_Type</th>\n",
       "      <th>Reco_Insurance_Type</th>\n",
       "      <th>Upper_Age</th>\n",
       "      <th>Lower_Age</th>\n",
       "      <th>Is_Spouse</th>\n",
       "      <th>Health Indicator</th>\n",
       "      <th>Holding_Policy_Duration</th>\n",
       "      <th>Holding_Policy_Type</th>\n",
       "      <th>Reco_Policy_Cat</th>\n",
       "      <th>Reco_Policy_Premium</th>\n",
       "      <th>Response</th>\n",
       "    </tr>\n",
       "  </thead>\n",
       "  <tbody>\n",
       "    <tr>\n",
       "      <th>0</th>\n",
       "      <td>1</td>\n",
       "      <td>C3</td>\n",
       "      <td>3213</td>\n",
       "      <td>Rented</td>\n",
       "      <td>Individual</td>\n",
       "      <td>36</td>\n",
       "      <td>36</td>\n",
       "      <td>No</td>\n",
       "      <td>X1</td>\n",
       "      <td>14+</td>\n",
       "      <td>3.0</td>\n",
       "      <td>22</td>\n",
       "      <td>11628.0</td>\n",
       "      <td>0</td>\n",
       "    </tr>\n",
       "    <tr>\n",
       "      <th>1</th>\n",
       "      <td>2</td>\n",
       "      <td>C5</td>\n",
       "      <td>1117</td>\n",
       "      <td>Owned</td>\n",
       "      <td>Joint</td>\n",
       "      <td>75</td>\n",
       "      <td>22</td>\n",
       "      <td>No</td>\n",
       "      <td>X2</td>\n",
       "      <td>NaN</td>\n",
       "      <td>NaN</td>\n",
       "      <td>22</td>\n",
       "      <td>30510.0</td>\n",
       "      <td>0</td>\n",
       "    </tr>\n",
       "    <tr>\n",
       "      <th>2</th>\n",
       "      <td>3</td>\n",
       "      <td>C5</td>\n",
       "      <td>3732</td>\n",
       "      <td>Owned</td>\n",
       "      <td>Individual</td>\n",
       "      <td>32</td>\n",
       "      <td>32</td>\n",
       "      <td>No</td>\n",
       "      <td>NaN</td>\n",
       "      <td>1.0</td>\n",
       "      <td>1.0</td>\n",
       "      <td>19</td>\n",
       "      <td>7450.0</td>\n",
       "      <td>1</td>\n",
       "    </tr>\n",
       "    <tr>\n",
       "      <th>3</th>\n",
       "      <td>4</td>\n",
       "      <td>C24</td>\n",
       "      <td>4378</td>\n",
       "      <td>Owned</td>\n",
       "      <td>Joint</td>\n",
       "      <td>52</td>\n",
       "      <td>48</td>\n",
       "      <td>No</td>\n",
       "      <td>X1</td>\n",
       "      <td>14+</td>\n",
       "      <td>3.0</td>\n",
       "      <td>19</td>\n",
       "      <td>17780.0</td>\n",
       "      <td>0</td>\n",
       "    </tr>\n",
       "    <tr>\n",
       "      <th>4</th>\n",
       "      <td>5</td>\n",
       "      <td>C8</td>\n",
       "      <td>2190</td>\n",
       "      <td>Rented</td>\n",
       "      <td>Individual</td>\n",
       "      <td>44</td>\n",
       "      <td>44</td>\n",
       "      <td>No</td>\n",
       "      <td>X2</td>\n",
       "      <td>3.0</td>\n",
       "      <td>1.0</td>\n",
       "      <td>16</td>\n",
       "      <td>10404.0</td>\n",
       "      <td>0</td>\n",
       "    </tr>\n",
       "  </tbody>\n",
       "</table>\n",
       "</div>"
      ],
      "text/plain": [
       "   ID City_Code  Region_Code Accomodation_Type Reco_Insurance_Type  Upper_Age  \\\n",
       "0   1        C3         3213            Rented          Individual         36   \n",
       "1   2        C5         1117             Owned               Joint         75   \n",
       "2   3        C5         3732             Owned          Individual         32   \n",
       "3   4       C24         4378             Owned               Joint         52   \n",
       "4   5        C8         2190            Rented          Individual         44   \n",
       "\n",
       "   Lower_Age Is_Spouse Health Indicator Holding_Policy_Duration  \\\n",
       "0         36        No               X1                     14+   \n",
       "1         22        No               X2                     NaN   \n",
       "2         32        No              NaN                     1.0   \n",
       "3         48        No               X1                     14+   \n",
       "4         44        No               X2                     3.0   \n",
       "\n",
       "   Holding_Policy_Type  Reco_Policy_Cat  Reco_Policy_Premium  Response  \n",
       "0                  3.0               22              11628.0         0  \n",
       "1                  NaN               22              30510.0         0  \n",
       "2                  1.0               19               7450.0         1  \n",
       "3                  3.0               19              17780.0         0  \n",
       "4                  1.0               16              10404.0         0  "
      ]
     },
     "execution_count": 316,
     "metadata": {},
     "output_type": "execute_result"
    }
   ],
   "source": [
    "df_train.head()"
   ]
  },
  {
   "cell_type": "code",
   "execution_count": 317,
   "metadata": {},
   "outputs": [
    {
     "data": {
      "text/plain": [
       "Index(['ID', 'City_Code', 'Region_Code', 'Accomodation_Type',\n",
       "       'Reco_Insurance_Type', 'Upper_Age', 'Lower_Age', 'Is_Spouse',\n",
       "       'Health Indicator', 'Holding_Policy_Duration', 'Holding_Policy_Type',\n",
       "       'Reco_Policy_Cat', 'Reco_Policy_Premium', 'Response'],\n",
       "      dtype='object')"
      ]
     },
     "execution_count": 317,
     "metadata": {},
     "output_type": "execute_result"
    }
   ],
   "source": [
    "df_train.columns"
   ]
  },
  {
   "cell_type": "code",
   "execution_count": 318,
   "metadata": {},
   "outputs": [
    {
     "data": {
      "text/plain": [
       "ID                           int64\n",
       "City_Code                   object\n",
       "Region_Code                  int64\n",
       "Accomodation_Type           object\n",
       "Reco_Insurance_Type         object\n",
       "Upper_Age                    int64\n",
       "Lower_Age                    int64\n",
       "Is_Spouse                   object\n",
       "Health Indicator            object\n",
       "Holding_Policy_Duration     object\n",
       "Holding_Policy_Type        float64\n",
       "Reco_Policy_Cat              int64\n",
       "Reco_Policy_Premium        float64\n",
       "Response                     int64\n",
       "dtype: object"
      ]
     },
     "execution_count": 318,
     "metadata": {},
     "output_type": "execute_result"
    }
   ],
   "source": [
    "df_train.dtypes"
   ]
  },
  {
   "cell_type": "markdown",
   "metadata": {},
   "source": [
    "<h3 style='color:blue'> Altering the data for the best fit </h3>"
   ]
  },
  {
   "cell_type": "code",
   "execution_count": 319,
   "metadata": {},
   "outputs": [],
   "source": [
    "# Replacing the data as 0 and 1\n",
    "\n",
    "df_train['Accomodation_Type'].replace({'Rented':0, 'Owned':1},inplace=True)\n",
    "df_train['Reco_Insurance_Type'].replace({'Individual':0, 'Joint':1}, inplace=True)\n",
    "df_train['Is_Spouse'].replace({'No':0, 'Yes':1}, inplace=True)\n",
    "\n",
    "# Considered the 14+ as 15\n",
    "df_train['Holding_Policy_Duration'].replace({'14+' : 15}, inplace=True)\n",
    "df_train['Holding_Policy_Duration'].replace({'15' : 15}, inplace=True)\n",
    "\n",
    "# Converted the new value 15 into numeric value\n",
    "df_train['Holding_Policy_Duration'] = pd.to_numeric(df_train['Holding_Policy_Duration'],errors='coerce')\n",
    "\n",
    "df_train['Health Indicator']=df_train['Health Indicator'].fillna(method=\"ffill\")\n",
    "df_train['Holding_Policy_Type']=df_train['Holding_Policy_Type'].fillna(method=\"ffill\")\n",
    "df_train['Holding_Policy_Duration']=df_train['Holding_Policy_Duration'].fillna(method=\"ffill\")\n",
    "\n",
    "# Dropped the below columns\n",
    "df_train.drop(['ID','Region_Code'],axis=1,inplace=True)\n",
    "\n",
    "# Label encoded the below column\n",
    "df_train['Health Indicator']=le.fit_transform(df_train['Health Indicator'])\n",
    "df_train['City_Code']=le.fit_transform(df_train['City_Code'])\n",
    "\n",
    "# Converted the age between 0 to 4 accoring to the limit\n",
    "df_train.loc[df_train['Upper_Age'] <= 20, 'Upper_Age'] = 0\n",
    "df_train.loc[(df_train['Upper_Age'] > 20) & (df_train['Upper_Age'] <= 60), 'Upper_Age'] = 1\n",
    "df_train.loc[(df_train['Upper_Age'] > 60) & (df_train['Upper_Age'] <= 80), 'Upper_Age'] = 2\n",
    "df_train.loc[ df_train['Upper_Age'] > 80, 'Upper_Age'] = 3\n",
    "\n",
    "df_train.loc[df_train['Lower_Age'] <= 20, 'Lower_Age'] = 0\n",
    "df_train.loc[(df_train['Lower_Age'] > 20) & (df_train['Lower_Age'] <= 60), 'Lower_Age'] = 1\n",
    "df_train.loc[(df_train['Lower_Age'] > 60) & (df_train['Lower_Age'] <= 80), 'Lower_Age'] = 2\n",
    "df_train.loc[ df_train['Lower_Age'] > 80, 'Lower_Age'] = 3\n",
    "\n",
    "# Tried MinMaxScaler to convert the below column values between 0 to 1\n",
    "mms_cols = ['Reco_Policy_Cat','Reco_Policy_Premium','City_Code','Upper_Age','Lower_Age']\n",
    "mms=MinMaxScaler()\n",
    "df_train[mms_cols] = mms.fit_transform(df_train[mms_cols])"
   ]
  },
  {
   "cell_type": "markdown",
   "metadata": {},
   "source": [
    "<h3 style = 'color : blue'> Applying the above method in test data set also </h3>"
   ]
  },
  {
   "cell_type": "code",
   "execution_count": 320,
   "metadata": {},
   "outputs": [],
   "source": [
    "# Replacing the data as 0 and 1\n",
    "\n",
    "df_test['Accomodation_Type'].replace({'Rented':0, 'Owned':1},inplace=True)\n",
    "df_test['Reco_Insurance_Type'].replace({'Individual':0, 'Joint':1}, inplace=True)\n",
    "df_test['Is_Spouse'].replace({'No':0, 'Yes':1}, inplace=True)\n",
    "\n",
    "# Considered the 14+ as 15\n",
    "df_test['Holding_Policy_Duration'].replace({'14+' : 15}, inplace=True)\n",
    "df_test['Holding_Policy_Duration'].replace({'15' : 15}, inplace=True)\n",
    "\n",
    "# Converted the new value 15 into numeric value\n",
    "df_test['Holding_Policy_Duration'] = pd.to_numeric(df_test['Holding_Policy_Duration'],errors='coerce')\n",
    "\n",
    "df_test['Health Indicator']=df_test['Health Indicator'].fillna(method=\"ffill\")\n",
    "df_test['Holding_Policy_Type']=df_test['Holding_Policy_Type'].fillna(method=\"ffill\")\n",
    "df_test['Holding_Policy_Duration']=df_test['Holding_Policy_Duration'].fillna(method=\"ffill\")\n",
    "\n",
    "# Dropped the below columns\n",
    "df_test.drop(['ID','Region_Code'],axis=1,inplace=True)\n",
    "\n",
    "# Label encoded the below column\n",
    "df_test['Health Indicator']=le.fit_transform(df_test['Health Indicator'])\n",
    "df_test['City_Code']=le.fit_transform(df_test['City_Code'])\n",
    "\n",
    "# Converted the age between 0 to 3 accoring to the limit\n",
    "df_test.loc[df_test['Upper_Age'] <= 20, 'Upper_Age'] = 0\n",
    "df_test.loc[(df_test['Upper_Age'] > 20) & (df_test['Upper_Age'] <= 60), 'Upper_Age'] = 1\n",
    "df_test.loc[(df_test['Upper_Age'] > 60) & (df_test['Upper_Age'] <= 80), 'Upper_Age'] = 2\n",
    "df_test.loc[ df_test['Upper_Age'] > 80, 'Upper_Age'] = 3\n",
    "\n",
    "df_test.loc[df_test['Lower_Age'] <= 20, 'Lower_Age'] = 0\n",
    "df_test.loc[(df_test['Lower_Age'] > 20) & (df_test['Lower_Age'] <= 60), 'Lower_Age'] = 1\n",
    "df_test.loc[(df_test['Lower_Age'] > 60) & (df_test['Lower_Age'] <= 80), 'Lower_Age'] = 2\n",
    "df_test.loc[ df_test['Lower_Age'] > 80, 'Lower_Age'] = 3\n",
    "\n",
    "# Tried MinMaxScaler to convert the below column values between 0 to 1\n",
    "mms_cols = ['Reco_Policy_Cat','Reco_Policy_Premium','City_Code']\n",
    "mms=MinMaxScaler()\n",
    "df_test[mms_cols] = mms.fit_transform(df_test[mms_cols])\n",
    "\n"
   ]
  },
  {
   "cell_type": "code",
   "execution_count": 321,
   "metadata": {},
   "outputs": [
    {
     "data": {
      "text/plain": [
       "(50882, 12)"
      ]
     },
     "execution_count": 321,
     "metadata": {},
     "output_type": "execute_result"
    }
   ],
   "source": [
    "df_train.shape"
   ]
  },
  {
   "cell_type": "markdown",
   "metadata": {},
   "source": [
    "<h3 style = 'color : blue'> Checking datatypes and unique values before splitting the value </h3>"
   ]
  },
  {
   "cell_type": "code",
   "execution_count": 322,
   "metadata": {
    "scrolled": true
   },
   "outputs": [
    {
     "data": {
      "text/plain": [
       "City_Code                  float64\n",
       "Accomodation_Type            int64\n",
       "Reco_Insurance_Type          int64\n",
       "Upper_Age                  float64\n",
       "Lower_Age                  float64\n",
       "Is_Spouse                    int64\n",
       "Health Indicator             int32\n",
       "Holding_Policy_Duration    float64\n",
       "Holding_Policy_Type        float64\n",
       "Reco_Policy_Cat            float64\n",
       "Reco_Policy_Premium        float64\n",
       "Response                     int64\n",
       "dtype: object"
      ]
     },
     "execution_count": 322,
     "metadata": {},
     "output_type": "execute_result"
    }
   ],
   "source": [
    "df_train.dtypes"
   ]
  },
  {
   "cell_type": "code",
   "execution_count": 323,
   "metadata": {},
   "outputs": [
    {
     "name": "stdout",
     "output_type": "stream",
     "text": [
      "City_Code : [0.62857143 0.88571429 0.45714286 0.97142857 1.         0.\n",
      " 0.17142857 0.57142857 0.54285714 0.94285714 0.34285714 0.48571429\n",
      " 0.85714286 0.31428571 0.77142857 0.02857143 0.22857143 0.25714286\n",
      " 0.2        0.6        0.74285714 0.51428571 0.28571429 0.91428571\n",
      " 0.08571429 0.11428571 0.05714286 0.14285714 0.4        0.42857143\n",
      " 0.37142857 0.82857143 0.71428571 0.65714286 0.8        0.68571429]\n",
      "Accomodation_Type : [0 1]\n",
      "Reco_Insurance_Type : [0 1]\n",
      "Upper_Age : [0.5 1.  0. ]\n",
      "Lower_Age : [0.5 1.  0. ]\n",
      "Is_Spouse : [0 1]\n",
      "Health Indicator : [0 1 3 2 5 4 7 6 8]\n",
      "Holding_Policy_Duration : [15.  1.  3.  5.  9. 14.  7.  2. 11. 10.  8.  6.  4. 13. 12.]\n",
      "Holding_Policy_Type : [3. 1. 4. 2.]\n",
      "Reco_Policy_Cat : [1.         0.85714286 0.71428571 0.76190476 0.         0.80952381\n",
      " 0.95238095 0.57142857 0.9047619  0.38095238 0.04761905 0.14285714\n",
      " 0.52380952 0.23809524 0.61904762 0.47619048 0.0952381  0.33333333\n",
      " 0.28571429 0.42857143 0.66666667 0.19047619]\n",
      "Reco_Policy_Premium : [0.22760918 0.68735634 0.12588141 ... 0.57087343 0.09437454 0.22142468]\n",
      "Response : [0 1]\n"
     ]
    }
   ],
   "source": [
    "for i in df_train:\n",
    "    print(f'{i} : {df_train[i].unique()}')"
   ]
  },
  {
   "cell_type": "markdown",
   "metadata": {},
   "source": [
    "<h3 style='color : blue'> Splitting the dataframe into xtrain, ytrain </h3>"
   ]
  },
  {
   "cell_type": "code",
   "execution_count": 324,
   "metadata": {},
   "outputs": [],
   "source": [
    "xtrain=df_train.drop('Response',axis=1)\n",
    "ytrain=df_train['Response']"
   ]
  },
  {
   "cell_type": "code",
   "execution_count": 325,
   "metadata": {},
   "outputs": [
    {
     "data": {
      "text/plain": [
       "0    38673\n",
       "1    12209\n",
       "Name: Response, dtype: int64"
      ]
     },
     "execution_count": 325,
     "metadata": {},
     "output_type": "execute_result"
    }
   ],
   "source": [
    "ytrain.value_counts()"
   ]
  },
  {
   "cell_type": "markdown",
   "metadata": {},
   "source": [
    "<h3 style='color : blue'> Appling LDA to reduce the dimensionality </h3>"
   ]
  },
  {
   "cell_type": "code",
   "execution_count": 326,
   "metadata": {},
   "outputs": [
    {
     "data": {
      "text/plain": [
       "(50882, 11)"
      ]
     },
     "execution_count": 326,
     "metadata": {},
     "output_type": "execute_result"
    }
   ],
   "source": [
    "xtrain.shape"
   ]
  },
  {
   "cell_type": "code",
   "execution_count": 327,
   "metadata": {},
   "outputs": [],
   "source": [
    "xtest=df_test\n",
    "\n",
    "lda = LDA()\n",
    "xtrain = lda.fit_transform(xtrain,ytrain)\n",
    "xtest = lda.transform(xtest)\n",
    "\n",
    "xtrain = sc.fit_transform(xtrain,ytrain)\n",
    "xtest = sc.transform(xtest)"
   ]
  },
  {
   "cell_type": "code",
   "execution_count": 328,
   "metadata": {},
   "outputs": [
    {
     "data": {
      "text/plain": [
       "(50882, 1)"
      ]
     },
     "execution_count": 328,
     "metadata": {},
     "output_type": "execute_result"
    }
   ],
   "source": [
    "xtrain.shape"
   ]
  },
  {
   "cell_type": "markdown",
   "metadata": {},
   "source": [
    "<h3 style='color : blue'> Imbalanced dataset, so regularaizing it </h3>"
   ]
  },
  {
   "cell_type": "code",
   "execution_count": 329,
   "metadata": {},
   "outputs": [
    {
     "data": {
      "text/plain": [
       "1    38673\n",
       "0    38673\n",
       "Name: Response, dtype: int64"
      ]
     },
     "execution_count": 329,
     "metadata": {},
     "output_type": "execute_result"
    }
   ],
   "source": [
    "from imblearn.over_sampling import SMOTE\n",
    "smote = SMOTE(sampling_strategy='minority')\n",
    "x_train, y_train = smote.fit_sample(xtrain,ytrain)\n",
    "\n",
    "y_train.value_counts()"
   ]
  },
  {
   "cell_type": "markdown",
   "metadata": {},
   "source": [
    "<h3 style='color : blue'> Built an Artificial Neural Network to train the dataset </h3>"
   ]
  },
  {
   "cell_type": "code",
   "execution_count": 330,
   "metadata": {
    "scrolled": true
   },
   "outputs": [
    {
     "name": "stdout",
     "output_type": "stream",
     "text": [
      "Epoch 1/100\n",
      "2418/2418 [==============================] - 3s 1ms/step - loss: 0.6857 - accuracy: 0.5392\n",
      "Epoch 2/100\n",
      "2418/2418 [==============================] - 3s 1ms/step - loss: 0.6843 - accuracy: 0.5446\n",
      "Epoch 3/100\n",
      "2418/2418 [==============================] - 3s 1ms/step - loss: 0.6837 - accuracy: 0.5435\n",
      "Epoch 4/100\n",
      "2418/2418 [==============================] - 3s 1ms/step - loss: 0.6826 - accuracy: 0.5473\n",
      "Epoch 5/100\n",
      "2418/2418 [==============================] - 3s 1ms/step - loss: 0.6836 - accuracy: 0.5428\n",
      "Epoch 6/100\n",
      "2418/2418 [==============================] - 3s 1ms/step - loss: 0.6828 - accuracy: 0.5448\n",
      "Epoch 7/100\n",
      "2418/2418 [==============================] - 3s 1ms/step - loss: 0.6832 - accuracy: 0.5407\n",
      "Epoch 8/100\n",
      "2418/2418 [==============================] - 3s 1ms/step - loss: 0.6832 - accuracy: 0.5420\n",
      "Epoch 9/100\n",
      "2418/2418 [==============================] - 3s 1ms/step - loss: 0.6837 - accuracy: 0.5432\n",
      "Epoch 10/100\n",
      "2418/2418 [==============================] - 3s 1ms/step - loss: 0.6827 - accuracy: 0.5457\n",
      "Epoch 11/100\n",
      "2418/2418 [==============================] - 3s 1ms/step - loss: 0.6828 - accuracy: 0.5427\n",
      "Epoch 12/100\n",
      "2418/2418 [==============================] - 3s 1ms/step - loss: 0.6822 - accuracy: 0.5431\n",
      "Epoch 13/100\n",
      "2418/2418 [==============================] - 3s 1ms/step - loss: 0.6827 - accuracy: 0.5426\n",
      "Epoch 14/100\n",
      "2418/2418 [==============================] - 4s 2ms/step - loss: 0.6832 - accuracy: 0.5409\n",
      "Epoch 15/100\n",
      "2418/2418 [==============================] - 3s 1ms/step - loss: 0.6828 - accuracy: 0.5425\n",
      "Epoch 16/100\n",
      "2418/2418 [==============================] - 3s 1ms/step - loss: 0.6825 - accuracy: 0.5453\n",
      "Epoch 17/100\n",
      "2418/2418 [==============================] - 3s 1ms/step - loss: 0.6821 - accuracy: 0.5459\n",
      "Epoch 18/100\n",
      "2418/2418 [==============================] - 3s 1ms/step - loss: 0.6826 - accuracy: 0.5420\n",
      "Epoch 19/100\n",
      "2418/2418 [==============================] - 4s 2ms/step - loss: 0.6836 - accuracy: 0.5407\n",
      "Epoch 20/100\n",
      "2418/2418 [==============================] - 5s 2ms/step - loss: 0.6831 - accuracy: 0.5386\n",
      "Epoch 21/100\n",
      "2418/2418 [==============================] - 4s 2ms/step - loss: 0.6817 - accuracy: 0.5455\n",
      "Epoch 22/100\n",
      "2418/2418 [==============================] - 4s 1ms/step - loss: 0.6831 - accuracy: 0.5431\n",
      "Epoch 23/100\n",
      "2418/2418 [==============================] - 5s 2ms/step - loss: 0.6812 - accuracy: 0.5471: 0s - loss: 0\n",
      "Epoch 24/100\n",
      "2418/2418 [==============================] - 5s 2ms/step - loss: 0.6819 - accuracy: 0.5426\n",
      "Epoch 25/100\n",
      "2418/2418 [==============================] - 4s 2ms/step - loss: 0.6836 - accuracy: 0.5429\n",
      "Epoch 26/100\n",
      "2418/2418 [==============================] - 4s 2ms/step - loss: 0.6834 - accuracy: 0.5380\n",
      "Epoch 27/100\n",
      "2418/2418 [==============================] - 3s 1ms/step - loss: 0.6818 - accuracy: 0.5450\n",
      "Epoch 28/100\n",
      "2418/2418 [==============================] - 3s 1ms/step - loss: 0.6833 - accuracy: 0.5382\n",
      "Epoch 29/100\n",
      "2418/2418 [==============================] - 3s 1ms/step - loss: 0.6824 - accuracy: 0.5415\n",
      "Epoch 30/100\n",
      "2418/2418 [==============================] - 3s 1ms/step - loss: 0.6823 - accuracy: 0.5414\n",
      "Epoch 31/100\n",
      "2418/2418 [==============================] - 3s 1ms/step - loss: 0.6835 - accuracy: 0.5399\n",
      "Epoch 32/100\n",
      "2418/2418 [==============================] - 3s 1ms/step - loss: 0.6822 - accuracy: 0.5428\n",
      "Epoch 33/100\n",
      "2418/2418 [==============================] - 4s 1ms/step - loss: 0.6830 - accuracy: 0.5424\n",
      "Epoch 34/100\n",
      "2418/2418 [==============================] - 3s 1ms/step - loss: 0.6823 - accuracy: 0.5437\n",
      "Epoch 35/100\n",
      "2418/2418 [==============================] - 4s 1ms/step - loss: 0.6831 - accuracy: 0.5405\n",
      "Epoch 36/100\n",
      "2418/2418 [==============================] - 5s 2ms/step - loss: 0.6825 - accuracy: 0.5413\n",
      "Epoch 37/100\n",
      "2418/2418 [==============================] - 5s 2ms/step - loss: 0.6836 - accuracy: 0.5413\n",
      "Epoch 38/100\n",
      "2418/2418 [==============================] - 4s 2ms/step - loss: 0.6819 - accuracy: 0.5407\n",
      "Epoch 39/100\n",
      "2418/2418 [==============================] - 4s 2ms/step - loss: 0.6819 - accuracy: 0.5412\n",
      "Epoch 40/100\n",
      "2418/2418 [==============================] - 4s 2ms/step - loss: 0.6813 - accuracy: 0.5468\n",
      "Epoch 41/100\n",
      "2418/2418 [==============================] - 3s 1ms/step - loss: 0.6819 - accuracy: 0.5438\n",
      "Epoch 42/100\n",
      "2418/2418 [==============================] - 3s 1ms/step - loss: 0.6823 - accuracy: 0.5399\n",
      "Epoch 43/100\n",
      "2418/2418 [==============================] - 3s 1ms/step - loss: 0.6825 - accuracy: 0.5448\n",
      "Epoch 44/100\n",
      "2418/2418 [==============================] - 3s 1ms/step - loss: 0.6825 - accuracy: 0.5435\n",
      "Epoch 45/100\n",
      "2418/2418 [==============================] - 4s 1ms/step - loss: 0.6824 - accuracy: 0.5442\n",
      "Epoch 46/100\n",
      "2418/2418 [==============================] - 3s 1ms/step - loss: 0.6823 - accuracy: 0.5412\n",
      "Epoch 47/100\n",
      "2418/2418 [==============================] - 3s 1ms/step - loss: 0.6815 - accuracy: 0.5426\n",
      "Epoch 48/100\n",
      "2418/2418 [==============================] - 3s 1ms/step - loss: 0.6817 - accuracy: 0.5440\n",
      "Epoch 49/100\n",
      "2418/2418 [==============================] - 3s 1ms/step - loss: 0.6822 - accuracy: 0.5429\n",
      "Epoch 50/100\n",
      "2418/2418 [==============================] - 3s 1ms/step - loss: 0.6820 - accuracy: 0.5448\n",
      "Epoch 51/100\n",
      "2418/2418 [==============================] - 3s 1ms/step - loss: 0.6812 - accuracy: 0.5448\n",
      "Epoch 52/100\n",
      "2418/2418 [==============================] - 3s 1ms/step - loss: 0.6821 - accuracy: 0.5407\n",
      "Epoch 53/100\n",
      "2418/2418 [==============================] - 3s 1ms/step - loss: 0.6834 - accuracy: 0.5389\n",
      "Epoch 54/100\n",
      "2418/2418 [==============================] - 3s 1ms/step - loss: 0.6814 - accuracy: 0.5445\n",
      "Epoch 55/100\n",
      "2418/2418 [==============================] - 3s 1ms/step - loss: 0.6824 - accuracy: 0.5433\n",
      "Epoch 56/100\n",
      "2418/2418 [==============================] - 3s 1ms/step - loss: 0.6822 - accuracy: 0.5413\n",
      "Epoch 57/100\n",
      "2418/2418 [==============================] - 3s 1ms/step - loss: 0.6813 - accuracy: 0.5438\n",
      "Epoch 58/100\n",
      "2418/2418 [==============================] - 3s 1ms/step - loss: 0.6818 - accuracy: 0.5462\n",
      "Epoch 59/100\n",
      "2418/2418 [==============================] - 3s 1ms/step - loss: 0.6827 - accuracy: 0.5397\n",
      "Epoch 60/100\n",
      "2418/2418 [==============================] - 3s 1ms/step - loss: 0.6820 - accuracy: 0.5431\n",
      "Epoch 61/100\n",
      "2418/2418 [==============================] - 3s 1ms/step - loss: 0.6823 - accuracy: 0.5413\n",
      "Epoch 62/100\n",
      "2418/2418 [==============================] - 4s 2ms/step - loss: 0.6818 - accuracy: 0.5443\n",
      "Epoch 63/100\n",
      "2418/2418 [==============================] - 4s 2ms/step - loss: 0.6821 - accuracy: 0.5401\n",
      "Epoch 64/100\n",
      "2418/2418 [==============================] - 4s 2ms/step - loss: 0.6821 - accuracy: 0.5426\n",
      "Epoch 65/100\n",
      "2418/2418 [==============================] - 4s 1ms/step - loss: 0.6808 - accuracy: 0.5464\n",
      "Epoch 66/100\n",
      "2418/2418 [==============================] - 3s 1ms/step - loss: 0.6821 - accuracy: 0.5430\n",
      "Epoch 67/100\n",
      "2418/2418 [==============================] - 4s 2ms/step - loss: 0.6825 - accuracy: 0.5414\n",
      "Epoch 68/100\n",
      "2418/2418 [==============================] - 4s 2ms/step - loss: 0.6827 - accuracy: 0.5395\n",
      "Epoch 69/100\n",
      "2418/2418 [==============================] - 3s 1ms/step - loss: 0.6820 - accuracy: 0.5419\n",
      "Epoch 70/100\n",
      "2418/2418 [==============================] - ETA: 0s - loss: 0.6817 - accuracy: 0.54 - 3s 1ms/step - loss: 0.6817 - accuracy: 0.5471\n",
      "Epoch 71/100\n",
      "2418/2418 [==============================] - 3s 1ms/step - loss: 0.6817 - accuracy: 0.5473\n",
      "Epoch 72/100\n",
      "2418/2418 [==============================] - 3s 1ms/step - loss: 0.6822 - accuracy: 0.5437\n",
      "Epoch 73/100\n",
      "2418/2418 [==============================] - 3s 1ms/step - loss: 0.6827 - accuracy: 0.5440\n",
      "Epoch 74/100\n",
      "2418/2418 [==============================] - 3s 1ms/step - loss: 0.6826 - accuracy: 0.5413\n",
      "Epoch 75/100\n",
      "2418/2418 [==============================] - 4s 2ms/step - loss: 0.6817 - accuracy: 0.5423\n",
      "Epoch 76/100\n",
      "2418/2418 [==============================] - 4s 2ms/step - loss: 0.6831 - accuracy: 0.5423\n",
      "Epoch 77/100\n",
      "2418/2418 [==============================] - 4s 2ms/step - loss: 0.6824 - accuracy: 0.5425\n",
      "Epoch 78/100\n",
      "2418/2418 [==============================] - 3s 1ms/step - loss: 0.6828 - accuracy: 0.5421\n",
      "Epoch 79/100\n",
      "2418/2418 [==============================] - 3s 1ms/step - loss: 0.6816 - accuracy: 0.5462\n",
      "Epoch 80/100\n",
      "2418/2418 [==============================] - 3s 1ms/step - loss: 0.6822 - accuracy: 0.5423\n",
      "Epoch 81/100\n",
      "2418/2418 [==============================] - ETA: 0s - loss: 0.6826 - accuracy: 0.54 - 4s 1ms/step - loss: 0.6826 - accuracy: 0.5420\n",
      "Epoch 82/100\n",
      "2418/2418 [==============================] - 4s 2ms/step - loss: 0.6813 - accuracy: 0.5430\n",
      "Epoch 83/100\n",
      "2418/2418 [==============================] - 4s 2ms/step - loss: 0.6822 - accuracy: 0.5431\n",
      "Epoch 84/100\n",
      "2418/2418 [==============================] - 5s 2ms/step - loss: 0.6824 - accuracy: 0.5429\n",
      "Epoch 85/100\n",
      "2418/2418 [==============================] - 3s 1ms/step - loss: 0.6821 - accuracy: 0.5473\n",
      "Epoch 86/100\n",
      "2418/2418 [==============================] - 3s 1ms/step - loss: 0.6832 - accuracy: 0.5427\n",
      "Epoch 87/100\n",
      "2418/2418 [==============================] - 3s 1ms/step - loss: 0.6817 - accuracy: 0.5442\n",
      "Epoch 88/100\n",
      "2418/2418 [==============================] - 3s 1ms/step - loss: 0.6808 - accuracy: 0.5458\n",
      "Epoch 89/100\n",
      "2418/2418 [==============================] - 4s 2ms/step - loss: 0.6827 - accuracy: 0.5413\n",
      "Epoch 90/100\n",
      "2418/2418 [==============================] - 4s 1ms/step - loss: 0.6817 - accuracy: 0.5457\n",
      "Epoch 91/100\n",
      "2418/2418 [==============================] - 3s 1ms/step - loss: 0.6823 - accuracy: 0.5436\n",
      "Epoch 92/100\n",
      "2418/2418 [==============================] - 5s 2ms/step - loss: 0.6821 - accuracy: 0.5413\n",
      "Epoch 93/100\n",
      "2418/2418 [==============================] - 4s 2ms/step - loss: 0.6816 - accuracy: 0.5434\n",
      "Epoch 94/100\n",
      "2418/2418 [==============================] - 5s 2ms/step - loss: 0.6822 - accuracy: 0.5429\n",
      "Epoch 95/100\n",
      "2418/2418 [==============================] - 5s 2ms/step - loss: 0.6819 - accuracy: 0.5408\n",
      "Epoch 96/100\n",
      "2418/2418 [==============================] - 4s 2ms/step - loss: 0.6820 - accuracy: 0.5459\n",
      "Epoch 97/100\n",
      "2418/2418 [==============================] - 4s 1ms/step - loss: 0.6816 - accuracy: 0.5464\n",
      "Epoch 98/100\n",
      "2418/2418 [==============================] - 3s 1ms/step - loss: 0.6827 - accuracy: 0.5423\n",
      "Epoch 99/100\n",
      "2418/2418 [==============================] - 3s 1ms/step - loss: 0.6820 - accuracy: 0.5436\n",
      "Epoch 100/100\n",
      "2418/2418 [==============================] - 3s 1ms/step - loss: 0.6832 - accuracy: 0.5402\n"
     ]
    },
    {
     "data": {
      "text/plain": [
       "<tensorflow.python.keras.callbacks.History at 0x20ac8879488>"
      ]
     },
     "execution_count": 330,
     "metadata": {},
     "output_type": "execute_result"
    }
   ],
   "source": [
    "ann = keras.Sequential([\n",
    "    keras.layers.Dense(1, input_shape=(1,),activation='relu'),\n",
    "    keras.layers.Dropout(0.2),\n",
    "    keras.layers.Dense(8,activation='relu'),\n",
    "    keras.layers.Dropout(0.2),\n",
    "    keras.layers.Dense(1,activation='sigmoid')\n",
    "])\n",
    "\n",
    "ann.compile(optimizer='adam',\n",
    "           loss='binary_crossentropy',\n",
    "           metrics=['accuracy'])\n",
    "\n",
    "ann.fit(x_train, y_train,epochs=100)"
   ]
  },
  {
   "cell_type": "markdown",
   "metadata": {},
   "source": [
    "<h3 style='color : blue'> Predicting the output for the test dataset </h3>"
   ]
  },
  {
   "cell_type": "code",
   "execution_count": 331,
   "metadata": {},
   "outputs": [],
   "source": [
    "y_pred_nn = ann.predict(xtest)\n",
    "y_pred_nn = np.round(y_pred_nn).astype(int)"
   ]
  },
  {
   "cell_type": "code",
   "execution_count": 332,
   "metadata": {},
   "outputs": [],
   "source": [
    "y_pred_nn = y_pred_nn.flatten()"
   ]
  },
  {
   "cell_type": "markdown",
   "metadata": {},
   "source": [
    "<h3 style='color : blue'> Creating a new dataframe for the submission </h3>"
   ]
  },
  {
   "cell_type": "code",
   "execution_count": 333,
   "metadata": {},
   "outputs": [
    {
     "data": {
      "text/plain": [
       "1    17199\n",
       "0     4606\n",
       "Name: Response, dtype: int64"
      ]
     },
     "execution_count": 333,
     "metadata": {},
     "output_type": "execute_result"
    }
   ],
   "source": [
    "testData = pd.read_csv('test_YCcRUnU.csv')\n",
    "ANN_Submission = pd.DataFrame({\n",
    "        \"ID\": testData['ID'],\n",
    "        \"Response\": y_pred_nn\n",
    "    })\n",
    "\n",
    "ANN_Submission['Response'].value_counts()"
   ]
  },
  {
   "cell_type": "code",
   "execution_count": 334,
   "metadata": {},
   "outputs": [],
   "source": [
    "ANN_Submission.to_csv('Health_Insurance_Lead_Prediction.csv',index=False)"
   ]
  },
  {
   "cell_type": "markdown",
   "metadata": {},
   "source": [
    "<h3 style='color : Red'> Thank you!!! </h3>"
   ]
  },
  {
   "cell_type": "markdown",
   "metadata": {},
   "source": [
    "*** End of the file"
   ]
  }
 ],
 "metadata": {
  "kernelspec": {
   "display_name": "Python 3",
   "language": "python",
   "name": "python3"
  },
  "language_info": {
   "codemirror_mode": {
    "name": "ipython",
    "version": 3
   },
   "file_extension": ".py",
   "mimetype": "text/x-python",
   "name": "python",
   "nbconvert_exporter": "python",
   "pygments_lexer": "ipython3",
   "version": "3.7.6"
  }
 },
 "nbformat": 4,
 "nbformat_minor": 4
}
